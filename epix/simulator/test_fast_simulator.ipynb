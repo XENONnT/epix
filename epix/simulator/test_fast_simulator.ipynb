{
 "cells": [
  {
   "cell_type": "code",
   "execution_count": null,
   "metadata": {
    "collapsed": false,
    "jupyter": {
     "outputs_hidden": false
    }
   },
   "outputs": [],
   "source": [
    "import time\n",
    "import pandas as pd\n",
    "import straxen\n",
    "import epix\n",
    "from epix.simulator.fast_simulator import StraxSimulator\n",
    "\n",
    "print(f'epix version : {epix.__version__}')"
   ]
  },
  {
   "cell_type": "code",
   "execution_count": null,
   "metadata": {},
   "outputs": [],
   "source": [
    "def monitor_time(prev_time, task):\n",
    "    t = time.time()\n",
    "    print(f'It took {(t - prev_time):.4f} sec to {task}')\n",
    "    return t"
   ]
  },
  {
   "cell_type": "code",
   "execution_count": null,
   "metadata": {},
   "outputs": [],
   "source": [
    "# MC output file as an input for epix/fast_simulator\n",
    "\n",
    "raw_data_dir='/project2/lgrandi/pkavrigin/'\n",
    "raw_data_filename='TopUTube_AmBe_100Primaries_WithNVeto.root'"
   ]
  },
  {
   "cell_type": "code",
   "execution_count": null,
   "metadata": {},
   "outputs": [],
   "source": [
    "%rm -r './strax_data'\n",
    "\n",
    "st = straxen.contexts.xenonnt_simulation()\n",
    "run_id = '1'\n",
    "st.register(StraxSimulator)\n",
    "st.set_config=(dict(nchunk=1, event_rate=5, chunk_size=500,))\n",
    "\n",
    "# fax config\n",
    "\n",
    "nt_config=straxen.get_resource('/home/pkavrigin/g4-analysis/private_nt_aux_files/\\\n",
    "sim_files/fax_config_nt_low_field.json', fmt='json')\n",
    "\n",
    "# epix config\n",
    "\n",
    "epix_args={'path':raw_data_dir,\n",
    "           'file_name':raw_data_filename, \n",
    "           'debug':True,           \n",
    "           'entry_start':0,\n",
    "           'entry_stop':None,\n",
    "           'cut_by_eventid':False,\n",
    "           'micro_separation_time':10.0,\n",
    "           'micro_separation':0.005,\n",
    "           'tag_cluster_by':'time',\n",
    "           'max_delay':1e-7,\n",
    "           'source_rate':-1}\n",
    "\n",
    "# configuration files; to be moved into the plugin\n",
    "\n",
    "configuration_files={'s1_relative_lce_map':straxen.pax_file('XENON1T_s1_xyz_lce_true_kr83m_SR1_pax-680_fdc-3d_v0.json'),\n",
    "                     's2_xy_correction_map':straxen.pax_file('XENON1T_s2_xy_ly_SR1_v2.2.json'),\n",
    "                     'photon_area_distribution':'XENONnT_spe_distributions_20210305.csv',\n",
    "                     's1_pattern_map':'XENONnT_s1_xyz_patterns_LCE_corrected_qes_MCva43fa9b_wires.pkl',\n",
    "                     's2_pattern_map':'XENONnT_s2_xy_patterns_LCE_corrected_qes_MCva43fa9b_wires.pkl',\n",
    "                     'nv_pmt_qe':'nveto_pmt_qe.json'}\n",
    "\n",
    "st.config.update(dict(fax_config=nt_config,\n",
    "                      g4_file=raw_data_dir+raw_data_filename,\n",
    "                      epix_config=epix_args,\n",
    "                      xy_resolution=0.5,\n",
    "                      z_resolution=0.5,\n",
    "                      configuration_files=configuration_files))"
   ]
  },
  {
   "cell_type": "code",
   "execution_count": null,
   "metadata": {},
   "outputs": [],
   "source": [
    "#st.config\n",
    "#st.make(run_id, 'events_full_simmed')\n",
    "\n",
    "sim=StraxSimulator()\n",
    "sim.config=st.config\n",
    "sim.setup()\n",
    "\n",
    "t_start = time.time()\n",
    "output_sim, output_nveto_hits=sim.compute()\n",
    "_=monitor_time(t_start, 'run epix and compute.')"
   ]
  },
  {
   "cell_type": "code",
   "execution_count": null,
   "metadata": {},
   "outputs": [],
   "source": [
    "# Simulator output, 'events_full_simmed'\n",
    "\n",
    "out_df=pd.DataFrame(output_sim)\n",
    "out_df.sort_values(by='s1_area', ascending=False).head()"
   ]
  },
  {
   "cell_type": "code",
   "execution_count": null,
   "metadata": {},
   "outputs": [],
   "source": [
    "# Simulator output, nVeto hits: each event has a list of pairs [timestamp, pmt_channel]; each pair corresponds to a generated photoelectron\n",
    "\n",
    "output_nveto_df=pd.DataFrame(output_nveto_hits)\n",
    "output_nveto_df[output_nveto_df.hits.apply(lambda x: len(x) > 0)].head()"
   ]
  },
  {
   "cell_type": "code",
   "execution_count": null,
   "metadata": {},
   "outputs": [],
   "source": []
  }
 ],
 "metadata": {
  "kernelspec": {
   "display_name": "Python 3",
   "language": "python",
   "name": "python3"
  },
  "language_info": {
   "codemirror_mode": {
    "name": "ipython",
    "version": 3
   },
   "file_extension": ".py",
   "mimetype": "text/x-python",
   "name": "python",
   "nbconvert_exporter": "python",
   "pygments_lexer": "ipython3",
   "version": "3.8.8"
  }
 },
 "nbformat": 4,
 "nbformat_minor": 4
}
