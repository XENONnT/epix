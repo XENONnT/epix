{
 "cells": [
  {
   "cell_type": "code",
   "execution_count": 1,
   "metadata": {},
   "outputs": [
    {
     "name": "stderr",
     "output_type": "stream",
     "text": [
      "/dali/lgrandi/strax/straxen/straxen/rucio.py:29: UserWarning: No installation of rucio-clients found. Can't use rucio remote backend.\n",
      "  warnings.warn(\"No installation of rucio-clients found. Can't use rucio remote backend.\")\n"
     ]
    },
    {
     "name": "stdout",
     "output_type": "stream",
     "text": [
      "Using nestpy version 1.3.0\n",
      "0.1.2\n"
     ]
    }
   ],
   "source": [
    "import sys\n",
    "del sys.path[9]\n",
    "del sys.path[8]\n",
    "del sys.path[7]\n",
    "del sys.path[5]\n",
    "del sys.path[6]\n",
    "import numpy as np\n",
    "\n",
    "sys.path.insert(0,'/home/pgaemers/software/epix') # 'fast_sim_test' branch\n",
    "\n",
    "import epix\n",
    "print(epix.__version__)\n",
    "\n",
    "import straxen\n",
    "from epix.simulator.fast_simulator import StraxSimulator\n",
    "import numba"
   ]
  },
  {
   "cell_type": "code",
   "execution_count": 2,
   "metadata": {},
   "outputs": [],
   "source": [
    "raw_data_dir='/dali/lgrandi/pkavrigin/'\n",
    "raw_data_filename='ambe_tut_cw5900mm.root'\n",
    "\n",
    "fast_sim_output_path= '/dali/lgrandi/pgaemers/strax_data_epix'"
   ]
  },
  {
   "cell_type": "code",
   "execution_count": 3,
   "metadata": {},
   "outputs": [],
   "source": [
    "st = straxen.contexts.xenonnt_simulation(output_folder=fast_sim_output_path)\n",
    "run_id = '1'\n",
    "\n",
    "fax_config='fax_config_nt_design.json'\n",
    "\n",
    "# epix config\n",
    "epix_args={'path':raw_data_dir,\n",
    "           'file_name':raw_data_filename, \n",
    "           'debug':True,           \n",
    "           'entry_start':0,\n",
    "           'entry_stop':1000,\n",
    "           'cut_by_eventid':False,\n",
    "           'micro_separation_time':10.0,\n",
    "           'micro_separation':0.00001,\n",
    "           'tag_cluster_by':'time',\n",
    "           'max_delay':1e7,\n",
    "           'source_rate':-1}\n",
    "\n",
    "# configuration files; to be moved into the plugin\n",
    "configuration_files={'nv_pmt_qe':'nveto_pmt_qe.json',\n",
    "                     'photon_area_distribution':'XENONnT_spe_distributions_20210305.csv',\n",
    "                     's1_relative_lce_map':straxen.pax_file('XENON1T_s1_xyz_lce_true_kr83m_SR1_pax-680_fdc-3d_v0.json'),\n",
    "                     's2_xy_correction_map':straxen.pax_file('XENON1T_s2_xy_ly_SR1_v2.2.json'),}\n",
    "\n",
    "st.config.update(dict(fax_config=fax_config,\n",
    "                      g4_file=raw_data_dir+raw_data_filename,\n",
    "                      epix_config=epix_args,\n",
    "                      configuration_files=configuration_files,\n",
    "                      fax_config_overrides= {'detector':'XENONnT',\n",
    "                                             \"enable_field_dependencies\": {\n",
    "                                             \"survival_probability_map\": False,\n",
    "                                             \"drift_speed_map\": False,\n",
    "                                             \"diffusion_longitudinal_map\": False,\n",
    "                                             \"diffusion_radial_map\": False,\n",
    "                                             \"diffusion_azimuthal_map\": False}}))"
   ]
  },
  {
   "cell_type": "code",
   "execution_count": 4,
   "metadata": {},
   "outputs": [
    {
     "data": {
      "text/plain": [
       "epix.simulator.fast_simulator.StraxSimulator"
      ]
     },
     "execution_count": 4,
     "metadata": {},
     "output_type": "execute_result"
    }
   ],
   "source": [
    "st.register(StraxSimulator)"
   ]
  },
  {
   "cell_type": "code",
   "execution_count": 5,
   "metadata": {},
   "outputs": [
    {
     "name": "stdout",
     "output_type": "stream",
     "text": [
      "Removing data in /dali/lgrandi/pgaemers/strax_data_epix/1-events_tpc-b3gc5337ra to overwrite\n",
      "Removing data in /dali/lgrandi/pgaemers/strax_data_epix/1-events_nveto-b3gc5337ra to overwrite\n"
     ]
    },
    {
     "name": "stderr",
     "output_type": "stream",
     "text": [
      "WARNING:wfsim.resource:Using the private repo to load XENONnT_spe_distributions_20210305.csv locally\n",
      "WARNING:wfsim.resource:Using the private repo to load XENONnT_s1_xyz_patterns_LCE_corrected_qes_MCva43fa9b_wires.pkl locally\n",
      "WARNING:wfsim.resource:Using the private repo to load XENONnT_s2_xy_patterns_LCE_corrected_qes_MCva43fa9b_wires.pkl locally\n",
      "WARNING:wfsim.resource:Using the private repo to load XENONnT_s2_xy_correction_corrected_qes_MCva43fa9b_wires.json.gz locally\n",
      "WARNING:wfsim.resource:Using the private repo to load XENONnT_pmt_afterpulse_config_012605.json.gz locally\n",
      "WARNING:wfsim.resource:Using the private repo to load XENONnT_GARFIELD_B1d5n_C30n_G1n_A6d5p_T1d5n_PMTs1d5n_FSR0d95n.npz locally\n",
      "WARNING:wfsim.resource:Using the private repo to load gas_gap_warping_map_January_2021.pkl locally\n",
      "WARNING:wfsim.resource:field_dependencies_map has no path so this config file is set to None\n",
      "WARNING:wfsim.resource:s1_time_spline has no path so this config file is set to None\n",
      "WARNING:strax:Could not estimate run start and end time from run metadata: assuming it is 0 and inf\n"
     ]
    },
    {
     "name": "stdout",
     "output_type": "stream",
     "text": [
      "epix configuration:  {'path': '/dali/lgrandi/pkavrigin/', 'file_name': 'ambe_tut_cw5900mm.root', 'debug': True, 'entry_start': 0, 'entry_stop': 1000, 'cut_by_eventid': False, 'micro_separation_time': 10.0, 'micro_separation': 1e-05, 'tag_cluster_by': 'time', 'max_delay': 10000000.0, 'source_rate': -1, 'detector_config': [<epix.detector_volumes.SensitiveVolume object at 0x7fc964a645b0>, <epix.detector_volumes.SensitiveVolume object at 0x7fc964a644c0>], 'outer_cylinder': {'max_z': 7.3936, 'min_z': -154.6555, 'max_r': 66.4}}\n",
      "Total entries in input file = 25937\n",
      "Starting to read from output file entry 0\n",
      "Ending read in at output file entry 1000\n",
      "It took 9.1800 sec to load data.\n",
      "Finding clusters of interactions with a dr = 1e-05 mm and dt = 10.0 ns\n",
      "It took 5.4908 sec to find clusters.\n",
      "It took 6.5248 sec to merge clusters.\n",
      "Removing clusters not in volumes: TPC BelowCathode\n",
      "Number of clusters before: 60207\n",
      "Number of clusters after: 58444\n",
      "Assigning electric field to clusters\n",
      "Generating photons and electrons for events\n"
     ]
    },
    {
     "name": "stderr",
     "output_type": "stream",
     "text": [
      "/dali/lgrandi/strax/miniconda3/envs/strax/lib/python3.8/site-packages/numpy/lib/function_base.py:2197: RuntimeWarning: divide by zero encountered in func (vectorized)\n",
      "  outputs = ufunc(*inputs)\n",
      "/dali/lgrandi/strax/miniconda3/envs/strax/lib/python3.8/site-packages/numpy/lib/function_base.py:2197: RuntimeWarning: overflow encountered in func (vectorized)\n",
      "  outputs = ufunc(*inputs)\n",
      "/dali/lgrandi/strax/miniconda3/envs/strax/lib/python3.8/site-packages/numpy/lib/function_base.py:2197: RuntimeWarning: invalid value encountered in func (vectorized)\n",
      "  outputs = ufunc(*inputs)\n"
     ]
    },
    {
     "name": "stdout",
     "output_type": "stream",
     "text": [
      "It took 4.0664 sec to get quanta.\n",
      "Clean event separation\n",
      "Min. S2 amp BEFORE MACRO-CLUSTERING: 1\n"
     ]
    },
    {
     "name": "stderr",
     "output_type": "stream",
     "text": [
      "Exception in thread CRITICAL:ThreadedMailboxProcessor:Target Mailbox (events_tpc) killed, exception <class 'strax.mailbox.MailboxKilled'>, message (<class 'IndexError'>, IndexError('index 106872 is out of bounds for axis 0 with size 106872'), <traceback object at 0x7fc9642219c0>)\n",
      "divide_outputs:events_tpc:\n",
      "Traceback (most recent call last):\n",
      "  File \"/dali/lgrandi/strax/miniconda3/envs/strax/lib/python3.8/threading.py\", line 932, in _bootstrap_inner\n",
      "    self.run()\n",
      "  File \"/dali/lgrandi/strax/miniconda3/envs/strax/lib/python3.8/threading.py\", line 870, in run\n",
      "    self._target(*self._args, **self._kwargs)\n",
      "  File \"/dali/lgrandi/strax/strax/strax/mailbox.py\", line 267, in _send_from\n",
      "    self.kill_from_exception(e)\n",
      "  File \"/dali/lgrandi/strax/strax/strax/mailbox.py\", line 186, in kill_from_exception\n",
      "    raise e\n",
      "  File \"/dali/lgrandi/strax/strax/strax/mailbox.py\", line 254, in _send_from\n",
      "    x = next(iterable)\n",
      "  File \"/dali/lgrandi/strax/strax/strax/plugin.py\", line 394, in iter\n",
      "    yield self.do_compute(chunk_i=chunk_i, **inputs_merged)\n",
      "  File \"/dali/lgrandi/strax/strax/strax/plugin.py\", line 492, in do_compute\n",
      "    result = self.compute(**kwargs)\n",
      "  File \"/home/pgaemers/software/epix/epix/simulator/fast_simulator.py\", line 196, in compute\n",
      "    simulated_data = self.Simulator.run_simulator()\n",
      "  File \"/home/pgaemers/software/epix/epix/simulator/fast_simulator.py\", line 94, in run_simulator\n",
      "    self.cluster_events()\n",
      "  File \"/home/pgaemers/software/epix/epix/simulator/fast_simulator.py\", line 41, in cluster_events\n",
      "    Helpers.macro_cluster_events(self.instructions_epix)\n",
      "  File \"/home/pgaemers/software/epix/epix/simulator/helpers.py\", line 68, in macro_cluster_events\n",
      "    if instructions[ix1+ix2]['type']!=2:\n",
      "IndexError: index 106872 is out of bounds for axis 0 with size 106872\n"
     ]
    },
    {
     "ename": "IndexError",
     "evalue": "index 106872 is out of bounds for axis 0 with size 106872",
     "output_type": "error",
     "traceback": [
      "\u001b[0;31m---------------------------------------------------------------------------\u001b[0m",
      "\u001b[0;31mIndexError\u001b[0m                                Traceback (most recent call last)",
      "\u001b[0;32m<ipython-input-5-9cc69fb51be7>\u001b[0m in \u001b[0;36m<module>\u001b[0;34m\u001b[0m\n\u001b[0;32m----> 1\u001b[0;31m \u001b[0mst\u001b[0m\u001b[0;34m.\u001b[0m\u001b[0mmake\u001b[0m\u001b[0;34m(\u001b[0m\u001b[0mrun_id\u001b[0m\u001b[0;34m,\u001b[0m\u001b[0;34m'events_tpc'\u001b[0m\u001b[0;34m)\u001b[0m\u001b[0;34m\u001b[0m\u001b[0;34m\u001b[0m\u001b[0m\n\u001b[0m",
      "\u001b[0;32m/dali/lgrandi/strax/strax/strax/context.py\u001b[0m in \u001b[0;36mmake\u001b[0;34m(self, run_id, targets, save, max_workers, progress_bar, _skip_if_built, **kwargs)\u001b[0m\n\u001b[1;32m   1115\u001b[0m             \u001b[0;32mreturn\u001b[0m\u001b[0;34m\u001b[0m\u001b[0;34m\u001b[0m\u001b[0m\n\u001b[1;32m   1116\u001b[0m \u001b[0;34m\u001b[0m\u001b[0m\n\u001b[0;32m-> 1117\u001b[0;31m         for _ in self.get_iter(run_ids[0], targets,\n\u001b[0m\u001b[1;32m   1118\u001b[0m                                \u001b[0mprogress_bar\u001b[0m\u001b[0;34m=\u001b[0m\u001b[0mprogress_bar\u001b[0m\u001b[0;34m,\u001b[0m\u001b[0;34m\u001b[0m\u001b[0;34m\u001b[0m\u001b[0m\n\u001b[1;32m   1119\u001b[0m                                save=save, max_workers=max_workers, **kwargs):\n",
      "\u001b[0;32m/dali/lgrandi/strax/strax/strax/context.py\u001b[0m in \u001b[0;36mget_iter\u001b[0;34m(self, run_id, targets, save, max_workers, time_range, seconds_range, time_within, time_selection, selection_str, keep_columns, allow_multiple, progress_bar, _chunk_number, **kwargs)\u001b[0m\n\u001b[1;32m   1000\u001b[0m \u001b[0;34m\u001b[0m\u001b[0m\n\u001b[1;32m   1001\u001b[0m         \u001b[0;32mexcept\u001b[0m \u001b[0mException\u001b[0m \u001b[0;32mas\u001b[0m \u001b[0me\u001b[0m\u001b[0;34m:\u001b[0m\u001b[0;34m\u001b[0m\u001b[0;34m\u001b[0m\u001b[0m\n\u001b[0;32m-> 1002\u001b[0;31m             \u001b[0mgenerator\u001b[0m\u001b[0;34m.\u001b[0m\u001b[0mthrow\u001b[0m\u001b[0;34m(\u001b[0m\u001b[0me\u001b[0m\u001b[0;34m)\u001b[0m\u001b[0;34m\u001b[0m\u001b[0;34m\u001b[0m\u001b[0m\n\u001b[0m\u001b[1;32m   1003\u001b[0m             \u001b[0;32mraise\u001b[0m\u001b[0;34m\u001b[0m\u001b[0;34m\u001b[0m\u001b[0m\n\u001b[1;32m   1004\u001b[0m \u001b[0;34m\u001b[0m\u001b[0m\n",
      "\u001b[0;32m/dali/lgrandi/strax/strax/strax/context.py\u001b[0m in \u001b[0;36mget_iter\u001b[0;34m(self, run_id, targets, save, max_workers, time_range, seconds_range, time_within, time_selection, selection_str, keep_columns, allow_multiple, progress_bar, _chunk_number, **kwargs)\u001b[0m\n\u001b[1;32m    973\u001b[0m                 \u001b[0mpbar\u001b[0m\u001b[0;34m.\u001b[0m\u001b[0mlast_print_t\u001b[0m \u001b[0;34m=\u001b[0m \u001b[0mtime\u001b[0m\u001b[0;34m.\u001b[0m\u001b[0mtime\u001b[0m\u001b[0;34m(\u001b[0m\u001b[0;34m)\u001b[0m\u001b[0;34m\u001b[0m\u001b[0;34m\u001b[0m\u001b[0m\n\u001b[1;32m    974\u001b[0m                 \u001b[0mpbar\u001b[0m\u001b[0;34m.\u001b[0m\u001b[0mmbs\u001b[0m \u001b[0;34m=\u001b[0m \u001b[0;34m[\u001b[0m\u001b[0;34m]\u001b[0m\u001b[0;34m\u001b[0m\u001b[0;34m\u001b[0m\u001b[0m\n\u001b[0;32m--> 975\u001b[0;31m                 \u001b[0;32mfor\u001b[0m \u001b[0mn_chunks\u001b[0m\u001b[0;34m,\u001b[0m \u001b[0mresult\u001b[0m \u001b[0;32min\u001b[0m \u001b[0menumerate\u001b[0m\u001b[0;34m(\u001b[0m\u001b[0mstrax\u001b[0m\u001b[0;34m.\u001b[0m\u001b[0mcontinuity_check\u001b[0m\u001b[0;34m(\u001b[0m\u001b[0mgenerator\u001b[0m\u001b[0;34m)\u001b[0m\u001b[0;34m,\u001b[0m \u001b[0;36m1\u001b[0m\u001b[0;34m)\u001b[0m\u001b[0;34m:\u001b[0m\u001b[0;34m\u001b[0m\u001b[0;34m\u001b[0m\u001b[0m\n\u001b[0m\u001b[1;32m    976\u001b[0m                     \u001b[0mseen_a_chunk\u001b[0m \u001b[0;34m=\u001b[0m \u001b[0;32mTrue\u001b[0m\u001b[0;34m\u001b[0m\u001b[0;34m\u001b[0m\u001b[0m\n\u001b[1;32m    977\u001b[0m                     \u001b[0;32mif\u001b[0m \u001b[0;32mnot\u001b[0m \u001b[0misinstance\u001b[0m\u001b[0;34m(\u001b[0m\u001b[0mresult\u001b[0m\u001b[0;34m,\u001b[0m \u001b[0mstrax\u001b[0m\u001b[0;34m.\u001b[0m\u001b[0mChunk\u001b[0m\u001b[0;34m)\u001b[0m\u001b[0;34m:\u001b[0m\u001b[0;34m\u001b[0m\u001b[0;34m\u001b[0m\u001b[0m\n",
      "\u001b[0;32m/dali/lgrandi/strax/strax/strax/chunk.py\u001b[0m in \u001b[0;36mcontinuity_check\u001b[0;34m(chunk_iter)\u001b[0m\n\u001b[1;32m    264\u001b[0m     \u001b[0mlast_end\u001b[0m \u001b[0;34m=\u001b[0m \u001b[0;32mNone\u001b[0m\u001b[0;34m\u001b[0m\u001b[0;34m\u001b[0m\u001b[0m\n\u001b[1;32m    265\u001b[0m     \u001b[0mlast_runid\u001b[0m \u001b[0;34m=\u001b[0m \u001b[0;32mNone\u001b[0m\u001b[0;34m\u001b[0m\u001b[0;34m\u001b[0m\u001b[0m\n\u001b[0;32m--> 266\u001b[0;31m     \u001b[0;32mfor\u001b[0m \u001b[0ms\u001b[0m \u001b[0;32min\u001b[0m \u001b[0mchunk_iter\u001b[0m\u001b[0;34m:\u001b[0m\u001b[0;34m\u001b[0m\u001b[0;34m\u001b[0m\u001b[0m\n\u001b[0m\u001b[1;32m    267\u001b[0m         \u001b[0;32mif\u001b[0m \u001b[0ms\u001b[0m\u001b[0;34m.\u001b[0m\u001b[0mrun_id\u001b[0m \u001b[0;34m!=\u001b[0m \u001b[0mlast_runid\u001b[0m\u001b[0;34m:\u001b[0m\u001b[0;34m\u001b[0m\u001b[0;34m\u001b[0m\u001b[0m\n\u001b[1;32m    268\u001b[0m             \u001b[0;31m# TODO: can we do better?\u001b[0m\u001b[0;34m\u001b[0m\u001b[0;34m\u001b[0m\u001b[0;34m\u001b[0m\u001b[0m\n",
      "\u001b[0;32m/dali/lgrandi/strax/strax/strax/processor.py\u001b[0m in \u001b[0;36miter\u001b[0;34m(self)\u001b[0m\n\u001b[1;32m    283\u001b[0m             \u001b[0;31m# which is printed for the user\u001b[0m\u001b[0;34m\u001b[0m\u001b[0;34m\u001b[0m\u001b[0;34m\u001b[0m\u001b[0m\n\u001b[1;32m    284\u001b[0m             \u001b[0mself\u001b[0m\u001b[0;34m.\u001b[0m\u001b[0mlog\u001b[0m\u001b[0;34m.\u001b[0m\u001b[0mdebug\u001b[0m\u001b[0;34m(\u001b[0m\u001b[0;34m\"Reraising exception\"\u001b[0m\u001b[0;34m)\u001b[0m\u001b[0;34m\u001b[0m\u001b[0;34m\u001b[0m\u001b[0m\n\u001b[0;32m--> 285\u001b[0;31m             \u001b[0;32mraise\u001b[0m \u001b[0mexc\u001b[0m\u001b[0;34m.\u001b[0m\u001b[0mwith_traceback\u001b[0m\u001b[0;34m(\u001b[0m\u001b[0mtraceback\u001b[0m\u001b[0;34m)\u001b[0m\u001b[0;34m\u001b[0m\u001b[0;34m\u001b[0m\u001b[0m\n\u001b[0m\u001b[1;32m    286\u001b[0m \u001b[0;34m\u001b[0m\u001b[0m\n\u001b[1;32m    287\u001b[0m         \u001b[0;31m# Check the savers for any exception that occurred during saving\u001b[0m\u001b[0;34m\u001b[0m\u001b[0;34m\u001b[0m\u001b[0;34m\u001b[0m\u001b[0m\n",
      "\u001b[0;32m/dali/lgrandi/strax/strax/strax/mailbox.py\u001b[0m in \u001b[0;36m_send_from\u001b[0;34m(self, iterable)\u001b[0m\n\u001b[1;32m    252\u001b[0m \u001b[0;34m\u001b[0m\u001b[0m\n\u001b[1;32m    253\u001b[0m                 \u001b[0;32mtry\u001b[0m\u001b[0;34m:\u001b[0m\u001b[0;34m\u001b[0m\u001b[0;34m\u001b[0m\u001b[0m\n\u001b[0;32m--> 254\u001b[0;31m                     \u001b[0mx\u001b[0m \u001b[0;34m=\u001b[0m \u001b[0mnext\u001b[0m\u001b[0;34m(\u001b[0m\u001b[0miterable\u001b[0m\u001b[0;34m)\u001b[0m\u001b[0;34m\u001b[0m\u001b[0;34m\u001b[0m\u001b[0m\n\u001b[0m\u001b[1;32m    255\u001b[0m                 \u001b[0;32mexcept\u001b[0m \u001b[0mStopIteration\u001b[0m\u001b[0;34m:\u001b[0m\u001b[0;34m\u001b[0m\u001b[0;34m\u001b[0m\u001b[0m\n\u001b[1;32m    256\u001b[0m                     \u001b[0;31m# No need to send this yet, close will do that\u001b[0m\u001b[0;34m\u001b[0m\u001b[0;34m\u001b[0m\u001b[0;34m\u001b[0m\u001b[0m\n",
      "\u001b[0;32m/dali/lgrandi/strax/strax/strax/plugin.py\u001b[0m in \u001b[0;36miter\u001b[0;34m(self, iters, executor)\u001b[0m\n\u001b[1;32m    392\u001b[0m                     \u001b[0;32myield\u001b[0m \u001b[0mnew_future\u001b[0m\u001b[0;34m\u001b[0m\u001b[0;34m\u001b[0m\u001b[0m\n\u001b[1;32m    393\u001b[0m                 \u001b[0;32melse\u001b[0m\u001b[0;34m:\u001b[0m\u001b[0;34m\u001b[0m\u001b[0;34m\u001b[0m\u001b[0m\n\u001b[0;32m--> 394\u001b[0;31m                     \u001b[0;32myield\u001b[0m \u001b[0mself\u001b[0m\u001b[0;34m.\u001b[0m\u001b[0mdo_compute\u001b[0m\u001b[0;34m(\u001b[0m\u001b[0mchunk_i\u001b[0m\u001b[0;34m=\u001b[0m\u001b[0mchunk_i\u001b[0m\u001b[0;34m,\u001b[0m \u001b[0;34m**\u001b[0m\u001b[0minputs_merged\u001b[0m\u001b[0;34m)\u001b[0m\u001b[0;34m\u001b[0m\u001b[0;34m\u001b[0m\u001b[0m\n\u001b[0m\u001b[1;32m    395\u001b[0m \u001b[0;34m\u001b[0m\u001b[0m\n\u001b[1;32m    396\u001b[0m         \u001b[0;32mexcept\u001b[0m \u001b[0mIterDone\u001b[0m\u001b[0;34m:\u001b[0m\u001b[0;34m\u001b[0m\u001b[0;34m\u001b[0m\u001b[0m\n",
      "\u001b[0;32m/dali/lgrandi/strax/strax/strax/plugin.py\u001b[0m in \u001b[0;36mdo_compute\u001b[0;34m(self, chunk_i, **kwargs)\u001b[0m\n\u001b[1;32m    490\u001b[0m             \u001b[0mkwargs\u001b[0m\u001b[0;34m[\u001b[0m\u001b[0;34m'start'\u001b[0m\u001b[0;34m]\u001b[0m \u001b[0;34m=\u001b[0m \u001b[0mstart\u001b[0m\u001b[0;34m\u001b[0m\u001b[0;34m\u001b[0m\u001b[0m\n\u001b[1;32m    491\u001b[0m             \u001b[0mkwargs\u001b[0m\u001b[0;34m[\u001b[0m\u001b[0;34m'end'\u001b[0m\u001b[0;34m]\u001b[0m \u001b[0;34m=\u001b[0m \u001b[0mend\u001b[0m\u001b[0;34m\u001b[0m\u001b[0;34m\u001b[0m\u001b[0m\n\u001b[0;32m--> 492\u001b[0;31m         \u001b[0mresult\u001b[0m \u001b[0;34m=\u001b[0m \u001b[0mself\u001b[0m\u001b[0;34m.\u001b[0m\u001b[0mcompute\u001b[0m\u001b[0;34m(\u001b[0m\u001b[0;34m**\u001b[0m\u001b[0mkwargs\u001b[0m\u001b[0;34m)\u001b[0m\u001b[0;34m\u001b[0m\u001b[0;34m\u001b[0m\u001b[0m\n\u001b[0m\u001b[1;32m    493\u001b[0m \u001b[0;34m\u001b[0m\u001b[0m\n\u001b[1;32m    494\u001b[0m         \u001b[0;32mreturn\u001b[0m \u001b[0mself\u001b[0m\u001b[0;34m.\u001b[0m\u001b[0m_fix_output\u001b[0m\u001b[0;34m(\u001b[0m\u001b[0mresult\u001b[0m\u001b[0;34m,\u001b[0m \u001b[0mstart\u001b[0m\u001b[0;34m,\u001b[0m \u001b[0mend\u001b[0m\u001b[0;34m)\u001b[0m\u001b[0;34m\u001b[0m\u001b[0;34m\u001b[0m\u001b[0m\n",
      "\u001b[0;32m~/software/epix/epix/simulator/fast_simulator.py\u001b[0m in \u001b[0;36mcompute\u001b[0;34m(self)\u001b[0m\n\u001b[1;32m    194\u001b[0m                                    \u001b[0mconfig\u001b[0m\u001b[0;34m=\u001b[0m\u001b[0mself\u001b[0m\u001b[0;34m.\u001b[0m\u001b[0mconfig\u001b[0m\u001b[0;34m,\u001b[0m\u001b[0;34m\u001b[0m\u001b[0;34m\u001b[0m\u001b[0m\n\u001b[1;32m    195\u001b[0m                                    resource=self.resource)\n\u001b[0;32m--> 196\u001b[0;31m         \u001b[0msimulated_data\u001b[0m \u001b[0;34m=\u001b[0m \u001b[0mself\u001b[0m\u001b[0;34m.\u001b[0m\u001b[0mSimulator\u001b[0m\u001b[0;34m.\u001b[0m\u001b[0mrun_simulator\u001b[0m\u001b[0;34m(\u001b[0m\u001b[0;34m)\u001b[0m\u001b[0;34m\u001b[0m\u001b[0;34m\u001b[0m\u001b[0m\n\u001b[0m\u001b[1;32m    197\u001b[0m \u001b[0;34m\u001b[0m\u001b[0m\n\u001b[1;32m    198\u001b[0m         simulated_data_chunk=self.chunk(\n",
      "\u001b[0;32m~/software/epix/epix/simulator/fast_simulator.py\u001b[0m in \u001b[0;36mrun_simulator\u001b[0;34m(self)\u001b[0m\n\u001b[1;32m     92\u001b[0m \u001b[0;34m\u001b[0m\u001b[0m\n\u001b[1;32m     93\u001b[0m     \u001b[0;32mdef\u001b[0m \u001b[0mrun_simulator\u001b[0m\u001b[0;34m(\u001b[0m\u001b[0mself\u001b[0m\u001b[0;34m,\u001b[0m \u001b[0;34m)\u001b[0m\u001b[0;34m:\u001b[0m\u001b[0;34m\u001b[0m\u001b[0;34m\u001b[0m\u001b[0m\n\u001b[0;32m---> 94\u001b[0;31m         \u001b[0mself\u001b[0m\u001b[0;34m.\u001b[0m\u001b[0mcluster_events\u001b[0m\u001b[0;34m(\u001b[0m\u001b[0;34m)\u001b[0m\u001b[0;34m\u001b[0m\u001b[0;34m\u001b[0m\u001b[0m\n\u001b[0m\u001b[1;32m     95\u001b[0m         \u001b[0mself\u001b[0m\u001b[0;34m.\u001b[0m\u001b[0msimulate\u001b[0m\u001b[0;34m(\u001b[0m\u001b[0;34m)\u001b[0m\u001b[0;34m\u001b[0m\u001b[0;34m\u001b[0m\u001b[0m\n\u001b[1;32m     96\u001b[0m \u001b[0;34m\u001b[0m\u001b[0m\n",
      "\u001b[0;32m~/software/epix/epix/simulator/fast_simulator.py\u001b[0m in \u001b[0;36mcluster_events\u001b[0;34m(self)\u001b[0m\n\u001b[1;32m     39\u001b[0m         \u001b[0mprint\u001b[0m\u001b[0;34m(\u001b[0m\u001b[0;34mf\"Min. S2 amp BEFORE MACRO-CLUSTERING: {self.instructions_epix[self.instructions_epix['type']==2]['amp'].min()}\"\u001b[0m\u001b[0;34m)\u001b[0m\u001b[0;34m\u001b[0m\u001b[0;34m\u001b[0m\u001b[0m\n\u001b[1;32m     40\u001b[0m \u001b[0;34m\u001b[0m\u001b[0m\n\u001b[0;32m---> 41\u001b[0;31m         \u001b[0mHelpers\u001b[0m\u001b[0;34m.\u001b[0m\u001b[0mmacro_cluster_events\u001b[0m\u001b[0;34m(\u001b[0m\u001b[0mself\u001b[0m\u001b[0;34m.\u001b[0m\u001b[0minstructions_epix\u001b[0m\u001b[0;34m)\u001b[0m\u001b[0;34m\u001b[0m\u001b[0;34m\u001b[0m\u001b[0m\n\u001b[0m\u001b[1;32m     42\u001b[0m         \u001b[0mself\u001b[0m\u001b[0;34m.\u001b[0m\u001b[0minstructions_epix\u001b[0m\u001b[0;34m=\u001b[0m\u001b[0mself\u001b[0m\u001b[0;34m.\u001b[0m\u001b[0minstructions_epix\u001b[0m\u001b[0;34m[\u001b[0m\u001b[0mself\u001b[0m\u001b[0;34m.\u001b[0m\u001b[0minstructions_epix\u001b[0m\u001b[0;34m[\u001b[0m\u001b[0;34m'amp'\u001b[0m\u001b[0;34m]\u001b[0m\u001b[0;34m!=\u001b[0m\u001b[0;34m-\u001b[0m\u001b[0;36m1\u001b[0m\u001b[0;34m]\u001b[0m\u001b[0;34m\u001b[0m\u001b[0;34m\u001b[0m\u001b[0m\n\u001b[1;32m     43\u001b[0m \u001b[0;34m\u001b[0m\u001b[0m\n",
      "\u001b[0;32m~/software/epix/epix/simulator/helpers.py\u001b[0m in \u001b[0;36mmacro_cluster_events\u001b[0;34m(instructions)\u001b[0m\n\u001b[1;32m     66\u001b[0m                 \u001b[0;32mcontinue\u001b[0m\u001b[0;34m\u001b[0m\u001b[0;34m\u001b[0m\u001b[0m\n\u001b[1;32m     67\u001b[0m             \u001b[0;32mfor\u001b[0m \u001b[0mix2\u001b[0m \u001b[0;32min\u001b[0m \u001b[0mrange\u001b[0m\u001b[0;34m(\u001b[0m\u001b[0;36m1\u001b[0m\u001b[0;34m,\u001b[0m\u001b[0mlen\u001b[0m\u001b[0;34m(\u001b[0m\u001b[0minstructions\u001b[0m\u001b[0;34m[\u001b[0m\u001b[0mix1\u001b[0m\u001b[0;34m:\u001b[0m\u001b[0;34m]\u001b[0m\u001b[0;34m)\u001b[0m\u001b[0;34m+\u001b[0m\u001b[0;36m1\u001b[0m\u001b[0;34m)\u001b[0m\u001b[0;34m:\u001b[0m\u001b[0;34m\u001b[0m\u001b[0;34m\u001b[0m\u001b[0m\n\u001b[0;32m---> 68\u001b[0;31m                 \u001b[0;32mif\u001b[0m \u001b[0minstructions\u001b[0m\u001b[0;34m[\u001b[0m\u001b[0mix1\u001b[0m\u001b[0;34m+\u001b[0m\u001b[0mix2\u001b[0m\u001b[0;34m]\u001b[0m\u001b[0;34m[\u001b[0m\u001b[0;34m'type'\u001b[0m\u001b[0;34m]\u001b[0m\u001b[0;34m!=\u001b[0m\u001b[0;36m2\u001b[0m\u001b[0;34m:\u001b[0m\u001b[0;34m\u001b[0m\u001b[0;34m\u001b[0m\u001b[0m\n\u001b[0m\u001b[1;32m     69\u001b[0m                     \u001b[0;32mcontinue\u001b[0m\u001b[0;34m\u001b[0m\u001b[0;34m\u001b[0m\u001b[0m\n\u001b[1;32m     70\u001b[0m                 \u001b[0;32mif\u001b[0m \u001b[0minstructions\u001b[0m\u001b[0;34m[\u001b[0m\u001b[0mix1\u001b[0m\u001b[0;34m]\u001b[0m\u001b[0;34m[\u001b[0m\u001b[0;34m'event_number'\u001b[0m\u001b[0;34m]\u001b[0m\u001b[0;34m!=\u001b[0m\u001b[0minstructions\u001b[0m\u001b[0;34m[\u001b[0m\u001b[0mix1\u001b[0m\u001b[0;34m+\u001b[0m\u001b[0mix2\u001b[0m\u001b[0;34m]\u001b[0m\u001b[0;34m[\u001b[0m\u001b[0;34m'event_number'\u001b[0m\u001b[0;34m]\u001b[0m\u001b[0;34m:\u001b[0m\u001b[0;34m\u001b[0m\u001b[0;34m\u001b[0m\u001b[0m\n",
      "\u001b[0;31mIndexError\u001b[0m: index 106872 is out of bounds for axis 0 with size 106872"
     ]
    }
   ],
   "source": [
    "st.make(run_id,'events_tpc')"
   ]
  },
  {
   "cell_type": "code",
   "execution_count": 8,
   "metadata": {},
   "outputs": [],
   "source": []
  },
  {
   "cell_type": "code",
   "execution_count": 69,
   "metadata": {},
   "outputs": [],
   "source": [
    "@numba.njit\n",
    "def _merge_these_clusters(s2_area1, z1, s2_area2, z2):\n",
    "    sensitive_volume_ztop=0 #it's the ground mesh, the top liquid level is at 2.7; // mm\n",
    "    max_s2_area = max(s2_area1,s2_area2)\n",
    "    if max_s2_area>5000:\n",
    "        SeparationDistanceIntercept = 0.00024787 * 5000. + 3.4056346550312973\n",
    "        SeparationDistanceSlope = 5.5869678412887262e-07 * 5000. + 0.0044792968\n",
    "    else:\n",
    "        SeparationDistanceIntercept = \\\n",
    "          0.00024787 * max_s2_area + 3.4056346550312973\n",
    "        SeparationDistanceSlope = \\\n",
    "          5.5869678412887262e-07 * max_s2_area + 0.0044792968\n",
    "    SeparationDistance = \\\n",
    "        SeparationDistanceIntercept - \\\n",
    "        SeparationDistanceSlope * (-sensitive_volume_ztop +\\\n",
    "            (z1 + z2) * 0.5)\n",
    "    return z1-z2<SeparationDistance\n",
    "\n",
    "@numba.njit\n",
    "def macro_cluster_events(instructions):\n",
    "    \"\"\"Loops over all instructions, checks if it's an s2 and if there is another s2 within the same event\n",
    "        within the macro cluster distance, if it is they are merged.\"\"\"\n",
    "    for ix1 in range(len(instructions)):\n",
    "        if instructions[ix1]['type']!=2:\n",
    "            continue\n",
    "        for ix2 in range(1,len(instructions[ix1:])):\n",
    "            if instructions[ix1]['event_number']!=instructions[ix1+ix2]['event_number']:\n",
    "                break\n",
    "            if instructions[ix1+ix2]['type']!=2:\n",
    "                continue\n",
    "            if _merge_these_clusters(instructions[ix1]['amp'],instructions[ix1]['z'],\n",
    "                                     instructions[ix1+ix2]['amp'],instructions[ix1+ix2]['z']):\n",
    "                instructions[ix1+ix2]['x'] = (instructions[ix1]['x']+instructions[ix1+ix2]['x'])*0.5\n",
    "                instructions[ix1+ix2]['y'] = (instructions[ix1]['y']+instructions[ix1+ix2]['y'])*0.5\n",
    "                instructions[ix1+ix2]['z'] = (instructions[ix1]['z']+instructions[ix1+ix2]['z'])*0.5\n",
    "                instructions[ix1+ix2]['amp'] = int((instructions[ix1]['amp']+instructions[ix1+ix2]['amp']))\n",
    "                instructions[ix1]['amp']=-1 #flag to throw this instruction away later\n",
    "                break"
   ]
  },
  {
   "cell_type": "code",
   "execution_count": 70,
   "metadata": {},
   "outputs": [],
   "source": [
    "instructions=np.load('instructions.npy')\n",
    "instructions=instructions[instructions['type']==2]"
   ]
  },
  {
   "cell_type": "code",
   "execution_count": 71,
   "metadata": {},
   "outputs": [
    {
     "data": {
      "text/plain": [
       "array([(165, 2, 1826000000,  20.039852 , -31.576733, -49.366394, 5, 0, 5.582118 , 1153, 1),\n",
       "       (165, 2, 1826000023,   5.42555  , -34.919178, -47.077187, 4, 0, 5.6402416, 1153, 1),\n",
       "       (165, 2, 1826000038,  14.033266 , -38.671368, -46.949444, 1, 0, 2.728987 , 1153, 1),\n",
       "       (165, 2, 1826000046,  13.655611 , -40.928158, -42.645508, 2, 0, 5.1514997, 1153, 1),\n",
       "       (165, 2, 1826000063,   6.921006 , -40.997864, -50.967632, 2, 0, 3.1622007, 1153, 1),\n",
       "       (165, 2, 1826000112, -14.90233  , -33.180733, -32.15068 , 1, 0, 5.9501677, 1153, 1),\n",
       "       (165, 2, 1826000162,   5.78072  , -44.21184 , -17.31942 , 1, 0, 1.6405127, 1153, 1),\n",
       "       (165, 2, 1826000186,   5.8595104, -39.100216,  -3.758201, 2, 0, 2.4491782, 1153, 1)],\n",
       "      dtype=[(('Waveform simulator event number.', 'event_number'), '<i4'), (('Quanta type (S1 photons or S2 electrons)', 'type'), 'i1'), (('Time of the interaction [ns]', 'time'), '<i8'), (('X position of the cluster[cm]', 'x'), '<f4'), (('Y position of the cluster[cm]', 'y'), '<f4'), (('Z position of the cluster[cm]', 'z'), '<f4'), (('Number of quanta', 'amp'), '<i4'), (('Recoil type of interaction.', 'recoil'), 'i1'), (('Energy deposit of interaction', 'e_dep'), '<f4'), (('Eventid like in geant4 output rootfile', 'g4id'), '<i4'), (('Volume id giving the detector subvolume', 'vol_id'), '<i4')])"
      ]
     },
     "execution_count": 71,
     "metadata": {},
     "output_type": "execute_result"
    }
   ],
   "source": [
    "instructions[instructions['event_number']==165]"
   ]
  },
  {
   "cell_type": "code",
   "execution_count": 72,
   "metadata": {},
   "outputs": [],
   "source": [
    "macro_cluster_events(instructions)"
   ]
  },
  {
   "cell_type": "code",
   "execution_count": 73,
   "metadata": {},
   "outputs": [
    {
     "data": {
      "text/plain": [
       "array([(165, 2, 1826000000, 20.039852 , -31.576733, -49.366394, -1, 0, 5.582118 , 1153, 1),\n",
       "       (165, 2, 1826000023, 12.732701 , -33.247955, -48.22179 , -1, 0, 5.6402416, 1153, 1),\n",
       "       (165, 2, 1826000038, 13.382984 , -35.959663, -47.585617, -1, 0, 2.728987 , 1153, 1),\n",
       "       (165, 2, 1826000046, 13.519298 , -38.44391 , -45.115562, -1, 0, 5.1514997, 1153, 1),\n",
       "       (165, 2, 1826000063,  6.921006 , -40.997864, -50.967632, -1, 0, 3.1622007, 1153, 1),\n",
       "       (165, 2, 1826000112,  3.114745 , -38.40509 , -44.800377, -1, 0, 5.9501677, 1153, 1),\n",
       "       (165, 2, 1826000162,  4.4477324, -41.308464, -31.059898, -1, 0, 1.6405127, 1153, 1),\n",
       "       (165, 2, 1826000186,  5.1536217, -40.204338, -17.40905 , 18, 0, 2.4491782, 1153, 1)],\n",
       "      dtype=[(('Waveform simulator event number.', 'event_number'), '<i4'), (('Quanta type (S1 photons or S2 electrons)', 'type'), 'i1'), (('Time of the interaction [ns]', 'time'), '<i8'), (('X position of the cluster[cm]', 'x'), '<f4'), (('Y position of the cluster[cm]', 'y'), '<f4'), (('Z position of the cluster[cm]', 'z'), '<f4'), (('Number of quanta', 'amp'), '<i4'), (('Recoil type of interaction.', 'recoil'), 'i1'), (('Energy deposit of interaction', 'e_dep'), '<f4'), (('Eventid like in geant4 output rootfile', 'g4id'), '<i4'), (('Volume id giving the detector subvolume', 'vol_id'), '<i4')])"
      ]
     },
     "execution_count": 73,
     "metadata": {},
     "output_type": "execute_result"
    }
   ],
   "source": [
    "instructions[instructions['event_number']==165]"
   ]
  },
  {
   "cell_type": "code",
   "execution_count": 45,
   "metadata": {},
   "outputs": [
    {
     "data": {
      "text/plain": [
       "-1"
      ]
     },
     "execution_count": 45,
     "metadata": {},
     "output_type": "execute_result"
    }
   ],
   "source": [
    "bla"
   ]
  },
  {
   "cell_type": "code",
   "execution_count": null,
   "metadata": {},
   "outputs": [],
   "source": []
  }
 ],
 "metadata": {
  "kernelspec": {
   "display_name": "Python 3",
   "language": "python",
   "name": "python3"
  },
  "language_info": {
   "codemirror_mode": {
    "name": "ipython",
    "version": 3
   },
   "file_extension": ".py",
   "mimetype": "text/x-python",
   "name": "python",
   "nbconvert_exporter": "python",
   "pygments_lexer": "ipython3",
   "version": "3.8.5"
  }
 },
 "nbformat": 4,
 "nbformat_minor": 4
}
