{
 "cells": [
  {
   "cell_type": "code",
   "execution_count": 1,
   "metadata": {},
   "outputs": [
    {
     "name": "stderr",
     "output_type": "stream",
     "text": [
      "/dali/lgrandi/strax/straxen/straxen/rucio.py:29: UserWarning: No installation of rucio-clients found. Can't use rucio remote backend.\n",
      "  warnings.warn(\"No installation of rucio-clients found. Can't use rucio remote backend.\")\n"
     ]
    },
    {
     "name": "stdout",
     "output_type": "stream",
     "text": [
      "0.5.4\n",
      "Using nestpy version 1.3.0\n",
      "0.1.2\n"
     ]
    }
   ],
   "source": [
    "import sys\n",
    "import numpy as np\n",
    "import wfsim\n",
    "print(wfsim.__version__)\n",
    "\n",
    "del sys.path[5]\n",
    "sys.path.insert(0,'/home/pkavrigin/epix') # 'fast_sim_test' branch\n",
    "\n",
    "import epix\n",
    "print(epix.__version__)\n",
    "\n",
    "import straxen\n",
    "from epix.simulator.fast_simulator import StraxSimulator"
   ]
  },
  {
   "cell_type": "code",
   "execution_count": 2,
   "metadata": {},
   "outputs": [],
   "source": [
    "raw_data_dir='/dali/lgrandi/pkavrigin/'\n",
    "raw_data_filename='ambe_tut_cw5900mm.root'\n",
    "\n",
    "fast_sim_output_path= '/home/pkavrigin/tmp/strax/'"
   ]
  },
  {
   "cell_type": "code",
   "execution_count": 3,
   "metadata": {},
   "outputs": [],
   "source": [
    "st = straxen.contexts.xenonnt_simulation(output_folder=fast_sim_output_path)\n",
    "run_id = '1'\n",
    "\n",
    "#fax_config='fax_config_nt_design.json'\n",
    "fax_config='fax_config_nt_low_field.json'\n",
    "\n",
    "# epix config\n",
    "epix_args={'path':raw_data_dir,\n",
    "           'file_name':raw_data_filename, \n",
    "           'debug':True,           \n",
    "           'entry_start':0,\n",
    "           'entry_stop':1000,\n",
    "           'cut_by_eventid':False,\n",
    "           'micro_separation_time':10.0,\n",
    "           'micro_separation':0.00001,\n",
    "           'tag_cluster_by':'time',\n",
    "           'max_delay':1e7,\n",
    "           'source_rate':-1}\n",
    "\n",
    "# configuration files; to be moved into the plugin\n",
    "configuration_files={'nv_pmt_qe':'nveto_pmt_qe.json',\n",
    "                     'photon_area_distribution':'XENONnT_spe_distributions_20210305.csv',\n",
    "                     's1_relative_lce_map':straxen.pax_file('XENON1T_s1_xyz_lce_true_kr83m_SR1_pax-680_fdc-3d_v0.json'),\n",
    "                     's2_xy_correction_map':straxen.pax_file('XENON1T_s2_xy_ly_SR1_v2.2.json'),}\n",
    "\n",
    "st.config.update(dict(fax_config=fax_config,\n",
    "                      g4_file=raw_data_dir+raw_data_filename,\n",
    "                      epix_config=epix_args,\n",
    "                      configuration_files=configuration_files,\n",
    "                      fax_config_overrides= {'detector':'XENONnT',\n",
    "                                             \"enable_field_dependencies\": {\n",
    "                                             \"survival_probability_map\": False,\n",
    "                                             \"drift_speed_map\": False,\n",
    "                                             \"diffusion_longitudinal_map\": False,\n",
    "                                             \"diffusion_radial_map\": False,\n",
    "                                             \"diffusion_azimuthal_map\": False}}))"
   ]
  },
  {
   "cell_type": "code",
   "execution_count": 4,
   "metadata": {},
   "outputs": [
    {
     "data": {
      "text/plain": [
       "epix.simulator.fast_simulator.StraxSimulator"
      ]
     },
     "execution_count": 4,
     "metadata": {},
     "output_type": "execute_result"
    }
   ],
   "source": [
    "st.register(StraxSimulator)"
   ]
  },
  {
   "cell_type": "code",
   "execution_count": 5,
   "metadata": {},
   "outputs": [
    {
     "name": "stderr",
     "output_type": "stream",
     "text": [
      "WARNING:wfsim.resource:s1_time_spline has no path so this config file is set to None\n",
      "WARNING:strax:Could not estimate run start and end time from run metadata: assuming it is 0 and inf\n"
     ]
    },
    {
     "name": "stdout",
     "output_type": "stream",
     "text": [
      "epix configuration:  {'path': '/dali/lgrandi/pkavrigin/', 'file_name': 'ambe_tut_cw5900mm.root', 'debug': True, 'entry_start': 0, 'entry_stop': 1000, 'cut_by_eventid': False, 'micro_separation_time': 10.0, 'micro_separation': 1e-05, 'tag_cluster_by': 'time', 'max_delay': 10000000.0, 'source_rate': -1, 'detector_config': [<epix.detector_volumes.SensitiveVolume object at 0x7f3bf87277f0>, <epix.detector_volumes.SensitiveVolume object at 0x7f3bf8727ee0>], 'outer_cylinder': {'max_z': 7.3936, 'min_z': -154.6555, 'max_r': 66.4}}\n",
      "Total entries in input file = 25937\n",
      "Starting to read from output file entry 0\n",
      "Ending read in at output file entry 1000\n",
      "It took 9.0910 sec to load data.\n",
      "Finding clusters of interactions with a dr = 1e-05 mm and dt = 10.0 ns\n",
      "It took 5.5375 sec to find clusters.\n",
      "It took 6.3715 sec to merge clusters.\n",
      "Removing clusters not in volumes: TPC BelowCathode\n",
      "Number of clusters before: 60207\n",
      "Number of clusters after: 58444\n",
      "Assigning electric field to clusters\n",
      "Generating photons and electrons for events\n"
     ]
    },
    {
     "name": "stderr",
     "output_type": "stream",
     "text": [
      "/dali/lgrandi/strax/miniconda3/envs/strax/lib/python3.8/site-packages/numpy/lib/function_base.py:2197: RuntimeWarning: divide by zero encountered in func (vectorized)\n",
      "  outputs = ufunc(*inputs)\n",
      "/dali/lgrandi/strax/miniconda3/envs/strax/lib/python3.8/site-packages/numpy/lib/function_base.py:2197: RuntimeWarning: overflow encountered in func (vectorized)\n",
      "  outputs = ufunc(*inputs)\n",
      "/dali/lgrandi/strax/miniconda3/envs/strax/lib/python3.8/site-packages/numpy/lib/function_base.py:2197: RuntimeWarning: invalid value encountered in func (vectorized)\n",
      "  outputs = ufunc(*inputs)\n"
     ]
    },
    {
     "name": "stdout",
     "output_type": "stream",
     "text": [
      "It took 4.5148 sec to get quanta.\n",
      "Clean event separation\n",
      "Min. S2 amp BEFORE MACRO-CLUSTERING: 1\n"
     ]
    },
    {
     "name": "stderr",
     "output_type": "stream",
     "text": [
      "Exception in thread CRITICAL:ThreadedMailboxProcessor:Target Mailbox (events_tpc) killed, exception <class 'strax.mailbox.MailboxKilled'>, message (<class 'ValueError'>, ValueError('n < 0'), <traceback object at 0x7f3bf87be7c0>)\n",
      "divide_outputs:events_tpc:\n",
      "Traceback (most recent call last):\n",
      "  File \"/dali/lgrandi/strax/miniconda3/envs/strax/lib/python3.8/threading.py\", line 932, in _bootstrap_inner\n",
      "    self.run()\n",
      "  File \"/dali/lgrandi/strax/miniconda3/envs/strax/lib/python3.8/threading.py\", line 870, in run\n",
      "    self._target(*self._args, **self._kwargs)\n",
      "  File \"/dali/lgrandi/strax/strax/strax/mailbox.py\", line 267, in _send_from\n",
      "    self.kill_from_exception(e)\n",
      "  File \"/dali/lgrandi/strax/strax/strax/mailbox.py\", line 186, in kill_from_exception\n",
      "    raise e\n",
      "  File \"/dali/lgrandi/strax/strax/strax/mailbox.py\", line 254, in _send_from\n",
      "    x = next(iterable)\n",
      "  File \"/dali/lgrandi/strax/strax/strax/plugin.py\", line 394, in iter\n",
      "    yield self.do_compute(chunk_i=chunk_i, **inputs_merged)\n",
      "  File \"/dali/lgrandi/strax/strax/strax/plugin.py\", line 492, in do_compute\n",
      "    result = self.compute(**kwargs)\n",
      "  File \"/home/pkavrigin/epix/epix/simulator/fast_simulator.py\", line 196, in compute\n",
      "    simulated_data = self.Simulator.run_simulator()\n",
      "  File \"/home/pkavrigin/epix/epix/simulator/fast_simulator.py\", line 95, in run_simulator\n",
      "    self.simulate()\n",
      "  File \"/home/pkavrigin/epix/epix/simulator/fast_simulator.py\", line 89, in simulate\n",
      "    func(instructions=self.instructions,\n",
      "  File \"/home/pkavrigin/epix/epix/simulator/GenerateEvents.py\", line 62, in make_s2\n",
      "    n_electron = Helpers.get_s2_charge_yield(n_electron=n_el,\n",
      "  File \"/home/pkavrigin/epix/epix/simulator/helpers.py\", line 111, in get_s2_charge_yield\n",
      "    return wfsim.S2.get_electron_yield(n_electron=n_electron,\n",
      "  File \"/dali/lgrandi/strax/WFSim/wfsim/core.py\", line 674, in get_electron_yield\n",
      "    n_electron = np.random.binomial(n=n_electron, p=cy)\n",
      "  File \"mtrand.pyx\", line 3369, in numpy.random.mtrand.RandomState.binomial\n",
      "  File \"_common.pyx\", line 329, in numpy.random._common.check_array_constraint\n",
      "ValueError: n < 0\n"
     ]
    },
    {
     "name": "stdout",
     "output_type": "stream",
     "text": [
      "Min. S2 amp AFTER MACRO-CLUSTERING: -3\n"
     ]
    },
    {
     "ename": "ValueError",
     "evalue": "n < 0",
     "output_type": "error",
     "traceback": [
      "\u001b[0;31m---------------------------------------------------------------------------\u001b[0m",
      "\u001b[0;31mValueError\u001b[0m                                Traceback (most recent call last)",
      "\u001b[0;32m<ipython-input-5-9cc69fb51be7>\u001b[0m in \u001b[0;36m<module>\u001b[0;34m\u001b[0m\n\u001b[0;32m----> 1\u001b[0;31m \u001b[0mst\u001b[0m\u001b[0;34m.\u001b[0m\u001b[0mmake\u001b[0m\u001b[0;34m(\u001b[0m\u001b[0mrun_id\u001b[0m\u001b[0;34m,\u001b[0m\u001b[0;34m'events_tpc'\u001b[0m\u001b[0;34m)\u001b[0m\u001b[0;34m\u001b[0m\u001b[0;34m\u001b[0m\u001b[0m\n\u001b[0m",
      "\u001b[0;32m/dali/lgrandi/strax/strax/strax/context.py\u001b[0m in \u001b[0;36mmake\u001b[0;34m(self, run_id, targets, save, max_workers, progress_bar, _skip_if_built, **kwargs)\u001b[0m\n\u001b[1;32m   1115\u001b[0m             \u001b[0;32mreturn\u001b[0m\u001b[0;34m\u001b[0m\u001b[0;34m\u001b[0m\u001b[0m\n\u001b[1;32m   1116\u001b[0m \u001b[0;34m\u001b[0m\u001b[0m\n\u001b[0;32m-> 1117\u001b[0;31m         for _ in self.get_iter(run_ids[0], targets,\n\u001b[0m\u001b[1;32m   1118\u001b[0m                                \u001b[0mprogress_bar\u001b[0m\u001b[0;34m=\u001b[0m\u001b[0mprogress_bar\u001b[0m\u001b[0;34m,\u001b[0m\u001b[0;34m\u001b[0m\u001b[0;34m\u001b[0m\u001b[0m\n\u001b[1;32m   1119\u001b[0m                                save=save, max_workers=max_workers, **kwargs):\n",
      "\u001b[0;32m/dali/lgrandi/strax/strax/strax/context.py\u001b[0m in \u001b[0;36mget_iter\u001b[0;34m(self, run_id, targets, save, max_workers, time_range, seconds_range, time_within, time_selection, selection_str, keep_columns, allow_multiple, progress_bar, _chunk_number, **kwargs)\u001b[0m\n\u001b[1;32m   1000\u001b[0m \u001b[0;34m\u001b[0m\u001b[0m\n\u001b[1;32m   1001\u001b[0m         \u001b[0;32mexcept\u001b[0m \u001b[0mException\u001b[0m \u001b[0;32mas\u001b[0m \u001b[0me\u001b[0m\u001b[0;34m:\u001b[0m\u001b[0;34m\u001b[0m\u001b[0;34m\u001b[0m\u001b[0m\n\u001b[0;32m-> 1002\u001b[0;31m             \u001b[0mgenerator\u001b[0m\u001b[0;34m.\u001b[0m\u001b[0mthrow\u001b[0m\u001b[0;34m(\u001b[0m\u001b[0me\u001b[0m\u001b[0;34m)\u001b[0m\u001b[0;34m\u001b[0m\u001b[0;34m\u001b[0m\u001b[0m\n\u001b[0m\u001b[1;32m   1003\u001b[0m             \u001b[0;32mraise\u001b[0m\u001b[0;34m\u001b[0m\u001b[0;34m\u001b[0m\u001b[0m\n\u001b[1;32m   1004\u001b[0m \u001b[0;34m\u001b[0m\u001b[0m\n",
      "\u001b[0;32m/dali/lgrandi/strax/strax/strax/context.py\u001b[0m in \u001b[0;36mget_iter\u001b[0;34m(self, run_id, targets, save, max_workers, time_range, seconds_range, time_within, time_selection, selection_str, keep_columns, allow_multiple, progress_bar, _chunk_number, **kwargs)\u001b[0m\n\u001b[1;32m    973\u001b[0m                 \u001b[0mpbar\u001b[0m\u001b[0;34m.\u001b[0m\u001b[0mlast_print_t\u001b[0m \u001b[0;34m=\u001b[0m \u001b[0mtime\u001b[0m\u001b[0;34m.\u001b[0m\u001b[0mtime\u001b[0m\u001b[0;34m(\u001b[0m\u001b[0;34m)\u001b[0m\u001b[0;34m\u001b[0m\u001b[0;34m\u001b[0m\u001b[0m\n\u001b[1;32m    974\u001b[0m                 \u001b[0mpbar\u001b[0m\u001b[0;34m.\u001b[0m\u001b[0mmbs\u001b[0m \u001b[0;34m=\u001b[0m \u001b[0;34m[\u001b[0m\u001b[0;34m]\u001b[0m\u001b[0;34m\u001b[0m\u001b[0;34m\u001b[0m\u001b[0m\n\u001b[0;32m--> 975\u001b[0;31m                 \u001b[0;32mfor\u001b[0m \u001b[0mn_chunks\u001b[0m\u001b[0;34m,\u001b[0m \u001b[0mresult\u001b[0m \u001b[0;32min\u001b[0m \u001b[0menumerate\u001b[0m\u001b[0;34m(\u001b[0m\u001b[0mstrax\u001b[0m\u001b[0;34m.\u001b[0m\u001b[0mcontinuity_check\u001b[0m\u001b[0;34m(\u001b[0m\u001b[0mgenerator\u001b[0m\u001b[0;34m)\u001b[0m\u001b[0;34m,\u001b[0m \u001b[0;36m1\u001b[0m\u001b[0;34m)\u001b[0m\u001b[0;34m:\u001b[0m\u001b[0;34m\u001b[0m\u001b[0;34m\u001b[0m\u001b[0m\n\u001b[0m\u001b[1;32m    976\u001b[0m                     \u001b[0mseen_a_chunk\u001b[0m \u001b[0;34m=\u001b[0m \u001b[0;32mTrue\u001b[0m\u001b[0;34m\u001b[0m\u001b[0;34m\u001b[0m\u001b[0m\n\u001b[1;32m    977\u001b[0m                     \u001b[0;32mif\u001b[0m \u001b[0;32mnot\u001b[0m \u001b[0misinstance\u001b[0m\u001b[0;34m(\u001b[0m\u001b[0mresult\u001b[0m\u001b[0;34m,\u001b[0m \u001b[0mstrax\u001b[0m\u001b[0;34m.\u001b[0m\u001b[0mChunk\u001b[0m\u001b[0;34m)\u001b[0m\u001b[0;34m:\u001b[0m\u001b[0;34m\u001b[0m\u001b[0;34m\u001b[0m\u001b[0m\n",
      "\u001b[0;32m/dali/lgrandi/strax/strax/strax/chunk.py\u001b[0m in \u001b[0;36mcontinuity_check\u001b[0;34m(chunk_iter)\u001b[0m\n\u001b[1;32m    264\u001b[0m     \u001b[0mlast_end\u001b[0m \u001b[0;34m=\u001b[0m \u001b[0;32mNone\u001b[0m\u001b[0;34m\u001b[0m\u001b[0;34m\u001b[0m\u001b[0m\n\u001b[1;32m    265\u001b[0m     \u001b[0mlast_runid\u001b[0m \u001b[0;34m=\u001b[0m \u001b[0;32mNone\u001b[0m\u001b[0;34m\u001b[0m\u001b[0;34m\u001b[0m\u001b[0m\n\u001b[0;32m--> 266\u001b[0;31m     \u001b[0;32mfor\u001b[0m \u001b[0ms\u001b[0m \u001b[0;32min\u001b[0m \u001b[0mchunk_iter\u001b[0m\u001b[0;34m:\u001b[0m\u001b[0;34m\u001b[0m\u001b[0;34m\u001b[0m\u001b[0m\n\u001b[0m\u001b[1;32m    267\u001b[0m         \u001b[0;32mif\u001b[0m \u001b[0ms\u001b[0m\u001b[0;34m.\u001b[0m\u001b[0mrun_id\u001b[0m \u001b[0;34m!=\u001b[0m \u001b[0mlast_runid\u001b[0m\u001b[0;34m:\u001b[0m\u001b[0;34m\u001b[0m\u001b[0;34m\u001b[0m\u001b[0m\n\u001b[1;32m    268\u001b[0m             \u001b[0;31m# TODO: can we do better?\u001b[0m\u001b[0;34m\u001b[0m\u001b[0;34m\u001b[0m\u001b[0;34m\u001b[0m\u001b[0m\n",
      "\u001b[0;32m/dali/lgrandi/strax/strax/strax/processor.py\u001b[0m in \u001b[0;36miter\u001b[0;34m(self)\u001b[0m\n\u001b[1;32m    283\u001b[0m             \u001b[0;31m# which is printed for the user\u001b[0m\u001b[0;34m\u001b[0m\u001b[0;34m\u001b[0m\u001b[0;34m\u001b[0m\u001b[0m\n\u001b[1;32m    284\u001b[0m             \u001b[0mself\u001b[0m\u001b[0;34m.\u001b[0m\u001b[0mlog\u001b[0m\u001b[0;34m.\u001b[0m\u001b[0mdebug\u001b[0m\u001b[0;34m(\u001b[0m\u001b[0;34m\"Reraising exception\"\u001b[0m\u001b[0;34m)\u001b[0m\u001b[0;34m\u001b[0m\u001b[0;34m\u001b[0m\u001b[0m\n\u001b[0;32m--> 285\u001b[0;31m             \u001b[0;32mraise\u001b[0m \u001b[0mexc\u001b[0m\u001b[0;34m.\u001b[0m\u001b[0mwith_traceback\u001b[0m\u001b[0;34m(\u001b[0m\u001b[0mtraceback\u001b[0m\u001b[0;34m)\u001b[0m\u001b[0;34m\u001b[0m\u001b[0;34m\u001b[0m\u001b[0m\n\u001b[0m\u001b[1;32m    286\u001b[0m \u001b[0;34m\u001b[0m\u001b[0m\n\u001b[1;32m    287\u001b[0m         \u001b[0;31m# Check the savers for any exception that occurred during saving\u001b[0m\u001b[0;34m\u001b[0m\u001b[0;34m\u001b[0m\u001b[0;34m\u001b[0m\u001b[0m\n",
      "\u001b[0;32m/dali/lgrandi/strax/strax/strax/mailbox.py\u001b[0m in \u001b[0;36m_send_from\u001b[0;34m(self, iterable)\u001b[0m\n\u001b[1;32m    252\u001b[0m \u001b[0;34m\u001b[0m\u001b[0m\n\u001b[1;32m    253\u001b[0m                 \u001b[0;32mtry\u001b[0m\u001b[0;34m:\u001b[0m\u001b[0;34m\u001b[0m\u001b[0;34m\u001b[0m\u001b[0m\n\u001b[0;32m--> 254\u001b[0;31m                     \u001b[0mx\u001b[0m \u001b[0;34m=\u001b[0m \u001b[0mnext\u001b[0m\u001b[0;34m(\u001b[0m\u001b[0miterable\u001b[0m\u001b[0;34m)\u001b[0m\u001b[0;34m\u001b[0m\u001b[0;34m\u001b[0m\u001b[0m\n\u001b[0m\u001b[1;32m    255\u001b[0m                 \u001b[0;32mexcept\u001b[0m \u001b[0mStopIteration\u001b[0m\u001b[0;34m:\u001b[0m\u001b[0;34m\u001b[0m\u001b[0;34m\u001b[0m\u001b[0m\n\u001b[1;32m    256\u001b[0m                     \u001b[0;31m# No need to send this yet, close will do that\u001b[0m\u001b[0;34m\u001b[0m\u001b[0;34m\u001b[0m\u001b[0;34m\u001b[0m\u001b[0m\n",
      "\u001b[0;32m/dali/lgrandi/strax/strax/strax/plugin.py\u001b[0m in \u001b[0;36miter\u001b[0;34m(self, iters, executor)\u001b[0m\n\u001b[1;32m    392\u001b[0m                     \u001b[0;32myield\u001b[0m \u001b[0mnew_future\u001b[0m\u001b[0;34m\u001b[0m\u001b[0;34m\u001b[0m\u001b[0m\n\u001b[1;32m    393\u001b[0m                 \u001b[0;32melse\u001b[0m\u001b[0;34m:\u001b[0m\u001b[0;34m\u001b[0m\u001b[0;34m\u001b[0m\u001b[0m\n\u001b[0;32m--> 394\u001b[0;31m                     \u001b[0;32myield\u001b[0m \u001b[0mself\u001b[0m\u001b[0;34m.\u001b[0m\u001b[0mdo_compute\u001b[0m\u001b[0;34m(\u001b[0m\u001b[0mchunk_i\u001b[0m\u001b[0;34m=\u001b[0m\u001b[0mchunk_i\u001b[0m\u001b[0;34m,\u001b[0m \u001b[0;34m**\u001b[0m\u001b[0minputs_merged\u001b[0m\u001b[0;34m)\u001b[0m\u001b[0;34m\u001b[0m\u001b[0;34m\u001b[0m\u001b[0m\n\u001b[0m\u001b[1;32m    395\u001b[0m \u001b[0;34m\u001b[0m\u001b[0m\n\u001b[1;32m    396\u001b[0m         \u001b[0;32mexcept\u001b[0m \u001b[0mIterDone\u001b[0m\u001b[0;34m:\u001b[0m\u001b[0;34m\u001b[0m\u001b[0;34m\u001b[0m\u001b[0m\n",
      "\u001b[0;32m/dali/lgrandi/strax/strax/strax/plugin.py\u001b[0m in \u001b[0;36mdo_compute\u001b[0;34m(self, chunk_i, **kwargs)\u001b[0m\n\u001b[1;32m    490\u001b[0m             \u001b[0mkwargs\u001b[0m\u001b[0;34m[\u001b[0m\u001b[0;34m'start'\u001b[0m\u001b[0;34m]\u001b[0m \u001b[0;34m=\u001b[0m \u001b[0mstart\u001b[0m\u001b[0;34m\u001b[0m\u001b[0;34m\u001b[0m\u001b[0m\n\u001b[1;32m    491\u001b[0m             \u001b[0mkwargs\u001b[0m\u001b[0;34m[\u001b[0m\u001b[0;34m'end'\u001b[0m\u001b[0;34m]\u001b[0m \u001b[0;34m=\u001b[0m \u001b[0mend\u001b[0m\u001b[0;34m\u001b[0m\u001b[0;34m\u001b[0m\u001b[0m\n\u001b[0;32m--> 492\u001b[0;31m         \u001b[0mresult\u001b[0m \u001b[0;34m=\u001b[0m \u001b[0mself\u001b[0m\u001b[0;34m.\u001b[0m\u001b[0mcompute\u001b[0m\u001b[0;34m(\u001b[0m\u001b[0;34m**\u001b[0m\u001b[0mkwargs\u001b[0m\u001b[0;34m)\u001b[0m\u001b[0;34m\u001b[0m\u001b[0;34m\u001b[0m\u001b[0m\n\u001b[0m\u001b[1;32m    493\u001b[0m \u001b[0;34m\u001b[0m\u001b[0m\n\u001b[1;32m    494\u001b[0m         \u001b[0;32mreturn\u001b[0m \u001b[0mself\u001b[0m\u001b[0;34m.\u001b[0m\u001b[0m_fix_output\u001b[0m\u001b[0;34m(\u001b[0m\u001b[0mresult\u001b[0m\u001b[0;34m,\u001b[0m \u001b[0mstart\u001b[0m\u001b[0;34m,\u001b[0m \u001b[0mend\u001b[0m\u001b[0;34m)\u001b[0m\u001b[0;34m\u001b[0m\u001b[0;34m\u001b[0m\u001b[0m\n",
      "\u001b[0;32m~/epix/epix/simulator/fast_simulator.py\u001b[0m in \u001b[0;36mcompute\u001b[0;34m(self)\u001b[0m\n\u001b[1;32m    194\u001b[0m                                    \u001b[0mconfig\u001b[0m\u001b[0;34m=\u001b[0m\u001b[0mself\u001b[0m\u001b[0;34m.\u001b[0m\u001b[0mconfig\u001b[0m\u001b[0;34m,\u001b[0m\u001b[0;34m\u001b[0m\u001b[0;34m\u001b[0m\u001b[0m\n\u001b[1;32m    195\u001b[0m                                    resource=self.resource)\n\u001b[0;32m--> 196\u001b[0;31m         \u001b[0msimulated_data\u001b[0m \u001b[0;34m=\u001b[0m \u001b[0mself\u001b[0m\u001b[0;34m.\u001b[0m\u001b[0mSimulator\u001b[0m\u001b[0;34m.\u001b[0m\u001b[0mrun_simulator\u001b[0m\u001b[0;34m(\u001b[0m\u001b[0;34m)\u001b[0m\u001b[0;34m\u001b[0m\u001b[0;34m\u001b[0m\u001b[0m\n\u001b[0m\u001b[1;32m    197\u001b[0m \u001b[0;34m\u001b[0m\u001b[0m\n\u001b[1;32m    198\u001b[0m         simulated_data_chunk=self.chunk(\n",
      "\u001b[0;32m~/epix/epix/simulator/fast_simulator.py\u001b[0m in \u001b[0;36mrun_simulator\u001b[0;34m(self)\u001b[0m\n\u001b[1;32m     93\u001b[0m     \u001b[0;32mdef\u001b[0m \u001b[0mrun_simulator\u001b[0m\u001b[0;34m(\u001b[0m\u001b[0mself\u001b[0m\u001b[0;34m,\u001b[0m \u001b[0;34m)\u001b[0m\u001b[0;34m:\u001b[0m\u001b[0;34m\u001b[0m\u001b[0;34m\u001b[0m\u001b[0m\n\u001b[1;32m     94\u001b[0m         \u001b[0mself\u001b[0m\u001b[0;34m.\u001b[0m\u001b[0mcluster_events\u001b[0m\u001b[0;34m(\u001b[0m\u001b[0;34m)\u001b[0m\u001b[0;34m\u001b[0m\u001b[0;34m\u001b[0m\u001b[0m\n\u001b[0;32m---> 95\u001b[0;31m         \u001b[0mself\u001b[0m\u001b[0;34m.\u001b[0m\u001b[0msimulate\u001b[0m\u001b[0;34m(\u001b[0m\u001b[0;34m)\u001b[0m\u001b[0;34m\u001b[0m\u001b[0;34m\u001b[0m\u001b[0m\n\u001b[0m\u001b[1;32m     96\u001b[0m \u001b[0;34m\u001b[0m\u001b[0m\n\u001b[1;32m     97\u001b[0m         \u001b[0;32mreturn\u001b[0m \u001b[0mself\u001b[0m\u001b[0;34m.\u001b[0m\u001b[0minstructions\u001b[0m\u001b[0;34m\u001b[0m\u001b[0;34m\u001b[0m\u001b[0m\n",
      "\u001b[0;32m~/epix/epix/simulator/fast_simulator.py\u001b[0m in \u001b[0;36msimulate\u001b[0;34m(self)\u001b[0m\n\u001b[1;32m     87\u001b[0m     \u001b[0;32mdef\u001b[0m \u001b[0msimulate\u001b[0m\u001b[0;34m(\u001b[0m\u001b[0mself\u001b[0m\u001b[0;34m,\u001b[0m \u001b[0;34m)\u001b[0m\u001b[0;34m:\u001b[0m\u001b[0;34m\u001b[0m\u001b[0;34m\u001b[0m\u001b[0m\n\u001b[1;32m     88\u001b[0m         \u001b[0;32mfor\u001b[0m \u001b[0mfunc\u001b[0m \u001b[0;32min\u001b[0m \u001b[0mself\u001b[0m\u001b[0;34m.\u001b[0m\u001b[0msimulation_functions\u001b[0m\u001b[0;34m:\u001b[0m\u001b[0;34m\u001b[0m\u001b[0;34m\u001b[0m\u001b[0m\n\u001b[0;32m---> 89\u001b[0;31m             func(instructions=self.instructions,\n\u001b[0m\u001b[1;32m     90\u001b[0m                  \u001b[0mconfig\u001b[0m\u001b[0;34m=\u001b[0m\u001b[0mself\u001b[0m\u001b[0;34m.\u001b[0m\u001b[0mconfig\u001b[0m\u001b[0;34m,\u001b[0m\u001b[0;34m\u001b[0m\u001b[0;34m\u001b[0m\u001b[0m\n\u001b[1;32m     91\u001b[0m                  resource=self.resource)\n",
      "\u001b[0;32m~/epix/epix/simulator/GenerateEvents.py\u001b[0m in \u001b[0;36mmake_s2\u001b[0;34m(instructions, config, resource)\u001b[0m\n\u001b[1;32m     60\u001b[0m \u001b[0;34m\u001b[0m\u001b[0m\n\u001b[1;32m     61\u001b[0m         \u001b[0mn_el\u001b[0m \u001b[0;34m=\u001b[0m \u001b[0minstructions\u001b[0m\u001b[0;34m[\u001b[0m\u001b[0;34m's2_area'\u001b[0m\u001b[0;34m]\u001b[0m\u001b[0;34m.\u001b[0m\u001b[0mastype\u001b[0m\u001b[0;34m(\u001b[0m\u001b[0mnp\u001b[0m\u001b[0;34m.\u001b[0m\u001b[0mint64\u001b[0m\u001b[0;34m)\u001b[0m\u001b[0;34m\u001b[0m\u001b[0;34m\u001b[0m\u001b[0m\n\u001b[0;32m---> 62\u001b[0;31m         n_electron = Helpers.get_s2_charge_yield(n_electron=n_el,\n\u001b[0m\u001b[1;32m     63\u001b[0m                                                  \u001b[0mpositions\u001b[0m\u001b[0;34m=\u001b[0m\u001b[0mxy\u001b[0m\u001b[0;34m,\u001b[0m\u001b[0;34m\u001b[0m\u001b[0;34m\u001b[0m\u001b[0m\n\u001b[1;32m     64\u001b[0m                                                  \u001b[0mz_obs\u001b[0m\u001b[0;34m=\u001b[0m\u001b[0minstructions\u001b[0m\u001b[0;34m[\u001b[0m\u001b[0;34m'z'\u001b[0m\u001b[0;34m]\u001b[0m\u001b[0;34m,\u001b[0m\u001b[0;34m\u001b[0m\u001b[0;34m\u001b[0m\u001b[0m\n",
      "\u001b[0;32m~/epix/epix/simulator/helpers.py\u001b[0m in \u001b[0;36mget_s2_charge_yield\u001b[0;34m(n_electron, positions, z_obs, config, resource)\u001b[0m\n\u001b[1;32m    109\u001b[0m     \u001b[0;32mdef\u001b[0m \u001b[0mget_s2_charge_yield\u001b[0m\u001b[0;34m(\u001b[0m\u001b[0mn_electron\u001b[0m\u001b[0;34m,\u001b[0m \u001b[0mpositions\u001b[0m\u001b[0;34m,\u001b[0m \u001b[0mz_obs\u001b[0m\u001b[0;34m,\u001b[0m \u001b[0mconfig\u001b[0m\u001b[0;34m,\u001b[0m \u001b[0mresource\u001b[0m\u001b[0;34m)\u001b[0m\u001b[0;34m:\u001b[0m\u001b[0;34m\u001b[0m\u001b[0;34m\u001b[0m\u001b[0m\n\u001b[1;32m    110\u001b[0m         \u001b[0;34m\"\"\"See wfsim.s2.get_electron_yield\"\"\"\u001b[0m\u001b[0;34m\u001b[0m\u001b[0;34m\u001b[0m\u001b[0m\n\u001b[0;32m--> 111\u001b[0;31m         return wfsim.S2.get_electron_yield(n_electron=n_electron,\n\u001b[0m\u001b[1;32m    112\u001b[0m                                            \u001b[0mpositions\u001b[0m\u001b[0;34m=\u001b[0m\u001b[0mpositions\u001b[0m\u001b[0;34m,\u001b[0m\u001b[0;34m\u001b[0m\u001b[0;34m\u001b[0m\u001b[0m\n\u001b[1;32m    113\u001b[0m                                            \u001b[0mz_obs\u001b[0m\u001b[0;34m=\u001b[0m\u001b[0mz_obs\u001b[0m\u001b[0;34m,\u001b[0m\u001b[0;34m\u001b[0m\u001b[0;34m\u001b[0m\u001b[0m\n",
      "\u001b[0;32m/dali/lgrandi/strax/WFSim/wfsim/core.py\u001b[0m in \u001b[0;36mget_electron_yield\u001b[0;34m(n_electron, positions, z_obs, config, resource)\u001b[0m\n\u001b[1;32m    672\u001b[0m         \u001b[0;31m# why are there cy greater than 1? We should check this\u001b[0m\u001b[0;34m\u001b[0m\u001b[0;34m\u001b[0m\u001b[0;34m\u001b[0m\u001b[0m\n\u001b[1;32m    673\u001b[0m         \u001b[0mcy\u001b[0m \u001b[0;34m=\u001b[0m \u001b[0mnp\u001b[0m\u001b[0;34m.\u001b[0m\u001b[0mclip\u001b[0m\u001b[0;34m(\u001b[0m\u001b[0mcy\u001b[0m\u001b[0;34m,\u001b[0m \u001b[0ma_min\u001b[0m \u001b[0;34m=\u001b[0m \u001b[0;36m0\u001b[0m\u001b[0;34m,\u001b[0m \u001b[0ma_max\u001b[0m \u001b[0;34m=\u001b[0m \u001b[0;36m1\u001b[0m\u001b[0;34m)\u001b[0m\u001b[0;34m\u001b[0m\u001b[0;34m\u001b[0m\u001b[0m\n\u001b[0;32m--> 674\u001b[0;31m         \u001b[0mn_electron\u001b[0m \u001b[0;34m=\u001b[0m \u001b[0mnp\u001b[0m\u001b[0;34m.\u001b[0m\u001b[0mrandom\u001b[0m\u001b[0;34m.\u001b[0m\u001b[0mbinomial\u001b[0m\u001b[0;34m(\u001b[0m\u001b[0mn\u001b[0m\u001b[0;34m=\u001b[0m\u001b[0mn_electron\u001b[0m\u001b[0;34m,\u001b[0m \u001b[0mp\u001b[0m\u001b[0;34m=\u001b[0m\u001b[0mcy\u001b[0m\u001b[0;34m)\u001b[0m\u001b[0;34m\u001b[0m\u001b[0;34m\u001b[0m\u001b[0m\n\u001b[0m\u001b[1;32m    675\u001b[0m         \u001b[0;32mreturn\u001b[0m \u001b[0mn_electron\u001b[0m\u001b[0;34m\u001b[0m\u001b[0;34m\u001b[0m\u001b[0m\n\u001b[1;32m    676\u001b[0m \u001b[0;34m\u001b[0m\u001b[0m\n",
      "\u001b[0;32mmtrand.pyx\u001b[0m in \u001b[0;36mnumpy.random.mtrand.RandomState.binomial\u001b[0;34m()\u001b[0m\n",
      "\u001b[0;32m_common.pyx\u001b[0m in \u001b[0;36mnumpy.random._common.check_array_constraint\u001b[0;34m()\u001b[0m\n",
      "\u001b[0;31mValueError\u001b[0m: n < 0"
     ]
    }
   ],
   "source": [
    "st.make(run_id,'events_tpc')"
   ]
  },
  {
   "cell_type": "code",
   "execution_count": null,
   "metadata": {},
   "outputs": [],
   "source": [
    "arr_events = st.get_array(run_id, 'events_tpc')\n",
    "arr_events.dtype"
   ]
  }
 ],
 "metadata": {
  "kernelspec": {
   "display_name": "Python 3",
   "language": "python",
   "name": "python3"
  },
  "language_info": {
   "codemirror_mode": {
    "name": "ipython",
    "version": 3
   },
   "file_extension": ".py",
   "mimetype": "text/x-python",
   "name": "python",
   "nbconvert_exporter": "python",
   "pygments_lexer": "ipython3",
   "version": "3.8.5"
  }
 },
 "nbformat": 4,
 "nbformat_minor": 4
}
