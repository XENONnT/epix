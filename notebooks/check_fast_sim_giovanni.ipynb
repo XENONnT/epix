{
 "cells": [
  {
   "cell_type": "markdown",
   "id": "8b4166bb-813c-499e-bdc3-961158fd5032",
   "metadata": {},
   "source": [
    "# Initialization"
   ]
  },
  {
   "cell_type": "raw",
   "id": "ee25e081-c9aa-4eb4-8899-54445fe66f3c",
   "metadata": {},
   "source": [
    "import straxen\n",
    "import wfsim\n",
    "import cutax\n",
    "\n",
    "straxen.print_versions('strax straxen wfsim cutax'.split())\n",
    "st_sim = cutax.contexts.xenonnt_sim_SR0v2_cmt_v8()\n",
    "st_sim.set_config(dict(fax_file = '/dali/lgrandi/giovo/XENONnT/epix/test/nT_TPC_Pb212_2000_0_epix.csv'))\n",
    "st_sim.make('0', 'raw_records')"
   ]
  },
  {
   "cell_type": "code",
   "execution_count": 1,
   "id": "f6aca658-08a3-4d37-86e9-a4758bfee247",
   "metadata": {},
   "outputs": [],
   "source": [
    "import tqdm"
   ]
  },
  {
   "cell_type": "code",
   "execution_count": 2,
   "id": "c35255ea-1e83-43cb-b1e3-90a657ce4acb",
   "metadata": {},
   "outputs": [
    {
     "name": "stderr",
     "output_type": "stream",
     "text": [
      "*** Detector definition message ***\n",
      "You are currently using the default XENON10 template detector.\n",
      "\n"
     ]
    },
    {
     "name": "stdout",
     "output_type": "stream",
     "text": [
      "Using nestpy version 1.5.0\n"
     ]
    },
    {
     "data": {
      "text/html": [
       "<div>\n",
       "<style scoped>\n",
       "    .dataframe tbody tr th:only-of-type {\n",
       "        vertical-align: middle;\n",
       "    }\n",
       "\n",
       "    .dataframe tbody tr th {\n",
       "        vertical-align: top;\n",
       "    }\n",
       "\n",
       "    .dataframe thead th {\n",
       "        text-align: right;\n",
       "    }\n",
       "</style>\n",
       "<table border=\"1\" class=\"dataframe\">\n",
       "  <thead>\n",
       "    <tr style=\"text-align: right;\">\n",
       "      <th></th>\n",
       "      <th>module</th>\n",
       "      <th>version</th>\n",
       "      <th>path</th>\n",
       "      <th>git</th>\n",
       "    </tr>\n",
       "  </thead>\n",
       "  <tbody>\n",
       "    <tr>\n",
       "      <th>0</th>\n",
       "      <td>python</td>\n",
       "      <td>3.8.13</td>\n",
       "      <td>/opt/XENONnT/anaconda/envs/XENONnT_2022.06.3/bin/python</td>\n",
       "      <td>None</td>\n",
       "    </tr>\n",
       "    <tr>\n",
       "      <th>1</th>\n",
       "      <td>strax</td>\n",
       "      <td>1.2.3</td>\n",
       "      <td>/opt/XENONnT/anaconda/envs/XENONnT_2022.06.3/lib/python3.8/site-packages/strax</td>\n",
       "      <td>None</td>\n",
       "    </tr>\n",
       "    <tr>\n",
       "      <th>2</th>\n",
       "      <td>straxen</td>\n",
       "      <td>1.7.1</td>\n",
       "      <td>/opt/XENONnT/anaconda/envs/XENONnT_2022.06.3/lib/python3.8/site-packages/straxen</td>\n",
       "      <td>None</td>\n",
       "    </tr>\n",
       "    <tr>\n",
       "      <th>3</th>\n",
       "      <td>cutax</td>\n",
       "      <td>1.12.0</td>\n",
       "      <td>/dali/lgrandi/xenonnt/software/cutax/v1.12.0/cutax</td>\n",
       "      <td>None</td>\n",
       "    </tr>\n",
       "    <tr>\n",
       "      <th>4</th>\n",
       "      <td>wfsim</td>\n",
       "      <td>1.0.0</td>\n",
       "      <td>/opt/XENONnT/anaconda/envs/XENONnT_2022.06.3/lib/python3.8/site-packages/wfsim</td>\n",
       "      <td>None</td>\n",
       "    </tr>\n",
       "    <tr>\n",
       "      <th>5</th>\n",
       "      <td>epix</td>\n",
       "      <td>0.3.2</td>\n",
       "      <td>/home/gvolta/XENONnT/epix/epix</td>\n",
       "      <td>branch:update_giovanni | 3ccdd97</td>\n",
       "    </tr>\n",
       "  </tbody>\n",
       "</table>\n",
       "</div>"
      ],
      "text/plain": [
       "    module version  \\\n",
       "0   python  3.8.13   \n",
       "1    strax   1.2.3   \n",
       "2  straxen   1.7.1   \n",
       "3    cutax  1.12.0   \n",
       "4    wfsim   1.0.0   \n",
       "5     epix   0.3.2   \n",
       "\n",
       "                                                                               path  \\\n",
       "0                           /opt/XENONnT/anaconda/envs/XENONnT_2022.06.3/bin/python   \n",
       "1    /opt/XENONnT/anaconda/envs/XENONnT_2022.06.3/lib/python3.8/site-packages/strax   \n",
       "2  /opt/XENONnT/anaconda/envs/XENONnT_2022.06.3/lib/python3.8/site-packages/straxen   \n",
       "3                                /dali/lgrandi/xenonnt/software/cutax/v1.12.0/cutax   \n",
       "4    /opt/XENONnT/anaconda/envs/XENONnT_2022.06.3/lib/python3.8/site-packages/wfsim   \n",
       "5                                                    /home/gvolta/XENONnT/epix/epix   \n",
       "\n",
       "                                git  \n",
       "0                              None  \n",
       "1                              None  \n",
       "2                              None  \n",
       "3                              None  \n",
       "4                              None  \n",
       "5  branch:update_giovanni | 3ccdd97  "
      ]
     },
     "execution_count": 2,
     "metadata": {},
     "output_type": "execute_result"
    }
   ],
   "source": [
    "import utixenon\n",
    "import nton\n",
    "import pickle\n",
    "\n",
    "import glob\n",
    "\n",
    "import pandas as pd\n",
    "pd.set_option('display.max_columns', None)\n",
    "pd.set_option('display.max_rows', 100)\n",
    "pd.set_option('display.max_colwidth', None)\n",
    "import numpy as np\n",
    "import scipy as sp\n",
    "\n",
    "import matplotlib as mpl\n",
    "import matplotlib.pyplot as plt\n",
    "import matplotlib.dates as mpldates\n",
    "plt.style.use('/home/gvolta/.config/matplotlib/stylelib/giovanni.mplstyle')\n",
    "\n",
    "import strax, straxen, cutax, wfsim, epix\n",
    "straxen.print_versions(modules=('strax', 'straxen', 'cutax', 'wfsim', 'epix'))"
   ]
  },
  {
   "cell_type": "code",
   "execution_count": 3,
   "id": "9dcf0cb4-5892-474f-8f0c-fe98846e00aa",
   "metadata": {},
   "outputs": [],
   "source": [
    "import uproot\n",
    "from epix.simulator.fast_simulator import StraxSimulator"
   ]
  },
  {
   "cell_type": "code",
   "execution_count": 5,
   "id": "03251e66-287b-4ac6-8fc2-17ff7640753e",
   "metadata": {},
   "outputs": [
    {
     "name": "stdout",
     "output_type": "stream",
     "text": [
      "fastsim_test.csv\n",
      "fastsim_test-events_nveto-ybiznjvgl3\n",
      "fastsim_test-events_tpc-ybiznjvgl3\n",
      "nT_mc_run_ER_SS_InnerCryostat_U238_00000.root\n",
      "nT_mc_WholeLXe_Xe127_04400.root\n",
      "nT_mc_WholeLXe_Xe127_49999.root\n",
      "nT_TPC_Pb212_100000_postpone0_0.root\n",
      "nT_TPC_Pb212_2000_0.root\n",
      "Xenon1T_ER_Copper_BottomPmtPlate_U235_00476_g4mc_G4p10.root\n",
      "Xenon1T_ER_Copper_FieldGuard__Co60_00000_g4mc_G4p10.root\n",
      "Xenon1T_ER_Copper_TopRing_Co60_00000_g4mc_G4p10.root\n",
      "Xenon1T_ER_Copper_TopRing_Ra226_00000_g4mc_G4p10.root\n",
      "Xenon1T_ER_Copper_TopRing_U238_00000_g4mc_G4p10.root\n"
     ]
    }
   ],
   "source": [
    "path = '/dali/lgrandi/giovo/XENONnT/epix/test/'\n",
    "strax_data_dir = path\n",
    "!ls {strax_data_dir}"
   ]
  },
  {
   "cell_type": "code",
   "execution_count": 6,
   "id": "e461ecb0-3c2c-4bc3-88f3-a2c5b5bfda88",
   "metadata": {},
   "outputs": [],
   "source": [
    "!rm -r /dali/lgrandi/giovo/XENONnT/epix/test/fastsim_test-*"
   ]
  },
  {
   "cell_type": "code",
   "execution_count": 7,
   "id": "6240ed29-de2d-4bb3-98ca-867b5aac2fd0",
   "metadata": {},
   "outputs": [
    {
     "name": "stdout",
     "output_type": "stream",
     "text": [
      "rm: cannot remove ‘/dali/lgrandi/giovo/XENONnT/epix/test/wfsim_test*’: No such file or directory\n"
     ]
    }
   ],
   "source": [
    "!rm -r /dali/lgrandi/giovo/XENONnT/epix/test/wfsim_test*"
   ]
  },
  {
   "cell_type": "code",
   "execution_count": 8,
   "id": "7fb53f3b-83ed-48a7-96ec-296bda2f1978",
   "metadata": {},
   "outputs": [
    {
     "name": "stdout",
     "output_type": "stream",
     "text": [
      "rm: cannot remove ‘/dali/lgrandi/giovo/XENONnT/epix/test/*epix*’: No such file or directory\n"
     ]
    }
   ],
   "source": [
    "!rm -r /dali/lgrandi/giovo/XENONnT/epix/test/*epix*"
   ]
  },
  {
   "cell_type": "code",
   "execution_count": 9,
   "id": "ebf857c4-3558-4968-aa52-a80072a2cdd6",
   "metadata": {},
   "outputs": [],
   "source": [
    "raw_data_dir = path\n",
    "raw_data_filename = 'nT_mc_WholeLXe_Xe127_04400.root'"
   ]
  },
  {
   "cell_type": "code",
   "execution_count": 10,
   "id": "0303353c-b691-4e21-81cd-070fa7cb1ac3",
   "metadata": {},
   "outputs": [],
   "source": [
    "g1_low_energy, g2_low_energy = utixenon.ces_helper.resolution_helper.ces_parameters(kind='xenonnt_v8_nominal_low_energy')\n",
    "\n",
    "w = 13.7e-3"
   ]
  },
  {
   "cell_type": "markdown",
   "id": "a49138a1-33ca-47c7-9ae1-3a7ed849313c",
   "metadata": {},
   "source": [
    "# Strax simulator"
   ]
  },
  {
   "cell_type": "code",
   "execution_count": 11,
   "id": "a8ab0062-0f98-4699-9a0a-b9d3d94089ba",
   "metadata": {},
   "outputs": [
    {
     "name": "stderr",
     "output_type": "stream",
     "text": [
      "INFO:strax:Deregister records_mv\n",
      "INFO:strax:Deregister detector_time_offsets\n",
      "INFO:strax:Deregister hitlets_mv\n",
      "INFO:strax:Deregister events_sync_mv\n",
      "INFO:strax:Deregister events_sync_nv\n",
      "INFO:strax:Deregister events_mv\n",
      "INFO:strax:Deregister online_monitor_mv\n",
      "WARNING:strax:Option gain_model_mv not taken by any registered plugin\n",
      "WARNING:strax:Option gain_model_mv not taken by any registered plugin\n",
      "WARNING:strax:Option gain_model_mv not taken by any registered plugin\n",
      "WARNING:strax:Option gain_model_mv not taken by any registered plugin\n",
      "INFO:strax:Replacing context._fixed_plugin_cache since plugins/versions changed\n",
      "WARNING:strax:Option gain_model_mv not taken by any registered plugin\n",
      "WARNING:strax:Option gain_model_mv not taken by any registered plugin\n"
     ]
    }
   ],
   "source": [
    "st = cutax.contexts.xenonnt_sim_chain_SR0v1_cmt_v8(output_folder=strax_data_dir) ##xenonnt_sim_SR0v3_cmt_v8 #xenonnt_sim_chain_SR0v1_cmt_v8"
   ]
  },
  {
   "cell_type": "code",
   "execution_count": 12,
   "id": "f7110643-97f0-497a-ab30-75bc155c164f",
   "metadata": {},
   "outputs": [],
   "source": [
    "run_id = 'fastsim_test'\n",
    "\n",
    "# epix config\n",
    "epix_args={'path': raw_data_dir,\n",
    "           'file_name': raw_data_filename, \n",
    "           'detector_config_override': '/home/gvolta/NucleonDisappearance/XENONnT/Simulation/EPIX/fastsim/sr0_epix_detectorconfig.ini',\n",
    "           'debug': True,           \n",
    "           'entry_start': 0,\n",
    "           'entry_stop': None,\n",
    "           'cut_by_eventid': False,\n",
    "           'micro_separation_time': 10.0,\n",
    "           'micro_separation': 0.05, # 0.005 mm\n",
    "           'tag_cluster_by': 'energy',\n",
    "           'max_delay': 1e7,\n",
    "           'source_rate': -1,\n",
    "           'save_epix': False}"
   ]
  },
  {
   "cell_type": "code",
   "execution_count": 13,
   "id": "57eeea2a-413b-4801-ad8b-cce012176858",
   "metadata": {},
   "outputs": [
    {
     "data": {
      "text/plain": [
       "epix.simulator.fast_simulator.StraxSimulator"
      ]
     },
     "execution_count": 13,
     "metadata": {},
     "output_type": "execute_result"
    }
   ],
   "source": [
    "configuration_files={'nv_pmt_qe':'nveto_pmt_qe.json',\n",
    "                     'photon_area_distribution':'XENONnT_SR0_spe_distributions_20210713_no_noise_scaled.csv',\n",
    "                     's1_pattern_map': 'XENONnT_s1_xyz_patterns_LCE_MCvf051911_wires.pkl',\n",
    "                     's2_pattern_map': 'XENONnT_s2_xy_patterns_GXe_LCE_corrected_qes_MCv4.3.0_wires.pkl',\n",
    "                    }\n",
    "\n",
    "_gains = [1 for i in range(494)]       \n",
    "# List of disabled PMTs\n",
    "pmt_off = [28, 121, 156, 164, 177, 291, 313, 338, 350, 352, 354, 362, 386, 393, 405, 427, 461]\n",
    "for _pmt in pmt_off:\n",
    "    _gains[_pmt]=0\n",
    "    \n",
    "# Set up configuration\n",
    "st.config.update(dict(fax_config = '/home/gvolta/XENONnT/private_nt_aux_files/sim_files/fax_config_nt_sr0_v3.json',  \n",
    "                      fax_config_nveto = 'fax_config_nt_nveto.json',  \n",
    "                      g4_file= path + raw_data_filename,\n",
    "                      epix_config = epix_args,\n",
    "                      # configuration_files = configuration_files,\n",
    "                      fax_config_overrides = {# \"detector\": \"XENONnT\",\n",
    "                                                # 'detector_config_override': '/dali/lgrandi/giovo/XENONnT/epix/sr0_epix_detectorconfig.ini',\n",
    "                                              #  \"gains\": _gains,\n",
    "                                                # \"n_top_pmts\": 253,\n",
    "                                                # \"n_tpc_pmts\": 494,\n",
    "                      }\n",
    "                     ))\n",
    "\n",
    "st.register(StraxSimulator)"
   ]
  },
  {
   "cell_type": "markdown",
   "id": "9f42a9f5-be45-4550-9ec4-c578c550e0bd",
   "metadata": {},
   "source": [
    "# Run simualtion"
   ]
  },
  {
   "cell_type": "code",
   "execution_count": 14,
   "id": "9d54e92a-d395-4821-9484-7b0bd2d6e2a6",
   "metadata": {
    "scrolled": true,
    "tags": []
   },
   "outputs": [
    {
     "name": "stderr",
     "output_type": "stream",
     "text": [
      "WARNING:strax:Option gain_model_mv not taken by any registered plugin\n",
      "INFO:strax:Replacing context._fixed_plugin_cache since plugins/versions changed\n",
      "/home/gvolta/XENONnT/epix/epix/simulator/fast_simulator.py:203: UserWarning: Why we have to provide gains here? No gains are passed in fax_config_overrides, default equal to 1\n",
      "  warnings.warn('Why we have to provide gains here? '\n",
      "/home/gvolta/XENONnT/epix/epix/simulator/fast_simulator.py:207: UserWarning: This is a deault value, why we have to give it in fax_config_overrides? No n_top_pmts are passed in fax_config_overrides, default equal to 253\n",
      "  warnings.warn('This is a deault value, why we have to give it in fax_config_overrides? '\n",
      "/home/gvolta/XENONnT/epix/epix/simulator/fast_simulator.py:211: UserWarning: This is a deault value, why we have to give it in fax_config_overrides? No n_tpc_pmts are passed in fax_config_overrides, default equal to 494\n",
      "  warnings.warn('This is a deault value, why we have to give it in fax_config_overrides? '\n",
      "WARNING:wfsim.resource:Using the private repo to load XENONnT_SR0_spe_distributions_20210713_no_noise_scaled.csv locally\n",
      "WARNING:wfsim.resource:Using the private repo to load XENONnT_s1_xyz_patterns_LCE_MCvf051911_wires.pkl locally\n",
      "WARNING:wfsim.resource:A file has value False, assuming this is intentional.\n",
      "WARNING:wfsim.resource:Using the private repo to load XENONnT_s2_xy_patterns_GXe_LCE_corrected_qes_MCv4.3.0_wires.pkl locally\n",
      "WARNING:wfsim.resource:Using the private repo to load XENONnT_s2_xy_map_v4_210503_mlp_3_in_1_iterated.json locally\n",
      "WARNING:wfsim.resource:Using the private repo to load XENONnT_se_xy_map_v1_mlp.json locally\n",
      "WARNING:wfsim.resource:Using the private repo to load XENONnT_pmt_afterpulse_config_018435.json.gz locally\n",
      "WARNING:wfsim.resource:Using the private repo to load XENONnT_GARFIELD_SR0_B2d75n_C2d75n_G0d3p_A4d9p_T0d9n_PMTs1d3n_FSR0d65p.npz locally\n",
      "WARNING:wfsim.resource:Using the private repo to load garfield_timing_map_gas_gap_sr0.npy locally\n",
      "WARNING:wfsim.resource:Using the private repo to load gas_gap_warping_map_January_2021.pkl locally\n",
      "WARNING:wfsim.resource:Using the private repo to load garfield_gas_gap_map_sr0.json locally\n",
      "WARNING:wfsim.resource:Loading x1t_se_afterpulse_delaytime.pkl.gz from mongo downloader to /dali/lgrandi/strax/resource_cache/014aa048758a51f154cdc3b32dac2773\n",
      "WARNING:wfsim.resource:Using the private repo to load XENONnT_noise_tpc_only_2ms_25118.npz locally\n",
      "WARNING:wfsim.resource:Using the private repo to load XnT_3D_FDC_xyt_dummy_all_zeros_v0.1.json.gz locally\n",
      "WARNING:wfsim.resource:Using the private repo to load field_dependent_radius_depth_maps_B2d75n_C2d75n_G0d3p_A4d9p_T0d9n_PMTs1d3n_FSR0d65p_QPTFE_0d5n_0d4p.json.gz locally\n",
      "WARNING:wfsim.resource:Using the private repo to load XENONnT_s1_proponly_pc_reflection_optPhot_perPMT_S1_local_20220510.json.gz locally\n",
      "WARNING:wfsim.resource:Using the private repo to load XENONnT_s2_opticalprop_time_v0.json.gz locally\n",
      "WARNING:wfsim.resource:Using json for unspecified /home/gvolta/XENONnT/private_nt_aux_files/ntauxfiles/../strax_files/XENONnT_se_xy_map_v1_mlp.json\n",
      "/opt/XENONnT/anaconda/envs/XENONnT_2022.06.3/lib/python3.8/site-packages/wfsim/load_resource.py:261: RuntimeWarning: invalid value encountered in true_divide\n",
      "  orig_aft_=np.mean((s2map_topeff_/s2map_toteff_)[s2map_toteff_>0.0])\n",
      "WARNING:wfsim.resource:Using json.gz for unspecified /home/gvolta/XENONnT/private_nt_aux_files/ntauxfiles/../sim_files/XENONnT_s2_opticalprop_time_v0.json.gz\n",
      "WARNING:wfsim.resource:Using noise data /home/gvolta/XENONnT/private_nt_aux_files/ntauxfiles/../sim_files/XENONnT_noise_tpc_only_2ms_25118.npz with 494 channels for XENONnT\n",
      "/home/gvolta/XENONnT/epix/epix/simulator/fast_simulator.py:178: UserWarning: The configuration_files should not exist!Everything should come by one config!Since nv_pmt_qe config is missing in configuration_files, the default one nveto_pmt_qe.json will be used\n",
      "  warnings.warn('The configuration_files should not exist!'\n",
      "/home/gvolta/XENONnT/epix/epix/simulator/fast_simulator.py:189: UserWarning: The configuration_files should not exist!Everything should come by one config!Since photon_area_distribution config is missing in configuration_files, the one in fax_config will be used\n",
      "  warnings.warn('The configuration_files should not exist!'\n",
      "WARNING:strax:Could not estimate run start and end time from run metadata: assuming it is 0 and inf\n",
      "/home/gvolta/XENONnT/epix/epix/simulator/fast_simulator.py:233: UserWarning: The epix_config is subtle!detector_config_override is given by epix_config, while detector is from config I do not like it!\n",
      "  warnings.warn('The epix_config is subtle!'\n"
     ]
    },
    {
     "name": "stdout",
     "output_type": "stream",
     "text": [
      "epix configuration:  {'path': '/dali/lgrandi/giovo/XENONnT/epix/test/', 'file_name': 'nT_mc_WholeLXe_Xe127_04400.root', 'detector_config_override': '/home/gvolta/NucleonDisappearance/XENONnT/Simulation/EPIX/fastsim/sr0_epix_detectorconfig.ini', 'debug': True, 'entry_start': 0, 'entry_stop': None, 'cut_by_eventid': False, 'micro_separation_time': 10.0, 'micro_separation': 0.05, 'tag_cluster_by': 'energy', 'max_delay': 10000000.0, 'source_rate': -1, 'save_epix': False, 'detector_config': [<epix.detector_volumes.SensitiveVolume object at 0x7fe4da47bd00>, <epix.detector_volumes.SensitiveVolume object at 0x7fe4d974b880>], 'outer_cylinder': {'max_z': 7.3936, 'min_z': -154.6555, 'max_r': 66.4}}\n",
      "Total entries in input file = 2000\n",
      "Starting to read from output file entry 0\n",
      "It took 42.5430 sec to load data.\n",
      "Finding clusters of interactions with a dr = 0.05 mm and dt = 10.0 ns\n",
      "It took 11.1987 sec to find clusters.\n",
      "It took 3.1705 sec to merge clusters.\n",
      "Removing clusters not in volumes: TPC BelowCathode\n",
      "Number of clusters before: 6328\n",
      "Number of clusters after: 6291\n",
      "Assigning electric field to clusters\n",
      "Generating photons and electrons for events\n",
      "No yield is provided! Forcing nest\n"
     ]
    },
    {
     "name": "stderr",
     "output_type": "stream",
     "text": [
      "/home/gvolta/.local/lib/python3.8/site-packages/numpy/lib/function_base.py:2387: RuntimeWarning: invalid value encountered in func (vectorized)\n",
      "  outputs = ufunc(*inputs)\n"
     ]
    },
    {
     "name": "stdout",
     "output_type": "stream",
     "text": [
      "It took 1.3504 sec to get quanta.\n",
      "Clean event separation\n"
     ]
    },
    {
     "name": "stderr",
     "output_type": "stream",
     "text": [
      "/opt/XENONnT/anaconda/envs/XENONnT_2022.06.3/lib/python3.8/site-packages/sklearn/base.py:329: UserWarning: Trying to unpickle estimator DecisionTreeClassifier from version 1.1.2 when using version 1.1.1. This might lead to breaking code or invalid results. Use at your own risk. For more info please refer to:\n",
      "https://scikit-learn.org/stable/model_persistence.html#security-maintainability-limitations\n",
      "  warnings.warn(\n"
     ]
    },
    {
     "name": "stdout",
     "output_type": "stream",
     "text": [
      "Source finished!\n",
      "It took 103.4 [s] to finish the simulation.\n",
      "\n",
      "\n"
     ]
    },
    {
     "name": "stderr",
     "output_type": "stream",
     "text": [
      "/home/gvolta/XENONnT/epix/epix/simulator/GenerateEvents.py:115: RuntimeWarning: invalid value encountered in true_divide\n",
      "  instructions['cs1'] = instructions['s1_area'] / (resource.s1_map(event_positions)[:, 0]/0.1581797073725071)\n",
      "/home/gvolta/XENONnT/epix/epix/simulator/GenerateEvents.py:116: RuntimeWarning: invalid value encountered in true_divide\n",
      "  instructions['alt_cs1'] = instructions['alt_s1_area'] / (resource.s1_map(event_positions)[:, 0]/0.1581797073725071)\n"
     ]
    }
   ],
   "source": [
    "import time\n",
    "import os \n",
    "import shutil\n",
    "\n",
    "start_time = time.time()\n",
    "\n",
    "st.make(run_id,'events_tpc')\n",
    "st.make(run_id, 'events_nveto')\n",
    "\n",
    "t = time.time()\n",
    "print(f'It took {(t - start_time):.1f} [s] to finish the simulation.\\n\\n')"
   ]
  },
  {
   "cell_type": "markdown",
   "id": "541c3e03-4632-43e9-afb5-da86a114b21c",
   "metadata": {},
   "source": [
    "# Epix info"
   ]
  },
  {
   "cell_type": "code",
   "execution_count": null,
   "id": "d1b9555d-4bad-470a-bddb-774d1ca21435",
   "metadata": {},
   "outputs": [],
   "source": [
    "!ls {raw_data_dir}"
   ]
  },
  {
   "cell_type": "code",
   "execution_count": null,
   "id": "fbc481a2-415b-48ce-88d3-a995bb96d7e4",
   "metadata": {},
   "outputs": [],
   "source": [
    "epix_ins = np.load(raw_data_dir + 'nT_mc_WholeLXe_Xe127_49999_epix_1.npy')\n",
    "epix_ins_2 = np.load(raw_data_dir + 'nT_mc_WholeLXe_Xe127_49999_epix_2.npy')"
   ]
  },
  {
   "cell_type": "code",
   "execution_count": null,
   "id": "bf33baaa-db38-4e9a-bbce-e5296988d33d",
   "metadata": {},
   "outputs": [],
   "source": [
    "epix_ins_tree = epix_ins.copy()\n",
    "tree = pickle.load(open('/dali/lgrandi/jgrigat/s2_separation/s2_separation_decision_tree_fast_sim.p', 'rb+'))"
   ]
  },
  {
   "cell_type": "code",
   "execution_count": null,
   "id": "a8e3984d-7a6c-4385-9697-54ebcb4eb1c5",
   "metadata": {},
   "outputs": [],
   "source": [
    "def _merge_these_clusters_nt_res_jaron(s2_area1, z1, s2_area2, z2, tree):\n",
    "    return bool(tree.predict([[z1, z2-z1, s2_area1, s2_area2]]))\n",
    "\n",
    "def macro_cluster_events(tree, instructions):\n",
    "    \"\"\"Loops over all instructions, checks if it's an s2 and if there is another s2 within the same event\n",
    "        within the macro cluster distance, if it is they are merged.\"\"\"\n",
    "    for ix1, _ in enumerate(instructions):\n",
    "        if instructions[ix1]['type'] != 2:\n",
    "            continue\n",
    "        for ix2 in range(1, len(instructions[ix1:])): # why was  + 1): ?\n",
    "            if instructions[ix1 + ix2]['type'] != 2:\n",
    "                continue\n",
    "            if instructions[ix1]['event_number'] != instructions[ix1 + ix2]['event_number']:\n",
    "                break\n",
    "            # _nt_res\n",
    "            if _merge_these_clusters_nt_res_jaron(instructions[ix1]['amp'], instructions[ix1]['z'],\n",
    "                                                      instructions[ix1 + ix2]['amp'], instructions[ix1 + ix2]['z'], \n",
    "                                                      tree):\n",
    "                #print(ix1)\n",
    "                instructions[ix1 + ix2]['x'] = (instructions[ix1]['x'] + instructions[ix1 + ix2]['x']) * 0.5\n",
    "                instructions[ix1 + ix2]['y'] = (instructions[ix1]['y'] + instructions[ix1 + ix2]['y']) * 0.5\n",
    "                instructions[ix1 + ix2]['z'] = (instructions[ix1]['z'] + instructions[ix1 + ix2]['z']) * 0.5\n",
    "                \n",
    "                instructions[ix1 + ix2]['x_pri'] = (instructions[ix1]['x'] + instructions[ix1 + ix2]['x_pri']) * 0.5\n",
    "                instructions[ix1 + ix2]['y_pri'] = (instructions[ix1]['y'] + instructions[ix1 + ix2]['y_pri']) * 0.5\n",
    "                instructions[ix1 + ix2]['z_pri'] = (instructions[ix1]['z'] + instructions[ix1 + ix2]['z_pri']) * 0.5\n",
    "                \n",
    "                instructions[ix1 + ix2]['amp'] = int((instructions[ix1]['amp'] + instructions[ix1 + ix2]['amp']))\n",
    "                instructions[ix1]['amp'] = -1  # flag to throw this instruction away later\n",
    "                instructions[ix1 + ix2]['e_dep'] = (instructions[ix1]['e_dep'] + instructions[ix1 + ix2]['e_dep'])\n",
    "                instructions[ix1]['e_dep'] = -1  # flag to throw this instruction away later\n",
    "                break"
   ]
  },
  {
   "cell_type": "code",
   "execution_count": null,
   "id": "d45700eb-c9e7-4540-93ce-2f8f8aab5903",
   "metadata": {
    "tags": []
   },
   "outputs": [],
   "source": [
    "macro_cluster_events(tree, epix_ins_tree)"
   ]
  },
  {
   "cell_type": "code",
   "execution_count": null,
   "id": "a4b6915d-1cbd-41d6-81d4-370ebf84435d",
   "metadata": {},
   "outputs": [],
   "source": [
    "epix_ins_df = pd.DataFrame(epix_ins) \n",
    "epix_ins_2_df = pd.DataFrame(epix_ins_2)\n",
    "epix_ins_tree_df = pd.DataFrame(epix_ins_tree)"
   ]
  },
  {
   "cell_type": "code",
   "execution_count": null,
   "id": "73dc13c2-f80e-4c25-aa53-c35a80d4887b",
   "metadata": {},
   "outputs": [],
   "source": [
    "epix_ins_tree_df = epix_ins_tree_df[epix_ins_tree_df.amp != -1]"
   ]
  },
  {
   "cell_type": "code",
   "execution_count": null,
   "id": "a5b7bfeb-7cb9-429f-bbf3-cd59d8960b6a",
   "metadata": {},
   "outputs": [],
   "source": [
    "event_number_0 = []\n",
    "event_number_1 = []\n",
    "event_number_2 = []\n",
    "for en in tqdm.tqdm(np.unique(epix_ins_tree_df.event_number)):\n",
    "    \n",
    "    temp = epix_ins_tree_df[epix_ins_tree_df.event_number == en] \n",
    "    \n",
    "    if len(temp[temp.type == 2]) == 0:\n",
    "        event_number_0.append(en)\n",
    "    elif len(temp[temp.type == 2]) == 1:\n",
    "        event_number_1.append(en)\n",
    "    else:\n",
    "        event_number_2.append(en)"
   ]
  },
  {
   "cell_type": "code",
   "execution_count": null,
   "id": "b308f916-b4de-4517-a187-20e87a981c26",
   "metadata": {},
   "outputs": [],
   "source": [
    "len(event_number_0), len(event_number_1), len(event_number_2)"
   ]
  },
  {
   "cell_type": "code",
   "execution_count": null,
   "id": "32926957-ab85-4a62-9d37-7bf1ba27b9b9",
   "metadata": {},
   "outputs": [],
   "source": [
    "en = event_number_1[np.random.choice(len(event_number_1), 1)[0]]\n",
    "display(epix_ins_df[(epix_ins_df.event_number == en) & (epix_ins_df.type == 2)]), display(epix_ins_tree_df[(epix_ins_tree_df.event_number == en) & (epix_ins_df.type == 2)])"
   ]
  },
  {
   "cell_type": "raw",
   "id": "fefbd17a-a669-449c-8bd8-f5a95f11f9cb",
   "metadata": {},
   "source": [
    "en = event_number_2[np.random.choice(len(event_number_2), 1)[0]]\n",
    "display(epix_ins_df[(epix_ins_df.event_number == en) & (epix_ins_df.type == 2)]), display(epix_ins_tree_df[(epix_ins_tree_df.event_number == en) & (epix_ins_tree_df.type == 2)])"
   ]
  },
  {
   "cell_type": "raw",
   "id": "7e2b400e-f8d1-45e7-954c-449d65044321",
   "metadata": {},
   "source": [
    "z = np.arange(-straxen.tpc_z+2.5, 0, 5)\n",
    "deltaz = np.arange(-2.5, 2.5, 0.01)"
   ]
  },
  {
   "cell_type": "raw",
   "id": "ffb3e45d-69e7-45aa-9eb9-461e4eee3f46",
   "metadata": {},
   "source": [
    "bools = [ ]\n",
    "#for ee in e[:1]:\n",
    "#    for alt_ee in alt_e[:1]:\n",
    "ee = 808\n",
    "alt_ee = 5935\n",
    "for iz, zz in enumerate(z):\n",
    "    if iz == 0:\n",
    "        for deltazz in deltaz:\n",
    "            if not _merge_these_clusters_nt_res_jaron(ee, zz, alt_ee, zz + deltazz, tree):\n",
    "                bools.append(1)\n",
    "            else:\n",
    "                bools.append(0)\n",
    "    else:\n",
    "        temp_bools = [ ]\n",
    "        for deltazz in deltaz:\n",
    "            if not _merge_these_clusters_nt_res_jaron(ee, zz, alt_ee, zz + deltazz, tree):\n",
    "                temp_bools.append(1)\n",
    "            else:\n",
    "                temp_bools.append(0)\n",
    "\n",
    "        bools = np.vstack((bools, temp_bools))"
   ]
  },
  {
   "cell_type": "raw",
   "id": "da39e45c-0872-4d2c-bf64-c7b5192a1d64",
   "metadata": {
    "tags": []
   },
   "source": [
    "#plt.figure(figsize=(8, 4), dpi=100)\n",
    "\n",
    "for i in range(len(z)):\n",
    "    plt.plot(deltaz, bools[i], color='black')\n",
    "    plt.title(f'z = {z[i]}; e = {ee} ; alt_e = {alt_ee}')\n",
    "    plt.grid()\n",
    "    plt.show()"
   ]
  },
  {
   "cell_type": "code",
   "execution_count": null,
   "id": "ed9d9b22-fdf4-41c4-aab3-e2e04a3b0aca",
   "metadata": {},
   "outputs": [],
   "source": [
    "epix_ins_df"
   ]
  },
  {
   "cell_type": "code",
   "execution_count": null,
   "id": "96646f29-11ff-4a61-a7ed-3dd33ec7c769",
   "metadata": {},
   "outputs": [],
   "source": [
    "epix_ins_2_df"
   ]
  },
  {
   "cell_type": "code",
   "execution_count": null,
   "id": "edef144f-6e87-4297-a5aa-b46c70f2c1d0",
   "metadata": {},
   "outputs": [],
   "source": [
    "epix_ins_tree_df"
   ]
  },
  {
   "cell_type": "markdown",
   "id": "d4ae9761-180a-4df4-aa8a-3236a4d520ce",
   "metadata": {},
   "source": [
    "# WFsim"
   ]
  },
  {
   "cell_type": "code",
   "execution_count": null,
   "id": "2e8fd05a-88d7-4127-bec3-96342ec9a52a",
   "metadata": {},
   "outputs": [],
   "source": [
    "run_id_wfsim = 'wfsim_test'\n",
    "\n",
    "st_sim = cutax.contexts.xenonnt_sim_SR0v2_cmt_v8()\n",
    "#st_sim.set_config({'fax_config': '/home/gvolta/XENONnT/private_nt_aux_files/sim_files/fax_config_nt_sr0_v2.json'})\n",
    "st_sim.set_config(dict(fax_file = raw_data_dir + 'nT_TPC_Pb212_2000_0_epix.csv'))"
   ]
  },
  {
   "cell_type": "code",
   "execution_count": null,
   "id": "3479f96b-b94e-4ec8-9671-c1cf93b3de46",
   "metadata": {},
   "outputs": [],
   "source": [
    "st_sim.make(run_id_wfsim, 'raw_records')"
   ]
  },
  {
   "cell_type": "code",
   "execution_count": null,
   "id": "c01126ad-fbd1-4f49-af1d-dbf8b965b477",
   "metadata": {},
   "outputs": [],
   "source": [
    "st_sim.make(run_id_wfsim, 'peaklets')\n",
    "#st.make(run_id, 'event_pattern_fit')"
   ]
  },
  {
   "cell_type": "code",
   "execution_count": null,
   "id": "7223ac4e-abc9-4a14-b30a-98260740d0fd",
   "metadata": {
    "scrolled": true,
    "tags": []
   },
   "outputs": [],
   "source": [
    "wfsim_event = st_sim.get_df(run_id_wfsim, 'event_info')"
   ]
  },
  {
   "cell_type": "code",
   "execution_count": null,
   "id": "a6e12d02-64d3-47a0-a503-585b19e656aa",
   "metadata": {},
   "outputs": [],
   "source": [
    "wfsim_event['e_ces_low'] = w * (wfsim_event.cs1/g1_low_energy + wfsim_event.cs2/g2_low_energy)\n",
    "wfsim_event['full_e_ces_low'] = w * (wfsim_event.cs1/g1_low_energy + (wfsim_event.cs2 + wfsim_event.alt_cs2)/g2_low_energy) "
   ]
  },
  {
   "cell_type": "code",
   "execution_count": null,
   "id": "0db0498e-d0b0-4daf-ab2c-7398e4236bae",
   "metadata": {},
   "outputs": [],
   "source": [
    "wfsim_event.head(5)"
   ]
  },
  {
   "cell_type": "markdown",
   "id": "89463045-6a2b-4632-9850-0583bff3c910",
   "metadata": {},
   "source": [
    "### Simulated events"
   ]
  },
  {
   "cell_type": "code",
   "execution_count": null,
   "id": "5b3d89e7-cdd0-4f55-a209-9e7d7e78bca9",
   "metadata": {
    "scrolled": true,
    "tags": []
   },
   "outputs": [],
   "source": [
    "event_info = st.get_df(run_id, 'events_tpc')\n",
    "\n",
    "event_info['r'] = np.sqrt(event_info['x']**2 + event_info['y']**2)\n",
    "event_info['r_pri'] = np.sqrt(event_info['x_pri']**2 + event_info['y_pri']**2)\n",
    "\n",
    "event_info['e_ces_low'] = w * (event_info.cs1/g1_low_energy + event_info.cs2/g2_low_energy)\n",
    "event_info['full_e_ces_low'] = w * (event_info.cs1/g1_low_energy + (event_info.cs2 + event_info.alt_cs2)/g2_low_energy) \n",
    "\n",
    "event_info"
   ]
  },
  {
   "cell_type": "code",
   "execution_count": null,
   "id": "7d5deadc-883b-4ae8-a391-b42b02cd7a01",
   "metadata": {},
   "outputs": [],
   "source": [
    "plt.figure(figsize=(8, 3), dpi=150)\n",
    "\n",
    "plt.subplot(121)\n",
    "utixenon.matplotlib_utils.plotXY(event_info.x, event_info.y, norm=mpl.colors.Normalize(), cmin=1, cmap='viridis')\n",
    "plt.colorbar()\n",
    "\n",
    "plt.subplot(122)\n",
    "utixenon.matplotlib_utils.plotR2Z(event_info.r, event_info.z, norm=mpl.colors.Normalize(), cmin=1, cmap='viridis')\n",
    "plt.colorbar()\n",
    "\n",
    "plt.tight_layout(), plt.show()"
   ]
  },
  {
   "cell_type": "code",
   "execution_count": null,
   "id": "c784b927-2546-456b-8199-62a9e2627f03",
   "metadata": {},
   "outputs": [],
   "source": [
    "plt.figure(figsize=(8, 3), dpi=150)\n",
    "\n",
    "plt.subplot(121)\n",
    "utixenon.matplotlib_utils.plotXY(event_info.x_pri, event_info.y_pri, norm=mpl.colors.Normalize(), cmin=1, cmap='viridis')\n",
    "plt.colorbar()\n",
    "\n",
    "plt.subplot(122)\n",
    "utixenon.matplotlib_utils.plotR2Z(event_info.r_pri, event_info.z_pri, norm=mpl.colors.Normalize(), ranges=((0, 7000), (-200, 120)), cmin=1, cmap='viridis')\n",
    "plt.colorbar()\n",
    "\n",
    "plt.tight_layout(), plt.show()"
   ]
  },
  {
   "cell_type": "code",
   "execution_count": null,
   "id": "d34a8c99-9f8b-4e0f-b0a1-9f3ddd04c5af",
   "metadata": {},
   "outputs": [],
   "source": [
    "def cut_s2_ss(s2):\n",
    "    alt_s2 = (0.00153 * s2 + 150)   /(1 + np.exp( 5e-4 * (s2 - 30000))) + (0.00230 * s2 + 310)   /(1 + np.exp( 5e-4 * (30000 - s2)))\n",
    "    return alt_s2\n",
    "\n",
    "plt.figure(dpi=200)\n",
    "\n",
    "plt.scatter(np.log10(event_info.s2_area), \n",
    "            np.log10(event_info.alt_s2_area), \n",
    "            s=1, label='Fast sim')\n",
    "            #bins = (np.arange(2, 7, 0.01), \n",
    "            #        np.arange(1, 7, 0.01)), \n",
    "            #cmap='viridis', cmin=1, norm=mpl.colors.LogNorm())\n",
    "#plt.colorbar()\n",
    "plt.scatter(np.log10(wfsim_event.s2_area), \n",
    "            np.log10(wfsim_event.alt_s2_area), \n",
    "            s=1, label='WF sim')\n",
    "\n",
    "s2 = np.arange(1, 10000000, 500)\n",
    "plt.plot(np.log10(s2), np.log10(cut_s2_ss(s2)), color='red', ls='--', label='Current S2 SS cut')\n",
    "\n",
    "plt.xlabel('log$_{10}$(S2) [PE]'), plt.ylabel('log$_{10}$(S2$_{alt}$) [PE]')\n",
    "plt.legend(loc='upper left')\n",
    "plt.show()"
   ]
  },
  {
   "cell_type": "code",
   "execution_count": null,
   "id": "a9bca640-e89a-4fd7-8f7b-5b276b252f03",
   "metadata": {},
   "outputs": [],
   "source": [
    "def get_cS2(cS1, ces, g1, g2, W = 13.7e-3):\n",
    "    return g2 * (ces/W - cS1/g1)\n",
    "\n",
    "plt.figure(figsize=(15, 3), dpi=150)\n",
    "\n",
    "plt.subplot(131)\n",
    "utixenon.matplotlib_utils.plotXY(event_info.x, event_info.y, norm=mpl.colors.Normalize(), cmin=1, cmap='viridis')\n",
    "plt.colorbar()\n",
    "\n",
    "plt.subplot(132)\n",
    "utixenon.matplotlib_utils.plotR2Z(event_info.r, event_info.z, norm=mpl.colors.Normalize(), cmin=1, cmap='viridis')\n",
    "plt.colorbar()\n",
    "\n",
    "plt.subplot(133)\n",
    "plt.hist2d(event_info.cs1, np.log10(event_info.cs2), \n",
    "           bins=(np.arange(0, 60000, 10), np.arange(2.9, 6.0, 0.02)), norm=mpl.colors.Normalize(), cmin=1)\n",
    "#plt.hist2d(event_info.s1_area, np.log10(event_info.s2_area), \n",
    "#           bins=(np.arange(0, 6000, 10), np.arange(2.9, 6.0, 0.02)), norm=mpl.colors.Normalize(), cmin=1, cmap='inferno')\n",
    "#plt.colorbar()\n",
    "\n",
    "#cS1 = np.arange(0, 1000000, 1)\n",
    "#for ces in [41.5, 163.9, 236.2, 609.3, 1173.2, ]:\n",
    "## plt.plot(np.log10(cS1), np.log10(get_cS2(cS1, ces, g1_low_energy, g2_low_energy)), color='black', ls='--')\n",
    "#    plt.plot(cS1, get_cS2(cS1, ces, g1_high_energy, g2_high_energy)/100, color='black', ls='--')\n",
    "\n",
    "plt.xlabel('cS1 [PE]'), plt.ylabel('log10(cS2) [PE]')\n",
    "\n",
    "\n",
    "plt.tight_layout(), plt.show()"
   ]
  },
  {
   "cell_type": "code",
   "execution_count": null,
   "id": "bd2acf0e-3070-49f9-9b6f-5d9270d4b533",
   "metadata": {},
   "outputs": [],
   "source": [
    "# epix_e_dep, bins = np.histogram(epix_ins[epix_ins.e_dep > 5].e_dep, bins=np.arange(0, 600, 4))\n",
    "\n",
    "plt.figure(figsize=(8, 3), dpi=150)\n",
    "\n",
    "plt.subplot(121)\n",
    "plt.hist(event_info.e_ces_low, bins=np.arange(0, 600, 4))\n",
    "plt.hist(wfsim_event.e_ces_low, bins=np.arange(0, 600, 4))\n",
    "# plt.plot(0.5*(bins[1:] + bins[:-1]), epix_e_dep/2, ds='steps')\n",
    "plt.xlabel('CES [keV]')\n",
    "plt.grid()\n",
    "#plt.yscale('log')\n",
    "\n",
    "plt.subplot(122)\n",
    "plt.hist(event_info.full_e_ces_low, bins=np.arange(0, 600, 4))\n",
    "plt.hist(wfsim_event.full_e_ces_low, bins=np.arange(0, 600, 4))\n",
    "#plt.yscale('log')\n",
    "plt.xlabel('CES [keV]')\n",
    "plt.grid()\n",
    "\n",
    "\n",
    "plt.tight_layout(), plt.show()"
   ]
  },
  {
   "cell_type": "code",
   "execution_count": null,
   "id": "d972f291-ccdd-4b3c-b830-033830140d78",
   "metadata": {},
   "outputs": [],
   "source": [
    "path = '/home/gvolta/'\n",
    "!ls {path}"
   ]
  },
  {
   "cell_type": "code",
   "execution_count": null,
   "id": "95314c69-9ae3-46f2-848b-ce0adf1eb189",
   "metadata": {},
   "outputs": [],
   "source": [
    "spe_distribution_temp = np.load(path + 'spe_distribution_temp.npy')\n",
    "scaled_bins_temp = np.load(path + 'scaled_bins_temp.npy')"
   ]
  },
  {
   "cell_type": "code",
   "execution_count": null,
   "id": "39b4d9c8-43e0-4898-b79f-a6867f570ee8",
   "metadata": {},
   "outputs": [],
   "source": [
    "spe_shapes = pd.read_csv('/home/gvolta/XENONnT/private_nt_aux_files/sim_files/XENONnT_SR0_spe_distributions_20210713_no_noise_scaled.csv')"
   ]
  },
  {
   "cell_type": "code",
   "execution_count": null,
   "id": "bac9e99b-9a4f-4919-99e2-a33a94889203",
   "metadata": {},
   "outputs": [],
   "source": [
    "uniform_to_pe_arr = []\n",
    "for ch in spe_shapes.columns[1:]:  # skip the first element which is the 'charge' header\n",
    "    if spe_shapes[ch].sum() > 0:\n",
    "        # mean_spe = (spe_shapes['charge'].values * spe_shapes[ch]).sum() / spe_shapes[ch].sum()\n",
    "        scaled_bins = spe_shapes['charge'].values  # / mean_spe\n",
    "        cdf = np.cumsum(spe_shapes[f'{ch}']) / np.sum(spe_shapes[f'{ch}'])\n",
    "    else:\n",
    "        # if sum is 0, just make some dummy axes to pass to interpolator\n",
    "        print(ch)\n",
    "        cdf = np.linspace(0, 1, 10)\n",
    "        scaled_bins = np.zeros_like(cdf)\n",
    "\n",
    "    grid_cdf = np.linspace(0, 1, 2001)\n",
    "    grid_scale = sp.interpolate.interp1d(cdf, scaled_bins,\n",
    "                                         bounds_error=False,\n",
    "                                         fill_value=(scaled_bins[0], scaled_bins[-1]))(grid_cdf)\n",
    "\n",
    "    uniform_to_pe_arr.append(grid_scale)"
   ]
  },
  {
   "cell_type": "code",
   "execution_count": null,
   "id": "88c08801-40d0-479b-8537-84b30d404266",
   "metadata": {},
   "outputs": [],
   "source": [
    "plt.figure(dpi=150)\n",
    "\n",
    "plt.plot(np.linspace(0, 1, 2001), spe_distribution_temp)\n",
    "plt.plot(np.linspace(0, 1, 2001), np.mean(uniform_to_pe_arr, axis=0))\n",
    "\n",
    "plt.grid()\n",
    "plt.show()"
   ]
  },
  {
   "cell_type": "code",
   "execution_count": null,
   "id": "324f7011-8e21-4749-9725-070d52796f7d",
   "metadata": {},
   "outputs": [],
   "source": [
    "s1_area_spe = []\n",
    "for n_ph in :\n",
    "    s1_area_spe.append(np.sum(spe_distribution[\n",
    "                                  (np.random.random(n_ph) * len(spe_distribution)).astype(np.int64)]))\n",
    "        return np.array(s1_area_spe)np.sum(spe_distribution_temp[(np.random.random(n_ph) * len(spe_distribution_temp)).astype(np.int64)])"
   ]
  },
  {
   "cell_type": "code",
   "execution_count": null,
   "id": "b852c4bf-6f9e-45e6-b293-14eb6c0f4742",
   "metadata": {},
   "outputs": [],
   "source": [
    "ch = 0\n",
    "plt.figure(dpi=150)\n",
    "\n",
    "plt.plot(spe_shapes['charge'].values, np.cumsum(spe_shapes[f'{ch}']) / np.sum(spe_shapes[f'{ch}']))\n",
    "\n",
    "plt.grid()\n",
    "plt.show()"
   ]
  },
  {
   "cell_type": "code",
   "execution_count": null,
   "id": "4481560b-23e7-47b1-b65e-7547d8f102f9",
   "metadata": {},
   "outputs": [],
   "source": []
  },
  {
   "cell_type": "code",
   "execution_count": null,
   "id": "9201e230-b1a5-4591-b8cb-3565701bf1fb",
   "metadata": {},
   "outputs": [],
   "source": []
  },
  {
   "cell_type": "code",
   "execution_count": null,
   "id": "46e5c6c2-a395-4836-ac7f-89c2bde597ac",
   "metadata": {},
   "outputs": [],
   "source": []
  }
 ],
 "metadata": {
  "kernelspec": {
   "display_name": "Python [conda env:XENONnT_development] *",
   "language": "python",
   "name": "conda-env-XENONnT_development-py"
  },
  "language_info": {
   "codemirror_mode": {
    "name": "ipython",
    "version": 3
   },
   "file_extension": ".py",
   "mimetype": "text/x-python",
   "name": "python",
   "nbconvert_exporter": "python",
   "pygments_lexer": "ipython3",
   "version": "3.8.12"
  }
 },
 "nbformat": 4,
 "nbformat_minor": 5
}
