{
 "cells": [
  {
   "cell_type": "markdown",
   "metadata": {
    "tags": []
   },
   "source": [
    "<h2>2022-05-17: USE WITH 'fastsim_upd' BRANCH</h2>"
   ]
  },
  {
   "cell_type": "code",
   "execution_count": null,
   "metadata": {},
   "outputs": [],
   "source": [
    "#del sys.path[...]\n",
    "#sys.path.insert(0,'.../epix') # 'fastsim_upd' branch"
   ]
  },
  {
   "cell_type": "code",
   "execution_count": null,
   "metadata": {},
   "outputs": [],
   "source": [
    "import warnings\n",
    "warnings.filterwarnings(\"ignore\", message=\"You are setting a default value\")\n",
    "\n",
    "import time\n",
    "import sys\n",
    "\n",
    "import numba\n",
    "import numpy as np\n",
    "import pandas as pd\n",
    "import matplotlib\n",
    "import matplotlib.pyplot as plt\n",
    "from matplotlib.ticker import MultipleLocator, FormatStrFormatter, AutoMinorLocator\n",
    "from collections import Counter\n",
    "import matplotlib.ticker as ticker\n",
    "\n",
    "import epix\n",
    "import straxen\n",
    "straxen.print_versions()\n",
    "\n",
    "from epix.simulator.fast_simulator import StraxSimulator"
   ]
  },
  {
   "cell_type": "markdown",
   "metadata": {},
   "source": [
    "<h2>Convenience functions</h2>"
   ]
  },
  {
   "cell_type": "code",
   "execution_count": null,
   "metadata": {},
   "outputs": [],
   "source": [
    "def ax_config(ax, title = None, xbounds = None, ybounds = None, xlabel = None, ylabel = None, \n",
    "              grid_M_X = True, grid_M_Y = True, grid_m_X = True, grid_m_Y = True,\n",
    "              colorbar = False, clabel='', sci = False, yscale = None, xscale = None, fontsize=20):\n",
    "    Label_fontname = 'serif'\n",
    "    if title != None: ax.set_title(title, fontname=Label_fontname)\n",
    "    if xbounds != None: ax.set_xlim(xbounds[0], xbounds[1])\n",
    "    if ybounds != None: ax.set_ylim(ybounds[0], ybounds[1])\n",
    "    if xlabel != None: ax.set_xlabel(xlabel, fontname=Label_fontname)\n",
    "    if ylabel != None: ax.set_ylabel(ylabel, fontname=Label_fontname)\n",
    "    if xscale != None: ax.set_xscale(xscale)\n",
    "    if yscale != None: ax.set_yscale(yscale)\n",
    "        \n",
    "    if isinstance(sci, str):\n",
    "        plt.ticklabel_format(style='sci', axis=sci, scilimits=(0,0))\n",
    "        \n",
    "    if xscale == 'log':\n",
    "        locmin = matplotlib.ticker.LogLocator(base=10.0,subs=(0.1,0.2,0.3,0.4,0.5,0.6,0.7,0.8,0.9),numticks=12)\n",
    "        ax.xaxis.set_minor_locator(locmin)\n",
    "        ax.xaxis.set_minor_formatter(matplotlib.ticker.NullFormatter())\n",
    "    else:\n",
    "        ax.xaxis.set_minor_locator(AutoMinorLocator(10))\n",
    "        \n",
    "    if yscale == 'log':\n",
    "        locmin = matplotlib.ticker.LogLocator(base=10.0,subs=(0.1,0.2,0.3,0.4,0.5,0.6,0.7,0.8,0.9),numticks=12)\n",
    "        ax.yaxis.set_minor_locator(locmin)\n",
    "        ax.yaxis.set_minor_formatter(matplotlib.ticker.NullFormatter())\n",
    "    else:\n",
    "        ax.yaxis.set_minor_locator(AutoMinorLocator(10))\n",
    "    \n",
    "    if grid_M_X:\n",
    "        ax.xaxis.grid(grid_M_X, which='major', color='black', alpha=0.1)\n",
    "    if grid_M_Y:\n",
    "        ax.yaxis.grid(grid_M_Y, which='major', color='black', alpha=0.1)\n",
    "    if grid_m_X:\n",
    "        ax.xaxis.grid(grid_m_X, which='minor', color='gray', alpha=0.1)\n",
    "    if grid_m_Y:\n",
    "        ax.yaxis.grid(grid_m_Y, which='minor', color='gray', alpha=0.1)\n",
    "    \n",
    "    for item in ([ax.title, ax.xaxis.label, ax.yaxis.label] +\n",
    "             ax.get_xticklabels() + ax.get_yticklabels()):\n",
    "        item.set_fontsize(fontsize)\n",
    "        \n",
    "    if isinstance(colorbar,str):\n",
    "        plt.colorbar().set_label(label = colorbar,size=12, weight = None)\n",
    "    elif colorbar:\n",
    "        plt.colorbar(label = clabel)\n",
    "    else:\n",
    "        pass\n",
    "    \n",
    "    ax.set_facecolor('white')"
   ]
  },
  {
   "cell_type": "markdown",
   "metadata": {},
   "source": [
    "<h2>Path</h2>"
   ]
  },
  {
   "cell_type": "code",
   "execution_count": null,
   "metadata": {},
   "outputs": [],
   "source": [
    "# AmBe source, I-Belt position, tungsten cylinder collimator, 1E4 primaries\n",
    "raw_data_dir = '/dali/lgrandi/xenonnt/simulations/ambe_ibelt/mc_v4.4.0/tungsten_cylinder_GEANT4/'\n",
    "raw_data_filename='ibc_008f8efb-99ac-475a-a83a-9c35cca8734d.root'\n",
    "\n",
    "# Your local directory for strax output\n",
    "strax_data_dir = '/your/scratch/directory/strax'"
   ]
  },
  {
   "cell_type": "code",
   "execution_count": null,
   "metadata": {},
   "outputs": [],
   "source": [
    "# Clear old strax output\n",
    "%rm -r /your/scratch/directory/strax/*"
   ]
  },
  {
   "cell_type": "markdown",
   "metadata": {},
   "source": [
    "<h2>Parameters</h2>"
   ]
  },
  {
   "cell_type": "code",
   "execution_count": null,
   "metadata": {},
   "outputs": [],
   "source": [
    "st = straxen.contexts.xenonnt_simulation(output_folder=strax_data_dir,\n",
    "                                         cmt_run_id_sim='026000',\n",
    "                                         cmt_run_id_proc='026000',)\n",
    "run_id = 'fastsim0'\n",
    "\n",
    "# epix config\n",
    "epix_args={'path':raw_data_dir,\n",
    "           'file_name':raw_data_filename, \n",
    "           'debug':True,           \n",
    "           'entry_start':0,\n",
    "           'entry_stop':None,\n",
    "           'cut_by_eventid':False,\n",
    "           'micro_separation_time':10.0,\n",
    "           'micro_separation':0.005,\n",
    "           'tag_cluster_by':'energy',\n",
    "           'max_delay':1e7,\n",
    "           'source_rate':-1}\n",
    "\n",
    "configuration_files={'nv_pmt_qe':'nveto_pmt_qe.json',\n",
    "                     'photon_area_distribution':'XENONnT_spe_distributions_20210305.csv',\n",
    "                     's1_pattern_map': 'XENONnT_s1_xyz_patterns_LCE_corrected_qes_MCva43fa9b_wires.pkl',\n",
    "                     's2_pattern_map': 'XENONnT_s2_xy_patterns_GXe_LCE_corrected_qes_MCv4.3.0_wires.pkl',\n",
    "                     's1_lce_correction_map': False,\n",
    "                     's2_correction_map': False}\n",
    "\n",
    "# List of disabled PMTs\n",
    "_gains = [1 for i in range(494)]\n",
    "pmt_off = [156, 164, 177, 350, 352, 354, 362, 386, 393, 427, 313]\n",
    "for _pmt in pmt_off:\n",
    "    _gains[_pmt]=0\n",
    "    \n",
    "# Set up configuration\n",
    "st.config.update(dict(fax_config='fax_config_nt_sr0_v0.json',                      \n",
    "                      g4_file=raw_data_dir+raw_data_filename,\n",
    "                      epix_config=epix_args,\n",
    "                      configuration_files=configuration_files,\n",
    "                      fax_config_overrides={\"detector\":\"XENONnT\",\n",
    "                                            \"gains\": _gains,\n",
    "                                            \"enable_field_dependencies\": {                                                \n",
    "                                                \"survival_probability_map\": False,\n",
    "                                                \"drift_speed_map\": False,\n",
    "                                                \"diffusion_longitudinal_map\": False,\n",
    "                                                \"diffusion_radial_map\": False,\n",
    "                                                \"diffusion_azimuthal_map\": False}\n",
    "                                           }))\n",
    "\n",
    "st.register(StraxSimulator)"
   ]
  },
  {
   "cell_type": "markdown",
   "metadata": {},
   "source": [
    "<h2>Run simulation</h2>"
   ]
  },
  {
   "cell_type": "code",
   "execution_count": null,
   "metadata": {},
   "outputs": [],
   "source": [
    "start_time = time.time()\n",
    "\n",
    "st.make(run_id,'events_tpc')\n",
    "st.make(run_id, 'events_nveto')\n",
    "\n",
    "t = time.time()\n",
    "print(f'It took {(t - start_time):.1f} [s] to finish the simulation.')"
   ]
  },
  {
   "cell_type": "markdown",
   "metadata": {},
   "source": [
    "<h2>events_tpc</h2>"
   ]
  },
  {
   "cell_type": "code",
   "execution_count": null,
   "metadata": {},
   "outputs": [],
   "source": [
    "_events_tpc = st.get_array(run_id, 'events_tpc')\n",
    "df_events_tpc = pd.DataFrame(_events_tpc)\n",
    "df_events_tpc"
   ]
  },
  {
   "cell_type": "code",
   "execution_count": null,
   "metadata": {},
   "outputs": [],
   "source": [
    "fig, ax = plt.subplots(2, 3, figsize=[22,10])\n",
    "\n",
    "rr=[ [(0.1, 5.0), (0.1, 8.0)],\n",
    "     [(0.1, 5.0), (0.1, 8.0)],    \n",
    "     [(-80, 80), (-80, 80)],\n",
    "     [(0.1, 5.0), (0.1, 8.0)],\n",
    "     [(0.1, 5.0), (0.1, 8.0)],\n",
    "     [(0.0, 7e3), (-150.0, 0.0)] ]\n",
    "\n",
    "label_list = [ ['log(s1_area)', 'log(s2_area)'],\n",
    "               ['log(alt_s1_area)', 'log(alt_s2_area)'],\n",
    "               ['x [cm]','y [cm]'],\n",
    "               ['log(cs1)', 'log(cs2)'],\n",
    "               ['log(alt_cs1)', 'log(alt_cs2)'],\n",
    "               ['r**2 [cm**2]', 'z [cm]'] ]\n",
    "\n",
    "_ei = df_events_tpc\n",
    "\n",
    "arr_list = [ [np.log10(_ei.s1_area), np.log10(_ei.s2_area)],\n",
    "             [np.log10(_ei.alt_s1_area), np.log10(_ei.alt_s2_area)],\n",
    "             [_ei.x, _ei.y],\n",
    "             [np.log10(_ei.cs1), np.log10(_ei.cs2)],\n",
    "             [np.log10(_ei.alt_cs1), np.log10(_ei.alt_cs2)], \n",
    "             [(_ei.x**2+_ei.y**2), _ei.z] ]\n",
    "\n",
    "for ind, arr in enumerate(arr_list):\n",
    "    _ax = ax[ind//3][ind%3]\n",
    "\n",
    "    _ax.scatter(arr[0], \n",
    "                arr[1],\n",
    "                color = 'blue',\n",
    "                s=12,\n",
    "                alpha=0.8)  \n",
    "\n",
    "    ax_config(_ax, \n",
    "              xbounds = rr[ind][0],\n",
    "              ybounds = rr[ind][1],\n",
    "              xlabel=label_list[ind][0], \n",
    "              ylabel=label_list[ind][1])\n",
    "    \n",
    "    _ax.ticklabel_format(axis='x', style='sci', scilimits=(0,3))\n",
    "    _ax.ticklabel_format(axis='y', style='sci', scilimits=(0,3))\n",
    "\n",
    "plt.tight_layout()\n",
    "plt.plot()"
   ]
  },
  {
   "cell_type": "markdown",
   "metadata": {},
   "source": [
    "<h2>events_nveto</h2>"
   ]
  },
  {
   "cell_type": "code",
   "execution_count": null,
   "metadata": {},
   "outputs": [],
   "source": [
    "df_events_nv = st.get_df(run_id, 'events_nveto')\n",
    "df_events_nv"
   ]
  },
  {
   "cell_type": "code",
   "execution_count": null,
   "metadata": {},
   "outputs": [],
   "source": []
  }
 ],
 "metadata": {
  "kernelspec": {
   "display_name": "Python 3 (ipykernel)",
   "language": "python",
   "name": "python3"
  },
  "language_info": {
   "codemirror_mode": {
    "name": "ipython",
    "version": 3
   },
   "file_extension": ".py",
   "mimetype": "text/x-python",
   "name": "python",
   "nbconvert_exporter": "python",
   "pygments_lexer": "ipython3",
   "version": "3.8.13"
  }
 },
 "nbformat": 4,
 "nbformat_minor": 4
}
