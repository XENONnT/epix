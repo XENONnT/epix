{
 "cells": [
  {
   "cell_type": "code",
   "execution_count": 1,
   "metadata": {},
   "outputs": [],
   "source": [
    "import sys\n",
    "del sys.path[5]\n",
    "del sys.path[5]\n",
    "sys.path.insert(0,'/home/pgaemers/software/epix')\n",
    "sys.path.insert(0,'/home/pgaemers/software/wfsim')"
   ]
  },
  {
   "cell_type": "code",
   "execution_count": 2,
   "metadata": {
    "jupyter": {
     "outputs_hidden": false
    }
   },
   "outputs": [
    {
     "name": "stdout",
     "output_type": "stream",
     "text": [
      "Using nestpy version 1.3.0\n",
      "epix version : 0.1.1\n"
     ]
    }
   ],
   "source": [
    "import time\n",
    "import pandas as pd\n",
    "import straxen\n",
    "import epix\n",
    "from epix.simulator.fast_simulator import StraxSimulator\n",
    "\n",
    "print(f'epix version : {epix.__version__}')\n",
    "\n",
    "def monitor_time(prev_time, task):\n",
    "    t = time.time()\n",
    "    print(f'It took {(t - prev_time):.4f} sec to {task}')\n",
    "    return t\n",
    "# MC output file as an input for epix/fast_simulator\n",
    "\n",
    "raw_data_dir='/dali/lgrandi/xenonnt/simulations/testing_epix_wfsim/'\n",
    "raw_data_filename='tpc_and_nveto_cryoneutrons_200.root'\n",
    "st = straxen.contexts.xenonnt_simulation(output_folder='/dali/lgrandi/pgaemers/strax_data_fast_sim')\n",
    "run_id = '1'\n",
    "st.register(StraxSimulator)\n",
    "st.set_config=(dict(nchunk=1, event_rate=5, chunk_size=500,))"
   ]
  },
  {
   "cell_type": "code",
   "execution_count": 3,
   "metadata": {},
   "outputs": [],
   "source": [
    "import numpy as np"
   ]
  },
  {
   "cell_type": "code",
   "execution_count": 4,
   "metadata": {},
   "outputs": [],
   "source": [
    "# %rm -r './strax_data'\n",
    "\n",
    "nt_config=straxen.get_resource('/home/pgaemers/software/private_nt_aux_files/\\\n",
    "sim_files/fax_config_nt_low_field.json', fmt='json')\n",
    "\n",
    "# epix config\n",
    "\n",
    "epix_args={'path':raw_data_dir,\n",
    "           'file_name':raw_data_filename, \n",
    "           'debug':True,           \n",
    "           'entry_start':0,\n",
    "           'entry_stop':100000,\n",
    "           'cut_by_eventid':False,\n",
    "           'micro_separation_time':10.0,\n",
    "           'micro_separation':0.005,\n",
    "           'tag_cluster_by':'time',\n",
    "           'max_delay':1e-7,\n",
    "           'source_rate':-1}\n",
    "\n",
    "# configuration files; to be moved into the plugin\n",
    "\n",
    "configuration_files={'detector':'XENONnT',\n",
    "                     's1_relative_lce_map':straxen.pax_file('XENON1T_s1_xyz_lce_true_kr83m_SR1_pax-680_fdc-3d_v0.json'),\n",
    "                     's2_xy_correction_map':straxen.pax_file('XENON1T_s2_xy_ly_SR1_v2.2.json'),\n",
    "                     'photon_area_distribution':'XENONnT_spe_distributions_20210305.csv',\n",
    "                     's1_pattern_map':'XENONnT_s1_xyz_patterns_LCE_corrected_qes_MCva43fa9b_wires.pkl',\n",
    "                     's2_pattern_map':'XENONnT_s2_xy_patterns_LCE_corrected_qes_MCva43fa9b_wires.pkl',\n",
    "                     'nv_pmt_qe':'nveto_pmt_qe.json',}\n",
    "\n",
    "st.config.update(dict(fax_config=nt_config,\n",
    "                      g4_file=raw_data_dir+raw_data_filename,\n",
    "                      epix_config=epix_args,\n",
    "                      configuration_files=configuration_files,\n",
    "                     fax_config_overrides= {\"enable_field_dependencies\": {\n",
    "                                            \"survival_probability_map\": False,\n",
    "                                            \"drift_speed_map\": False,\n",
    "                                            \"diffusion_longitudinal_map\": False,\n",
    "                                            \"diffusion_radial_map\": False,\n",
    "                                            \"diffusion_azimuthal_map\": False}}))"
   ]
  },
  {
   "cell_type": "code",
   "execution_count": 5,
   "metadata": {},
   "outputs": [
    {
     "data": {
      "text/plain": [
       "epix.simulator.fast_simulator.StraxSimulator"
      ]
     },
     "execution_count": 5,
     "metadata": {},
     "output_type": "execute_result"
    }
   ],
   "source": [
    "st.register(StraxSimulator)"
   ]
  },
  {
   "cell_type": "code",
   "execution_count": 6,
   "metadata": {},
   "outputs": [
    {
     "name": "stdout",
     "output_type": "stream",
     "text": [
      "Removing data in /dali/lgrandi/pgaemers/strax_data_fast_sim/1-events_nveto-qklyicw6mb to overwrite\n",
      "Removing data in /dali/lgrandi/pgaemers/strax_data_fast_sim/1-events_tpc-qklyicw6mb to overwrite\n"
     ]
    },
    {
     "name": "stderr",
     "output_type": "stream",
     "text": [
      "WARNING:strax:Could not estimate run start and end time from run metadata: assuming it is 0 and inf\n"
     ]
    },
    {
     "name": "stdout",
     "output_type": "stream",
     "text": [
      "epix configuration:  {'path': '/dali/lgrandi/xenonnt/simulations/testing_epix_wfsim/', 'file_name': 'tpc_and_nveto_cryoneutrons_200.root', 'debug': True, 'entry_start': 0, 'entry_stop': 100000, 'cut_by_eventid': False, 'micro_separation_time': 10.0, 'micro_separation': 0.005, 'tag_cluster_by': 'time', 'max_delay': 1e-07, 'source_rate': -1, 'detector_config': [<epix.detector_volumes.SensitiveVolume object at 0x7f952df51e50>, <epix.detector_volumes.SensitiveVolume object at 0x7f952df51d90>], 'outer_cylinder': {'max_z': 7.3936, 'min_z': -154.6555, 'max_r': 66.4}}\n",
      "Total entries in input file = 198\n",
      "Starting to read from output file entry 0\n",
      "Ending read in at output file entry 100000\n",
      "It took 1.7634 sec to load data.\n",
      "Finding clusters of interactions with a dr = 0.005 mm and dt = 10.0 ns\n",
      "It took 3.7932 sec to find clusters.\n",
      "It took 3.3126 sec to merge clusters.\n",
      "Removing clusters not in volumes: TPC BelowCathode\n",
      "Number of clusters before: 6120\n",
      "Number of clusters after: 6047\n",
      "Assigning electric field to clusters\n",
      "Generating photons and electrons for events\n",
      "It took 1.0950 sec to get quanta.\n",
      "Clean event separation\n"
     ]
    },
    {
     "name": "stderr",
     "output_type": "stream",
     "text": [
      "/home/pgaemers/software/epix/epix/quanta_generation.py:51: UserWarning: Energy deposition of 206.56977462768555 keV beyond NEST validity for NR model of 200 keV - Remove Interaction\n",
      "  warnings.warn(f\"Energy deposition of {en} keV beyond NEST validity for NR model of 200 keV - Remove Interaction\")\n",
      "/home/pgaemers/software/epix/epix/quanta_generation.py:51: UserWarning: Energy deposition of 279.19512462615967 keV beyond NEST validity for NR model of 200 keV - Remove Interaction\n",
      "  warnings.warn(f\"Energy deposition of {en} keV beyond NEST validity for NR model of 200 keV - Remove Interaction\")\n",
      "/dali/lgrandi/strax/miniconda3/envs/strax/lib/python3.8/site-packages/numpy/lib/function_base.py:2192: RuntimeWarning: overflow encountered in ? (vectorized)\n",
      "  outputs = ufunc(*inputs)\n",
      "/dali/lgrandi/strax/miniconda3/envs/strax/lib/python3.8/site-packages/numpy/lib/function_base.py:2192: RuntimeWarning: invalid value encountered in ? (vectorized)\n",
      "  outputs = ufunc(*inputs)\n",
      "Exception in thread divide_outputs:events_tpc:\n",
      "Traceback (most recent call last):\n",
      "  File \"/dali/lgrandi/strax/miniconda3/envs/strax/lib/python3.8/threading.py\", line 932, in _bootstrap_inner\n",
      "CRITICAL:ThreadedMailboxProcessor:Target Mailbox (events_tpc) killed, exception <class 'strax.mailbox.MailboxKilled'>, message (<class 'AttributeError'>, AttributeError(\"'Resource' object has no attribute 's2_correction_map'\"), <traceback object at 0x7f9547471a80>)\n",
      "    self.run()\n",
      "  File \"/dali/lgrandi/strax/miniconda3/envs/strax/lib/python3.8/threading.py\", line 870, in run\n",
      "    self._target(*self._args, **self._kwargs)\n",
      "  File \"/dali/lgrandi/strax/strax/strax/mailbox.py\", line 267, in _send_from\n",
      "    self.kill_from_exception(e)\n",
      "  File \"/dali/lgrandi/strax/strax/strax/mailbox.py\", line 186, in kill_from_exception\n",
      "    raise e\n",
      "  File \"/dali/lgrandi/strax/strax/strax/mailbox.py\", line 254, in _send_from\n",
      "    x = next(iterable)\n",
      "  File \"/dali/lgrandi/strax/strax/strax/plugin.py\", line 394, in iter\n",
      "    yield self.do_compute(chunk_i=chunk_i, **inputs_merged)\n",
      "  File \"/dali/lgrandi/strax/strax/strax/plugin.py\", line 492, in do_compute\n",
      "    result = self.compute(**kwargs)\n",
      "  File \"/home/pgaemers/software/epix/epix/simulator/fast_simulator.py\", line 497, in compute\n",
      "    simulated_data = self.Simulator.run_simulator()\n",
      "  File \"/home/pgaemers/software/epix/epix/simulator/fast_simulator.py\", line 407, in run_simulator\n",
      "    self.simulate()\n",
      "  File \"/home/pgaemers/software/epix/epix/simulator/fast_simulator.py\", line 401, in simulate\n",
      "    func(instructions=self.instructions,\n",
      "  File \"/home/pgaemers/software/epix/epix/simulator/fast_simulator.py\", line 291, in make_s2\n",
      "    sc_gain = Helpers.get_s2_light_yield(positions=xy,\n",
      "  File \"/home/pgaemers/software/epix/epix/simulator/fast_simulator.py\", line 181, in get_s2_light_yield\n",
      "    return wfsim.S2.get_s2_light_yield(positions=positions,\n",
      "  File \"/home/pgaemers/software/wfsim/wfsim/core.py\", line 587, in get_s2_light_yield\n",
      "    sc_gain = resource.s2_correction_map(positions) \\\n",
      "AttributeError: 'Resource' object has no attribute 's2_correction_map'\n"
     ]
    },
    {
     "ename": "AttributeError",
     "evalue": "'Resource' object has no attribute 's2_correction_map'",
     "output_type": "error",
     "traceback": [
      "\u001b[0;31m---------------------------------------------------------------------------\u001b[0m",
      "\u001b[0;31mAttributeError\u001b[0m                            Traceback (most recent call last)",
      "\u001b[0;32m<ipython-input-6-9cc69fb51be7>\u001b[0m in \u001b[0;36m<module>\u001b[0;34m\u001b[0m\n\u001b[0;32m----> 1\u001b[0;31m \u001b[0mst\u001b[0m\u001b[0;34m.\u001b[0m\u001b[0mmake\u001b[0m\u001b[0;34m(\u001b[0m\u001b[0mrun_id\u001b[0m\u001b[0;34m,\u001b[0m\u001b[0;34m'events_tpc'\u001b[0m\u001b[0;34m)\u001b[0m\u001b[0;34m\u001b[0m\u001b[0;34m\u001b[0m\u001b[0m\n\u001b[0m",
      "\u001b[0;32m/dali/lgrandi/strax/strax/strax/context.py\u001b[0m in \u001b[0;36mmake\u001b[0;34m(self, run_id, targets, save, max_workers, progress_bar, _skip_if_built, **kwargs)\u001b[0m\n\u001b[1;32m   1095\u001b[0m             \u001b[0;32mreturn\u001b[0m\u001b[0;34m\u001b[0m\u001b[0;34m\u001b[0m\u001b[0m\n\u001b[1;32m   1096\u001b[0m \u001b[0;34m\u001b[0m\u001b[0m\n\u001b[0;32m-> 1097\u001b[0;31m         for _ in self.get_iter(run_ids[0], targets,\n\u001b[0m\u001b[1;32m   1098\u001b[0m                                \u001b[0mprogress_bar\u001b[0m\u001b[0;34m=\u001b[0m\u001b[0mprogress_bar\u001b[0m\u001b[0;34m,\u001b[0m\u001b[0;34m\u001b[0m\u001b[0;34m\u001b[0m\u001b[0m\n\u001b[1;32m   1099\u001b[0m                                save=save, max_workers=max_workers, **kwargs):\n",
      "\u001b[0;32m/dali/lgrandi/strax/strax/strax/context.py\u001b[0m in \u001b[0;36mget_iter\u001b[0;34m(self, run_id, targets, save, max_workers, time_range, seconds_range, time_within, time_selection, selection_str, keep_columns, allow_multiple, progress_bar, _chunk_number, **kwargs)\u001b[0m\n\u001b[1;32m    986\u001b[0m \u001b[0;34m\u001b[0m\u001b[0m\n\u001b[1;32m    987\u001b[0m         \u001b[0;32mexcept\u001b[0m \u001b[0mException\u001b[0m \u001b[0;32mas\u001b[0m \u001b[0me\u001b[0m\u001b[0;34m:\u001b[0m\u001b[0;34m\u001b[0m\u001b[0;34m\u001b[0m\u001b[0m\n\u001b[0;32m--> 988\u001b[0;31m             \u001b[0mgenerator\u001b[0m\u001b[0;34m.\u001b[0m\u001b[0mthrow\u001b[0m\u001b[0;34m(\u001b[0m\u001b[0me\u001b[0m\u001b[0;34m)\u001b[0m\u001b[0;34m\u001b[0m\u001b[0;34m\u001b[0m\u001b[0m\n\u001b[0m\u001b[1;32m    989\u001b[0m             \u001b[0;32mraise\u001b[0m\u001b[0;34m\u001b[0m\u001b[0;34m\u001b[0m\u001b[0m\n\u001b[1;32m    990\u001b[0m \u001b[0;34m\u001b[0m\u001b[0m\n",
      "\u001b[0;32m/dali/lgrandi/strax/strax/strax/context.py\u001b[0m in \u001b[0;36mget_iter\u001b[0;34m(self, run_id, targets, save, max_workers, time_range, seconds_range, time_within, time_selection, selection_str, keep_columns, allow_multiple, progress_bar, _chunk_number, **kwargs)\u001b[0m\n\u001b[1;32m    959\u001b[0m             \u001b[0;32mwith\u001b[0m \u001b[0m_p\u001b[0m \u001b[0;32mas\u001b[0m \u001b[0mpbar\u001b[0m\u001b[0;34m:\u001b[0m\u001b[0;34m\u001b[0m\u001b[0;34m\u001b[0m\u001b[0m\n\u001b[1;32m    960\u001b[0m                 \u001b[0mpbar\u001b[0m\u001b[0;34m.\u001b[0m\u001b[0mlast_print_t\u001b[0m \u001b[0;34m=\u001b[0m \u001b[0mtime\u001b[0m\u001b[0;34m.\u001b[0m\u001b[0mtime\u001b[0m\u001b[0;34m(\u001b[0m\u001b[0;34m)\u001b[0m\u001b[0;34m\u001b[0m\u001b[0;34m\u001b[0m\u001b[0m\n\u001b[0;32m--> 961\u001b[0;31m                 \u001b[0;32mfor\u001b[0m \u001b[0mn_chunks\u001b[0m\u001b[0;34m,\u001b[0m \u001b[0mresult\u001b[0m \u001b[0;32min\u001b[0m \u001b[0menumerate\u001b[0m\u001b[0;34m(\u001b[0m\u001b[0mstrax\u001b[0m\u001b[0;34m.\u001b[0m\u001b[0mcontinuity_check\u001b[0m\u001b[0;34m(\u001b[0m\u001b[0mgenerator\u001b[0m\u001b[0;34m)\u001b[0m\u001b[0;34m,\u001b[0m \u001b[0;36m1\u001b[0m\u001b[0;34m)\u001b[0m\u001b[0;34m:\u001b[0m\u001b[0;34m\u001b[0m\u001b[0;34m\u001b[0m\u001b[0m\n\u001b[0m\u001b[1;32m    962\u001b[0m                     \u001b[0mseen_a_chunk\u001b[0m \u001b[0;34m=\u001b[0m \u001b[0;32mTrue\u001b[0m\u001b[0;34m\u001b[0m\u001b[0;34m\u001b[0m\u001b[0m\n\u001b[1;32m    963\u001b[0m                     \u001b[0;32mif\u001b[0m \u001b[0;32mnot\u001b[0m \u001b[0misinstance\u001b[0m\u001b[0;34m(\u001b[0m\u001b[0mresult\u001b[0m\u001b[0;34m,\u001b[0m \u001b[0mstrax\u001b[0m\u001b[0;34m.\u001b[0m\u001b[0mChunk\u001b[0m\u001b[0;34m)\u001b[0m\u001b[0;34m:\u001b[0m\u001b[0;34m\u001b[0m\u001b[0;34m\u001b[0m\u001b[0m\n",
      "\u001b[0;32m/dali/lgrandi/strax/strax/strax/chunk.py\u001b[0m in \u001b[0;36mcontinuity_check\u001b[0;34m(chunk_iter)\u001b[0m\n\u001b[1;32m    264\u001b[0m     \u001b[0mlast_end\u001b[0m \u001b[0;34m=\u001b[0m \u001b[0;32mNone\u001b[0m\u001b[0;34m\u001b[0m\u001b[0;34m\u001b[0m\u001b[0m\n\u001b[1;32m    265\u001b[0m     \u001b[0mlast_runid\u001b[0m \u001b[0;34m=\u001b[0m \u001b[0;32mNone\u001b[0m\u001b[0;34m\u001b[0m\u001b[0;34m\u001b[0m\u001b[0m\n\u001b[0;32m--> 266\u001b[0;31m     \u001b[0;32mfor\u001b[0m \u001b[0ms\u001b[0m \u001b[0;32min\u001b[0m \u001b[0mchunk_iter\u001b[0m\u001b[0;34m:\u001b[0m\u001b[0;34m\u001b[0m\u001b[0;34m\u001b[0m\u001b[0m\n\u001b[0m\u001b[1;32m    267\u001b[0m         \u001b[0;32mif\u001b[0m \u001b[0ms\u001b[0m\u001b[0;34m.\u001b[0m\u001b[0mrun_id\u001b[0m \u001b[0;34m!=\u001b[0m \u001b[0mlast_runid\u001b[0m\u001b[0;34m:\u001b[0m\u001b[0;34m\u001b[0m\u001b[0;34m\u001b[0m\u001b[0m\n\u001b[1;32m    268\u001b[0m             \u001b[0;31m# TODO: can we do better?\u001b[0m\u001b[0;34m\u001b[0m\u001b[0;34m\u001b[0m\u001b[0;34m\u001b[0m\u001b[0m\n",
      "\u001b[0;32m/dali/lgrandi/strax/strax/strax/processor.py\u001b[0m in \u001b[0;36miter\u001b[0;34m(self)\u001b[0m\n\u001b[1;32m    268\u001b[0m             \u001b[0;31m# which is printed for the user\u001b[0m\u001b[0;34m\u001b[0m\u001b[0;34m\u001b[0m\u001b[0;34m\u001b[0m\u001b[0m\n\u001b[1;32m    269\u001b[0m             \u001b[0mself\u001b[0m\u001b[0;34m.\u001b[0m\u001b[0mlog\u001b[0m\u001b[0;34m.\u001b[0m\u001b[0mdebug\u001b[0m\u001b[0;34m(\u001b[0m\u001b[0;34m\"Reraising exception\"\u001b[0m\u001b[0;34m)\u001b[0m\u001b[0;34m\u001b[0m\u001b[0;34m\u001b[0m\u001b[0m\n\u001b[0;32m--> 270\u001b[0;31m             \u001b[0;32mraise\u001b[0m \u001b[0mexc\u001b[0m\u001b[0;34m.\u001b[0m\u001b[0mwith_traceback\u001b[0m\u001b[0;34m(\u001b[0m\u001b[0mtraceback\u001b[0m\u001b[0;34m)\u001b[0m\u001b[0;34m\u001b[0m\u001b[0;34m\u001b[0m\u001b[0m\n\u001b[0m\u001b[1;32m    271\u001b[0m \u001b[0;34m\u001b[0m\u001b[0m\n\u001b[1;32m    272\u001b[0m         \u001b[0;31m# Check the savers for any exception that occurred during saving\u001b[0m\u001b[0;34m\u001b[0m\u001b[0;34m\u001b[0m\u001b[0;34m\u001b[0m\u001b[0m\n",
      "\u001b[0;32m/dali/lgrandi/strax/strax/strax/mailbox.py\u001b[0m in \u001b[0;36m_send_from\u001b[0;34m(self, iterable)\u001b[0m\n\u001b[1;32m    252\u001b[0m \u001b[0;34m\u001b[0m\u001b[0m\n\u001b[1;32m    253\u001b[0m                 \u001b[0;32mtry\u001b[0m\u001b[0;34m:\u001b[0m\u001b[0;34m\u001b[0m\u001b[0;34m\u001b[0m\u001b[0m\n\u001b[0;32m--> 254\u001b[0;31m                     \u001b[0mx\u001b[0m \u001b[0;34m=\u001b[0m \u001b[0mnext\u001b[0m\u001b[0;34m(\u001b[0m\u001b[0miterable\u001b[0m\u001b[0;34m)\u001b[0m\u001b[0;34m\u001b[0m\u001b[0;34m\u001b[0m\u001b[0m\n\u001b[0m\u001b[1;32m    255\u001b[0m                 \u001b[0;32mexcept\u001b[0m \u001b[0mStopIteration\u001b[0m\u001b[0;34m:\u001b[0m\u001b[0;34m\u001b[0m\u001b[0;34m\u001b[0m\u001b[0m\n\u001b[1;32m    256\u001b[0m                     \u001b[0;31m# No need to send this yet, close will do that\u001b[0m\u001b[0;34m\u001b[0m\u001b[0;34m\u001b[0m\u001b[0;34m\u001b[0m\u001b[0m\n",
      "\u001b[0;32m/dali/lgrandi/strax/strax/strax/plugin.py\u001b[0m in \u001b[0;36miter\u001b[0;34m(self, iters, executor)\u001b[0m\n\u001b[1;32m    392\u001b[0m                     \u001b[0;32myield\u001b[0m \u001b[0mnew_future\u001b[0m\u001b[0;34m\u001b[0m\u001b[0;34m\u001b[0m\u001b[0m\n\u001b[1;32m    393\u001b[0m                 \u001b[0;32melse\u001b[0m\u001b[0;34m:\u001b[0m\u001b[0;34m\u001b[0m\u001b[0;34m\u001b[0m\u001b[0m\n\u001b[0;32m--> 394\u001b[0;31m                     \u001b[0;32myield\u001b[0m \u001b[0mself\u001b[0m\u001b[0;34m.\u001b[0m\u001b[0mdo_compute\u001b[0m\u001b[0;34m(\u001b[0m\u001b[0mchunk_i\u001b[0m\u001b[0;34m=\u001b[0m\u001b[0mchunk_i\u001b[0m\u001b[0;34m,\u001b[0m \u001b[0;34m**\u001b[0m\u001b[0minputs_merged\u001b[0m\u001b[0;34m)\u001b[0m\u001b[0;34m\u001b[0m\u001b[0;34m\u001b[0m\u001b[0m\n\u001b[0m\u001b[1;32m    395\u001b[0m \u001b[0;34m\u001b[0m\u001b[0m\n\u001b[1;32m    396\u001b[0m         \u001b[0;32mexcept\u001b[0m \u001b[0mIterDone\u001b[0m\u001b[0;34m:\u001b[0m\u001b[0;34m\u001b[0m\u001b[0;34m\u001b[0m\u001b[0m\n",
      "\u001b[0;32m/dali/lgrandi/strax/strax/strax/plugin.py\u001b[0m in \u001b[0;36mdo_compute\u001b[0;34m(self, chunk_i, **kwargs)\u001b[0m\n\u001b[1;32m    490\u001b[0m             \u001b[0mkwargs\u001b[0m\u001b[0;34m[\u001b[0m\u001b[0;34m'start'\u001b[0m\u001b[0;34m]\u001b[0m \u001b[0;34m=\u001b[0m \u001b[0mstart\u001b[0m\u001b[0;34m\u001b[0m\u001b[0;34m\u001b[0m\u001b[0m\n\u001b[1;32m    491\u001b[0m             \u001b[0mkwargs\u001b[0m\u001b[0;34m[\u001b[0m\u001b[0;34m'end'\u001b[0m\u001b[0;34m]\u001b[0m \u001b[0;34m=\u001b[0m \u001b[0mend\u001b[0m\u001b[0;34m\u001b[0m\u001b[0;34m\u001b[0m\u001b[0m\n\u001b[0;32m--> 492\u001b[0;31m         \u001b[0mresult\u001b[0m \u001b[0;34m=\u001b[0m \u001b[0mself\u001b[0m\u001b[0;34m.\u001b[0m\u001b[0mcompute\u001b[0m\u001b[0;34m(\u001b[0m\u001b[0;34m**\u001b[0m\u001b[0mkwargs\u001b[0m\u001b[0;34m)\u001b[0m\u001b[0;34m\u001b[0m\u001b[0;34m\u001b[0m\u001b[0m\n\u001b[0m\u001b[1;32m    493\u001b[0m \u001b[0;34m\u001b[0m\u001b[0m\n\u001b[1;32m    494\u001b[0m         \u001b[0;32mreturn\u001b[0m \u001b[0mself\u001b[0m\u001b[0;34m.\u001b[0m\u001b[0m_fix_output\u001b[0m\u001b[0;34m(\u001b[0m\u001b[0mresult\u001b[0m\u001b[0;34m,\u001b[0m \u001b[0mstart\u001b[0m\u001b[0;34m,\u001b[0m \u001b[0mend\u001b[0m\u001b[0;34m)\u001b[0m\u001b[0;34m\u001b[0m\u001b[0;34m\u001b[0m\u001b[0m\n",
      "\u001b[0;32m~/software/epix/epix/simulator/fast_simulator.py\u001b[0m in \u001b[0;36mcompute\u001b[0;34m(self)\u001b[0m\n\u001b[1;32m    495\u001b[0m                                    \u001b[0mconfig\u001b[0m\u001b[0;34m=\u001b[0m\u001b[0mself\u001b[0m\u001b[0;34m.\u001b[0m\u001b[0mconfig\u001b[0m\u001b[0;34m[\u001b[0m\u001b[0;34m'fax_config'\u001b[0m\u001b[0;34m]\u001b[0m\u001b[0;34m,\u001b[0m\u001b[0;34m\u001b[0m\u001b[0;34m\u001b[0m\u001b[0m\n\u001b[1;32m    496\u001b[0m                                    resource=self.resource)\n\u001b[0;32m--> 497\u001b[0;31m         \u001b[0msimulated_data\u001b[0m \u001b[0;34m=\u001b[0m \u001b[0mself\u001b[0m\u001b[0;34m.\u001b[0m\u001b[0mSimulator\u001b[0m\u001b[0;34m.\u001b[0m\u001b[0mrun_simulator\u001b[0m\u001b[0;34m(\u001b[0m\u001b[0;34m)\u001b[0m\u001b[0;34m\u001b[0m\u001b[0;34m\u001b[0m\u001b[0m\n\u001b[0m\u001b[1;32m    498\u001b[0m \u001b[0;34m\u001b[0m\u001b[0m\n\u001b[1;32m    499\u001b[0m         simulated_data_chunk=self.chunk(\n",
      "\u001b[0;32m~/software/epix/epix/simulator/fast_simulator.py\u001b[0m in \u001b[0;36mrun_simulator\u001b[0;34m(self)\u001b[0m\n\u001b[1;32m    405\u001b[0m     \u001b[0;32mdef\u001b[0m \u001b[0mrun_simulator\u001b[0m\u001b[0;34m(\u001b[0m\u001b[0mself\u001b[0m\u001b[0;34m,\u001b[0m \u001b[0;34m)\u001b[0m\u001b[0;34m:\u001b[0m\u001b[0;34m\u001b[0m\u001b[0;34m\u001b[0m\u001b[0m\n\u001b[1;32m    406\u001b[0m         \u001b[0mself\u001b[0m\u001b[0;34m.\u001b[0m\u001b[0mcluster_events\u001b[0m\u001b[0;34m(\u001b[0m\u001b[0;34m)\u001b[0m\u001b[0;34m\u001b[0m\u001b[0;34m\u001b[0m\u001b[0m\n\u001b[0;32m--> 407\u001b[0;31m         \u001b[0mself\u001b[0m\u001b[0;34m.\u001b[0m\u001b[0msimulate\u001b[0m\u001b[0;34m(\u001b[0m\u001b[0;34m)\u001b[0m\u001b[0;34m\u001b[0m\u001b[0;34m\u001b[0m\u001b[0m\n\u001b[0m\u001b[1;32m    408\u001b[0m \u001b[0;34m\u001b[0m\u001b[0m\n\u001b[1;32m    409\u001b[0m         \u001b[0;32mreturn\u001b[0m \u001b[0mself\u001b[0m\u001b[0;34m.\u001b[0m\u001b[0minstructions\u001b[0m\u001b[0;34m\u001b[0m\u001b[0;34m\u001b[0m\u001b[0m\n",
      "\u001b[0;32m~/software/epix/epix/simulator/fast_simulator.py\u001b[0m in \u001b[0;36msimulate\u001b[0;34m(self)\u001b[0m\n\u001b[1;32m    399\u001b[0m     \u001b[0;32mdef\u001b[0m \u001b[0msimulate\u001b[0m\u001b[0;34m(\u001b[0m\u001b[0mself\u001b[0m\u001b[0;34m,\u001b[0m \u001b[0;34m)\u001b[0m\u001b[0;34m:\u001b[0m\u001b[0;34m\u001b[0m\u001b[0;34m\u001b[0m\u001b[0m\n\u001b[1;32m    400\u001b[0m         \u001b[0;32mfor\u001b[0m \u001b[0mfunc\u001b[0m \u001b[0;32min\u001b[0m \u001b[0mself\u001b[0m\u001b[0;34m.\u001b[0m\u001b[0msimulation_functions\u001b[0m\u001b[0;34m:\u001b[0m\u001b[0;34m\u001b[0m\u001b[0;34m\u001b[0m\u001b[0m\n\u001b[0;32m--> 401\u001b[0;31m             func(instructions=self.instructions,\n\u001b[0m\u001b[1;32m    402\u001b[0m                  \u001b[0mconfig\u001b[0m\u001b[0;34m=\u001b[0m\u001b[0mself\u001b[0m\u001b[0;34m.\u001b[0m\u001b[0mconfig\u001b[0m\u001b[0;34m,\u001b[0m\u001b[0;34m\u001b[0m\u001b[0;34m\u001b[0m\u001b[0m\n\u001b[1;32m    403\u001b[0m                  resource=self.resource)\n",
      "\u001b[0;32m~/software/epix/epix/simulator/fast_simulator.py\u001b[0m in \u001b[0;36mmake_s2\u001b[0;34m(instructions, config, resource)\u001b[0m\n\u001b[1;32m    289\u001b[0m                                                      resource=resource)\n\u001b[1;32m    290\u001b[0m \u001b[0;34m\u001b[0m\u001b[0m\n\u001b[0;32m--> 291\u001b[0;31m         sc_gain = Helpers.get_s2_light_yield(positions=xy,\n\u001b[0m\u001b[1;32m    292\u001b[0m                                              \u001b[0mconfig\u001b[0m\u001b[0;34m=\u001b[0m\u001b[0mconfig\u001b[0m\u001b[0;34m,\u001b[0m\u001b[0;34m\u001b[0m\u001b[0;34m\u001b[0m\u001b[0m\n\u001b[1;32m    293\u001b[0m                                              resource=resource)\n",
      "\u001b[0;32m~/software/epix/epix/simulator/fast_simulator.py\u001b[0m in \u001b[0;36mget_s2_light_yield\u001b[0;34m(positions, config, resource)\u001b[0m\n\u001b[1;32m    179\u001b[0m     \u001b[0;34m@\u001b[0m\u001b[0mstaticmethod\u001b[0m\u001b[0;34m\u001b[0m\u001b[0;34m\u001b[0m\u001b[0m\n\u001b[1;32m    180\u001b[0m     \u001b[0;32mdef\u001b[0m \u001b[0mget_s2_light_yield\u001b[0m\u001b[0;34m(\u001b[0m\u001b[0mpositions\u001b[0m\u001b[0;34m,\u001b[0m \u001b[0mconfig\u001b[0m\u001b[0;34m,\u001b[0m \u001b[0mresource\u001b[0m\u001b[0;34m)\u001b[0m\u001b[0;34m:\u001b[0m\u001b[0;34m\u001b[0m\u001b[0;34m\u001b[0m\u001b[0m\n\u001b[0;32m--> 181\u001b[0;31m         return wfsim.S2.get_s2_light_yield(positions=positions,\n\u001b[0m\u001b[1;32m    182\u001b[0m                                            \u001b[0mconfig\u001b[0m\u001b[0;34m=\u001b[0m\u001b[0mconfig\u001b[0m\u001b[0;34m,\u001b[0m\u001b[0;34m\u001b[0m\u001b[0;34m\u001b[0m\u001b[0m\n\u001b[1;32m    183\u001b[0m                                            resource=resource)\n",
      "\u001b[0;32m~/software/wfsim/wfsim/core.py\u001b[0m in \u001b[0;36mget_s2_light_yield\u001b[0;34m(positions, config, resource)\u001b[0m\n\u001b[1;32m    585\u001b[0m         \"\"\"\n\u001b[1;32m    586\u001b[0m         \u001b[0;31m# sc gain should has the unit of pe / electron, here we divide 1 + dpe to get nphoton / electron\u001b[0m\u001b[0;34m\u001b[0m\u001b[0;34m\u001b[0m\u001b[0;34m\u001b[0m\u001b[0m\n\u001b[0;32m--> 587\u001b[0;31m         \u001b[0msc_gain\u001b[0m \u001b[0;34m=\u001b[0m \u001b[0mresource\u001b[0m\u001b[0;34m.\u001b[0m\u001b[0ms2_correction_map\u001b[0m\u001b[0;34m(\u001b[0m\u001b[0mpositions\u001b[0m\u001b[0;34m)\u001b[0m\u001b[0;31m \u001b[0m\u001b[0;31m\\\u001b[0m\u001b[0;34m\u001b[0m\u001b[0;34m\u001b[0m\u001b[0m\n\u001b[0m\u001b[1;32m    588\u001b[0m                 \u001b[0;34m*\u001b[0m \u001b[0mconfig\u001b[0m\u001b[0;34m[\u001b[0m\u001b[0;34m's2_secondary_sc_gain'\u001b[0m\u001b[0;34m]\u001b[0m \u001b[0;34m/\u001b[0m \u001b[0;34m(\u001b[0m\u001b[0;36m1\u001b[0m \u001b[0;34m+\u001b[0m \u001b[0mconfig\u001b[0m\u001b[0;34m[\u001b[0m\u001b[0;34m'p_double_pe_emision'\u001b[0m\u001b[0;34m]\u001b[0m\u001b[0;34m)\u001b[0m\u001b[0;34m\u001b[0m\u001b[0;34m\u001b[0m\u001b[0m\n\u001b[1;32m    589\u001b[0m \u001b[0;34m\u001b[0m\u001b[0m\n",
      "\u001b[0;31mAttributeError\u001b[0m: 'Resource' object has no attribute 's2_correction_map'"
     ]
    }
   ],
   "source": [
    "st.make(run_id,'events_tpc')"
   ]
  },
  {
   "cell_type": "code",
   "execution_count": null,
   "metadata": {},
   "outputs": [],
   "source": [
    "instruction"
   ]
  },
  {
   "cell_type": "code",
   "execution_count": null,
   "metadata": {},
   "outputs": [],
   "source": [
    "event_numbers = np.unique(instructions['event_number'])"
   ]
  },
  {
   "cell_type": "code",
   "execution_count": null,
   "metadata": {},
   "outputs": [],
   "source": [
    "inst = instructions[instructions['event_number']==43]"
   ]
  },
  {
   "cell_type": "code",
   "execution_count": null,
   "metadata": {},
   "outputs": [],
   "source": [
    "from collections import Counter"
   ]
  },
  {
   "cell_type": "code",
   "execution_count": null,
   "metadata": {},
   "outputs": [],
   "source": [
    "Counter(instructions['event_number'])"
   ]
  },
  {
   "cell_type": "code",
   "execution_count": null,
   "metadata": {},
   "outputs": [],
   "source": [
    "import numba"
   ]
  },
  {
   "cell_type": "code",
   "execution_count": null,
   "metadata": {},
   "outputs": [],
   "source": [
    "@numba.njit()\n",
    "def _cluster():\n",
    "      } else {"
   ]
  },
  {
   "cell_type": "code",
   "execution_count": null,
   "metadata": {},
   "outputs": [],
   "source": [
    "inst=inst[inst['type']==2]"
   ]
  },
  {
   "cell_type": "code",
   "execution_count": null,
   "metadata": {},
   "outputs": [],
   "source": [
    "np.diff(inst['z'])"
   ]
  },
  {
   "cell_type": "code",
   "execution_count": null,
   "metadata": {},
   "outputs": [],
   "source": [
    "def _cluster(inst):\n",
    "    np.diff"
   ]
  },
  {
   "cell_type": "code",
   "execution_count": null,
   "metadata": {},
   "outputs": [],
   "source": [
    "import numpy as np"
   ]
  },
  {
   "cell_type": "code",
   "execution_count": null,
   "metadata": {},
   "outputs": [],
   "source": [
    "event_numbers = np.unique(instructions['event_number'])"
   ]
  },
  {
   "cell_type": "code",
   "execution_count": null,
   "metadata": {},
   "outputs": [],
   "source": [
    "@numba.njit\n",
    "def _merge_these_clusters(s2_area1, z1, s2_area2, z2):\n",
    "    sensitive_volume_ztop=0 #it's the ground mesh, the top liquid level is at 2.7; // mm\n",
    "    max_s2_area = max(s2_area1,s2_area2)\n",
    "    if max_s2_area>5000:\n",
    "        SeparationDistanceIntercept = 0.00024787 * 5000. + 3.4056346550312973\n",
    "        SeparationDistanceSlope = 5.5869678412887262e-07 * 5000. + 0.0044792968\n",
    "    else:\n",
    "        SeparationDistanceIntercept = \\\n",
    "          0.00024787 * max_s2_area + 3.4056346550312973\n",
    "        SeparationDistanceSlope = \\\n",
    "          5.5869678412887262e-07 * max_s2_area + 0.0044792968\n",
    "    SeparationDistance = \\\n",
    "        SeparationDistanceIntercept - \\\n",
    "        SeparationDistanceSlope * (-sensitive_volume_ztop +\\\n",
    "            (z1 + z2) * 0.5)\n",
    "    return z1-z2<SeparationDistance"
   ]
  },
  {
   "cell_type": "code",
   "execution_count": null,
   "metadata": {},
   "outputs": [],
   "source": [
    "@numba.njit\n",
    "def _macro_cluster_events(instructions):\n",
    "    for ix1 in range(len(instructions)):\n",
    "#         print(f\"ix1)\n",
    "        if instructions[ix1]['type']!=2:\n",
    "            continue\n",
    "        for ix2 in range(1,len(instructions[ix1:])+1):\n",
    "            print(ix1+ix2)\n",
    "            if instructions[ix1+ix2]['type']!=2:\n",
    "                continue\n",
    "            if instructions[ix1]['event_number']!=instructions[ix1+ix2]['event_number']:\n",
    "                break\n",
    "            if _merge_these_clusters(instructions[ix1]['amp'],instructions[ix1]['z'],\n",
    "                                     instructions[ix1+ix2]['amp'],instructions[ix1+ix2]['z']):\n",
    "                print('Merging!')\n",
    "                instructions[ix1+ix2]['x'] = (instructions[ix1]['x']+instructions[ix1+ix2]['x'])*0.5\n",
    "                instructions[ix1+ix2]['y'] = (instructions[ix1]['y']+instructions[ix1+ix2]['y'])*0.5\n",
    "                instructions[ix1+ix2]['z'] = (instructions[ix1]['z']+instructions[ix1+ix2]['z'])*0.5\n",
    "                instructions[ix1+ix2]['amp'] = int((instructions[ix1]['amp']+instructions[ix1+ix2]['amp'])*0.5)\n",
    "                instructions[ix1]['amp']=-1 #flag to throw this instruction away later"
   ]
  },
  {
   "cell_type": "code",
   "execution_count": null,
   "metadata": {},
   "outputs": [],
   "source": [
    "list(range(0))"
   ]
  },
  {
   "cell_type": "code",
   "execution_count": null,
   "metadata": {},
   "outputs": [],
   "source": [
    "instructions=np.load('./instructions.npy')"
   ]
  },
  {
   "cell_type": "code",
   "execution_count": null,
   "metadata": {},
   "outputs": [],
   "source": [
    "bla2(instructions)"
   ]
  },
  {
   "cell_type": "code",
   "execution_count": null,
   "metadata": {},
   "outputs": [],
   "source": []
  },
  {
   "cell_type": "code",
   "execution_count": null,
   "metadata": {},
   "outputs": [],
   "source": [
    "instructions['amp']"
   ]
  },
  {
   "cell_type": "code",
   "execution_count": null,
   "metadata": {},
   "outputs": [],
   "source": [
    "instructions['x']"
   ]
  },
  {
   "cell_type": "code",
   "execution_count": null,
   "metadata": {},
   "outputs": [],
   "source": [
    "instructions['x']"
   ]
  },
  {
   "cell_type": "code",
   "execution_count": null,
   "metadata": {},
   "outputs": [],
   "source": []
  }
 ],
 "metadata": {
  "kernelspec": {
   "display_name": "Python 3",
   "language": "python",
   "name": "python3"
  },
  "language_info": {
   "codemirror_mode": {
    "name": "ipython",
    "version": 3
   },
   "file_extension": ".py",
   "mimetype": "text/x-python",
   "name": "python",
   "nbconvert_exporter": "python",
   "pygments_lexer": "ipython3",
   "version": "3.8.5"
  }
 },
 "nbformat": 4,
 "nbformat_minor": 4
}
