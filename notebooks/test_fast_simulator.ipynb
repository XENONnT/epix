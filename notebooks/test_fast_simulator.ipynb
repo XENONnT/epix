{
 "cells": [
  {
   "cell_type": "code",
   "execution_count": 1,
   "metadata": {},
   "outputs": [],
   "source": [
    "import sys\n",
    "del sys.path[5]\n",
    "del sys.path[5]\n",
    "sys.path.insert(0,'/home/pgaemers/software/epix')\n",
    "sys.path.insert(0,'/home/pgaemers/software/wfsim')"
   ]
  },
  {
   "cell_type": "code",
   "execution_count": 2,
   "metadata": {
    "jupyter": {
     "outputs_hidden": false
    }
   },
   "outputs": [
    {
     "name": "stdout",
     "output_type": "stream",
     "text": [
      "Using nestpy version 1.3.0\n",
      "epix version : 0.1.1\n"
     ]
    }
   ],
   "source": [
    "import numpy as np\n",
    "import straxen\n",
    "import epix\n",
    "from epix.simulator.fast_simulator import StraxSimulator\n",
    "\n",
    "print(f'epix version : {epix.__version__}')"
   ]
  },
  {
   "cell_type": "code",
   "execution_count": 3,
   "metadata": {},
   "outputs": [
    {
     "data": {
      "text/plain": [
       "epix.simulator.fast_simulator.StraxSimulator"
      ]
     },
     "execution_count": 3,
     "metadata": {},
     "output_type": "execute_result"
    }
   ],
   "source": [
    "# MC output file as an input for epix/fast_simulator\n",
    "raw_data_dir='/dali/lgrandi/xenonnt/simulations/testing_epix_wfsim/'\n",
    "raw_data_filename='tpc_and_nveto_cryoneutrons_200.root'\n",
    "st = straxen.contexts.xenonnt_simulation(output_folder='/dali/lgrandi/pgaemers/strax_data_fast_sim')\n",
    "run_id = '3'\n",
    "st.register(StraxSimulator)"
   ]
  },
  {
   "cell_type": "code",
   "execution_count": 4,
   "metadata": {},
   "outputs": [],
   "source": [
    "# %rm -r './strax_data'\n",
    "fax_config='fax_config_nt_design.json'\n",
    "\n",
    "# epix config\n",
    "epix_args={'path':raw_data_dir,\n",
    "           'file_name':raw_data_filename, \n",
    "           'debug':True,           \n",
    "           'entry_start':0,\n",
    "           'entry_stop':100000,\n",
    "           'cut_by_eventid':False,\n",
    "           'micro_separation_time':10.0,\n",
    "           'micro_separation':0.005,\n",
    "           'tag_cluster_by':'time',\n",
    "           'max_delay':1e-7,\n",
    "           'source_rate':-1}\n",
    "\n",
    "# configuration files; to be moved into the plugin\n",
    "configuration_files={'nv_pmt_qe':'nveto_pmt_qe.json',\n",
    "                     'photon_area_distribution':'XENONnT_spe_distributions_20210305.csv',\n",
    "                     's1_relative_lce_map':straxen.pax_file('XENON1T_s1_xyz_lce_true_kr83m_SR1_pax-680_fdc-3d_v0.json'),\n",
    "                     's2_xy_correction_map':straxen.pax_file('XENON1T_s2_xy_ly_SR1_v2.2.json'),}\n",
    "\n",
    "st.config.update(dict(fax_config=fax_config,\n",
    "                      g4_file=raw_data_dir+raw_data_filename,\n",
    "                      epix_config=epix_args,\n",
    "                      configuration_files=configuration_files,\n",
    "                      fax_config_overrides= {'detector':'XENONnT',\n",
    "                                             \"enable_field_dependencies\": {\n",
    "                                            \"survival_probability_map\": False,\n",
    "                                            \"drift_speed_map\": False,\n",
    "                                            \"diffusion_longitudinal_map\": False,\n",
    "                                            \"diffusion_radial_map\": False,\n",
    "                                            \"diffusion_azimuthal_map\": False}}))"
   ]
  },
  {
   "cell_type": "code",
   "execution_count": 5,
   "metadata": {},
   "outputs": [
    {
     "data": {
      "text/plain": [
       "epix.simulator.fast_simulator.StraxSimulator"
      ]
     },
     "execution_count": 5,
     "metadata": {},
     "output_type": "execute_result"
    }
   ],
   "source": [
    "st.register(StraxSimulator)"
   ]
  },
  {
   "cell_type": "code",
   "execution_count": 6,
   "metadata": {},
   "outputs": [
    {
     "name": "stderr",
     "output_type": "stream",
     "text": [
      "WARNING:wfsim.resource:Trying to use the private repo to load  locally\n",
      "WARNING:wfsim.resource:Trying to use the private repo to load  locally\n",
      "WARNING:strax:Could not estimate run start and end time from run metadata: assuming it is 0 and inf\n"
     ]
    },
    {
     "name": "stdout",
     "output_type": "stream",
     "text": [
      "epix configuration:  {'path': '/dali/lgrandi/xenonnt/simulations/testing_epix_wfsim/', 'file_name': 'tpc_and_nveto_cryoneutrons_200.root', 'debug': True, 'entry_start': 0, 'entry_stop': 100000, 'cut_by_eventid': False, 'micro_separation_time': 10.0, 'micro_separation': 0.005, 'tag_cluster_by': 'time', 'max_delay': 1e-07, 'source_rate': -1, 'detector_config': [<epix.detector_volumes.SensitiveVolume object at 0x7f073c8b5a30>, <epix.detector_volumes.SensitiveVolume object at 0x7f073c8b54f0>], 'outer_cylinder': {'max_z': 7.3936, 'min_z': -154.6555, 'max_r': 66.4}}\n",
      "Total entries in input file = 198\n",
      "Starting to read from output file entry 0\n",
      "Ending read in at output file entry 100000\n",
      "It took 1.6784 sec to load data.\n",
      "Finding clusters of interactions with a dr = 0.005 mm and dt = 10.0 ns\n",
      "It took 3.5242 sec to find clusters.\n",
      "It took 3.7205 sec to merge clusters.\n",
      "Removing clusters not in volumes: TPC BelowCathode\n",
      "Number of clusters before: 6120\n",
      "Number of clusters after: 6047\n",
      "Assigning electric field to clusters\n",
      "Generating photons and electrons for events\n",
      "It took 0.9432 sec to get quanta.\n",
      "Clean event separation\n"
     ]
    },
    {
     "name": "stderr",
     "output_type": "stream",
     "text": [
      "/home/pgaemers/software/epix/epix/quanta_generation.py:51: UserWarning: Energy deposition of 206.56977462768555 keV beyond NEST validity for NR model of 200 keV - Remove Interaction\n",
      "  warnings.warn(f\"Energy deposition of {en} keV beyond NEST validity for NR model of 200 keV - Remove Interaction\")\n",
      "/home/pgaemers/software/epix/epix/quanta_generation.py:51: UserWarning: Energy deposition of 279.19512462615967 keV beyond NEST validity for NR model of 200 keV - Remove Interaction\n",
      "  warnings.warn(f\"Energy deposition of {en} keV beyond NEST validity for NR model of 200 keV - Remove Interaction\")\n",
      "/dali/lgrandi/strax/miniconda3/envs/strax/lib/python3.8/site-packages/numpy/lib/function_base.py:2192: RuntimeWarning: overflow encountered in ? (vectorized)\n",
      "  outputs = ufunc(*inputs)\n",
      "/dali/lgrandi/strax/miniconda3/envs/strax/lib/python3.8/site-packages/numpy/lib/function_base.py:2192: RuntimeWarning: invalid value encountered in ? (vectorized)\n",
      "  outputs = ufunc(*inputs)\n"
     ]
    },
    {
     "name": "stdout",
     "output_type": "stream",
     "text": [
      "Source finished!\n"
     ]
    }
   ],
   "source": [
    "st.make(run_id,'events_tpc')"
   ]
  },
  {
   "cell_type": "code",
   "execution_count": 7,
   "metadata": {},
   "outputs": [],
   "source": [
    "# @numba.njit\n",
    "# def _merge_these_clusters(s2_area1, z1, s2_area2, z2):\n",
    "#     sensitive_volume_ztop=0 #it's the ground mesh, the top liquid level is at 2.7; // mm\n",
    "#     max_s2_area = max(s2_area1,s2_area2)\n",
    "#     if max_s2_area>5000:\n",
    "#         SeparationDistanceIntercept = 0.00024787 * 5000. + 3.4056346550312973\n",
    "#         SeparationDistanceSlope = 5.5869678412887262e-07 * 5000. + 0.0044792968\n",
    "#     else:\n",
    "#         SeparationDistanceIntercept = \\\n",
    "#           0.00024787 * max_s2_area + 3.4056346550312973\n",
    "#         SeparationDistanceSlope = \\\n",
    "#           5.5869678412887262e-07 * max_s2_area + 0.0044792968\n",
    "#     SeparationDistance = \\\n",
    "#         SeparationDistanceIntercept - \\\n",
    "#         SeparationDistanceSlope * (-sensitive_volume_ztop +\\\n",
    "#             (z1 + z2) * 0.5)\n",
    "#     return z1-z2<SeparationDistance"
   ]
  },
  {
   "cell_type": "code",
   "execution_count": 8,
   "metadata": {},
   "outputs": [],
   "source": [
    "# @numba.njit\n",
    "# def _macro_cluster_events(instructions):\n",
    "#     for ix1 in range(len(instructions)):\n",
    "# #         print(f\"ix1)\n",
    "#         if instructions[ix1]['type']!=2:\n",
    "#             continue\n",
    "#         for ix2 in range(1,len(instructions[ix1:])+1):\n",
    "#             print(ix1+ix2)\n",
    "#             if instructions[ix1+ix2]['type']!=2:\n",
    "#                 continue\n",
    "#             if instructions[ix1]['event_number']!=instructions[ix1+ix2]['event_number']:\n",
    "#                 break\n",
    "#             if _merge_these_clusters(instructions[ix1]['amp'],instructions[ix1]['z'],\n",
    "#                                      instructions[ix1+ix2]['amp'],instructions[ix1+ix2]['z']):\n",
    "#                 print('Merging!')\n",
    "#                 instructions[ix1+ix2]['x'] = (instructions[ix1]['x']+instructions[ix1+ix2]['x'])*0.5\n",
    "#                 instructions[ix1+ix2]['y'] = (instructions[ix1]['y']+instructions[ix1+ix2]['y'])*0.5\n",
    "#                 instructions[ix1+ix2]['z'] = (instructions[ix1]['z']+instructions[ix1+ix2]['z'])*0.5\n",
    "#                 instructions[ix1+ix2]['amp'] = int((instructions[ix1]['amp']+instructions[ix1+ix2]['amp'])*0.5)\n",
    "#                 instructions[ix1]['amp']=-1 #flag to throw this instruction away later"
   ]
  }
 ],
 "metadata": {
  "kernelspec": {
   "display_name": "Python 3",
   "language": "python",
   "name": "python3"
  },
  "language_info": {
   "codemirror_mode": {
    "name": "ipython",
    "version": 3
   },
   "file_extension": ".py",
   "mimetype": "text/x-python",
   "name": "python",
   "nbconvert_exporter": "python",
   "pygments_lexer": "ipython3",
   "version": "3.8.5"
  }
 },
 "nbformat": 4,
 "nbformat_minor": 4
}
