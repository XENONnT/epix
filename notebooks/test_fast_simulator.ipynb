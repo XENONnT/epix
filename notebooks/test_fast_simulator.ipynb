{
 "cells": [
  {
   "cell_type": "code",
   "execution_count": null,
   "metadata": {},
   "outputs": [],
   "source": [
    "import sys\n",
    "del sys.path[5]\n",
    "del sys.path[5]\n",
    "sys.path.insert(0,'/home/pgaemers/software/epix')"
   ]
  },
  {
   "cell_type": "code",
   "execution_count": null,
   "metadata": {
    "jupyter": {
     "outputs_hidden": false
    }
   },
   "outputs": [],
   "source": [
    "import time\n",
    "import pandas as pd\n",
    "import straxen\n",
    "import epix\n",
    "from epix.simulator.fast_simulator import StraxSimulator\n",
    "\n",
    "print(f'epix version : {epix.__version__}')\n",
    "\n",
    "def monitor_time(prev_time, task):\n",
    "    t = time.time()\n",
    "    print(f'It took {(t - prev_time):.4f} sec to {task}')\n",
    "    return t\n",
    "# MC output file as an input for epix/fast_simulator\n",
    "\n",
    "raw_data_dir='/dali/lgrandi/xenonnt/simulations/testing_epix_wfsim/'\n",
    "raw_data_filename='tpc_and_nveto_cryoneutrons_200.root'\n",
    "st = straxen.contexts.xenonnt_simulation(output_folder='/dali/lgrandi/pgaemers/strax_data_fast_sim')\n",
    "run_id = '1'\n",
    "st.register(StraxSimulator)\n",
    "st.set_config=(dict(nchunk=1, event_rate=5, chunk_size=500,))"
   ]
  },
  {
   "cell_type": "code",
   "execution_count": null,
   "metadata": {},
   "outputs": [],
   "source": [
    "# %rm -r './strax_data'\n",
    "\n",
    "nt_config=straxen.get_resource('/home/pgaemers/software/private_nt_aux_files/\\\n",
    "sim_files/fax_config_nt_low_field.json', fmt='json')\n",
    "\n",
    "# epix config\n",
    "\n",
    "epix_args={'path':raw_data_dir,\n",
    "           'file_name':raw_data_filename, \n",
    "           'debug':True,           \n",
    "           'entry_start':0,\n",
    "           'entry_stop':100000,\n",
    "           'cut_by_eventid':False,\n",
    "           'micro_separation_time':10.0,\n",
    "           'micro_separation':0.005,\n",
    "           'tag_cluster_by':'time',\n",
    "           'max_delay':1e-7,\n",
    "           'source_rate':-1}\n",
    "\n",
    "# configuration files; to be moved into the plugin\n",
    "\n",
    "configuration_files={'s1_relative_lce_map':straxen.pax_file('XENON1T_s1_xyz_lce_true_kr83m_SR1_pax-680_fdc-3d_v0.json'),\n",
    "                     's2_xy_correction_map':straxen.pax_file('XENON1T_s2_xy_ly_SR1_v2.2.json'),\n",
    "                     'photon_area_distribution':'XENONnT_spe_distributions_20210305.csv',\n",
    "                     's1_pattern_map':'XENONnT_s1_xyz_patterns_LCE_corrected_qes_MCva43fa9b_wires.pkl',\n",
    "                     's2_pattern_map':'XENONnT_s2_xy_patterns_LCE_corrected_qes_MCva43fa9b_wires.pkl',\n",
    "                     'nv_pmt_qe':'nveto_pmt_qe.json'}\n",
    "\n",
    "st.config.update(dict(fax_config=nt_config,\n",
    "                      g4_file=raw_data_dir+raw_data_filename,\n",
    "                      epix_config=epix_args,\n",
    "                      configuration_files=configuration_files))"
   ]
  },
  {
   "cell_type": "code",
   "execution_count": null,
   "metadata": {},
   "outputs": [],
   "source": [
    "st.register(StraxSimulator)"
   ]
  },
  {
   "cell_type": "code",
   "execution_count": null,
   "metadata": {},
   "outputs": [],
   "source": [
    "st.make(run_id,'events_tpc')"
   ]
  }
 ],
 "metadata": {
  "kernelspec": {
   "display_name": "Python 3",
   "language": "python",
   "name": "python3"
  },
  "language_info": {
   "codemirror_mode": {
    "name": "ipython",
    "version": 3
   },
   "file_extension": ".py",
   "mimetype": "text/x-python",
   "name": "python",
   "nbconvert_exporter": "python",
   "pygments_lexer": "ipython3",
   "version": "3.8.5"
  }
 },
 "nbformat": 4,
 "nbformat_minor": 4
}
