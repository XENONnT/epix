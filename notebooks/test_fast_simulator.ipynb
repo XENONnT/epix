{
 "cells": [
  {
   "cell_type": "code",
   "execution_count": 1,
   "metadata": {},
   "outputs": [],
   "source": [
    "import sys\n",
    "del sys.path[5]\n",
    "del sys.path[5]\n",
    "sys.path.insert(0,'/home/pgaemers/software/epix')\n",
    "sys.path.insert(0,'/home/pgaemers/software/wfsim')"
   ]
  },
  {
   "cell_type": "code",
   "execution_count": 2,
   "metadata": {
    "jupyter": {
     "outputs_hidden": false
    }
   },
   "outputs": [
    {
     "name": "stdout",
     "output_type": "stream",
     "text": [
      "Using nestpy version 1.3.0\n",
      "epix version : 0.0.6\n"
     ]
    }
   ],
   "source": [
    "import time\n",
    "import pandas as pd\n",
    "import straxen\n",
    "import epix\n",
    "from epix.simulator.fast_simulator import StraxSimulator\n",
    "\n",
    "print(f'epix version : {epix.__version__}')\n",
    "\n",
    "def monitor_time(prev_time, task):\n",
    "    t = time.time()\n",
    "    print(f'It took {(t - prev_time):.4f} sec to {task}')\n",
    "    return t\n",
    "# MC output file as an input for epix/fast_simulator\n",
    "\n",
    "raw_data_dir='/dali/lgrandi/xenonnt/simulations/testing_epix_wfsim/'\n",
    "raw_data_filename='tpc_and_nveto_cryoneutrons_200.root'\n",
    "st = straxen.contexts.xenonnt_simulation(output_folder='/dali/lgrandi/pgaemers/strax_data_fast_sim')\n",
    "run_id = '1'\n",
    "st.register(StraxSimulator)\n",
    "st.set_config=(dict(nchunk=1, event_rate=5, chunk_size=500,))"
   ]
  },
  {
   "cell_type": "code",
   "execution_count": 3,
   "metadata": {},
   "outputs": [],
   "source": [
    "# %rm -r './strax_data'\n",
    "\n",
    "nt_config=straxen.get_resource('/home/pgaemers/software/private_nt_aux_files/\\\n",
    "sim_files/fax_config_nt_low_field.json', fmt='json')\n",
    "\n",
    "# epix config\n",
    "\n",
    "epix_args={'path':raw_data_dir,\n",
    "           'file_name':raw_data_filename, \n",
    "           'debug':True,           \n",
    "           'entry_start':0,\n",
    "           'entry_stop':100000,\n",
    "           'cut_by_eventid':False,\n",
    "           'micro_separation_time':10.0,\n",
    "           'micro_separation':0.005,\n",
    "           'tag_cluster_by':'time',\n",
    "           'max_delay':1e-7,\n",
    "           'source_rate':-1}\n",
    "\n",
    "# configuration files; to be moved into the plugin\n",
    "\n",
    "configuration_files={'detector':'XENONnT',\n",
    "                     's1_relative_lce_map':straxen.pax_file('XENON1T_s1_xyz_lce_true_kr83m_SR1_pax-680_fdc-3d_v0.json'),\n",
    "                     's2_xy_correction_map':straxen.pax_file('XENON1T_s2_xy_ly_SR1_v2.2.json'),\n",
    "                     'photon_area_distribution':'XENONnT_spe_distributions_20210305.csv',\n",
    "                     's1_pattern_map':'XENONnT_s1_xyz_patterns_LCE_corrected_qes_MCva43fa9b_wires.pkl',\n",
    "                     's2_pattern_map':'XENONnT_s2_xy_patterns_LCE_corrected_qes_MCva43fa9b_wires.pkl',\n",
    "                     'nv_pmt_qe':'nveto_pmt_qe.json',}\n",
    "\n",
    "st.config.update(dict(fax_config=nt_config,\n",
    "                      g4_file=raw_data_dir+raw_data_filename,\n",
    "                      epix_config=epix_args,\n",
    "                      configuration_files=configuration_files,\n",
    "                     fax_config_overrides= {\"enable_field_dependencies\": {\n",
    "                                            \"survival_probability_map\": False,\n",
    "                                            \"drift_speed_map\": False,\n",
    "                                            \"diffusion_longitudinal_map\": False,\n",
    "                                            \"diffusion_radial_map\": False,\n",
    "                                            \"diffusion_azimuthal_map\": False}}))"
   ]
  },
  {
   "cell_type": "code",
   "execution_count": 4,
   "metadata": {},
   "outputs": [
    {
     "data": {
      "text/plain": [
       "epix.simulator.fast_simulator.StraxSimulator"
      ]
     },
     "execution_count": 4,
     "metadata": {},
     "output_type": "execute_result"
    }
   ],
   "source": [
    "st.register(StraxSimulator)"
   ]
  },
  {
   "cell_type": "code",
   "execution_count": 6,
   "metadata": {},
   "outputs": [
    {
     "name": "stderr",
     "output_type": "stream",
     "text": [
      "WARNING:strax:Could not estimate run start and end time from run metadata: assuming it is 0 and inf\n"
     ]
    },
    {
     "name": "stdout",
     "output_type": "stream",
     "text": [
      "epix configuration:  {'path': '/dali/lgrandi/xenonnt/simulations/testing_epix_wfsim/', 'file_name': 'tpc_and_nveto_cryoneutrons_200.root', 'debug': True, 'entry_start': 0, 'entry_stop': 100000, 'cut_by_eventid': False, 'micro_separation_time': 10.0, 'micro_separation': 0.005, 'tag_cluster_by': 'time', 'max_delay': 1e-07, 'source_rate': -1, 'detector_config': [<epix.detector_volumes.SensitiveVolume object at 0x7f24903ed160>, <epix.detector_volumes.SensitiveVolume object at 0x7f24903ed250>], 'outer_cylinder': {'max_z': 7.3936, 'min_z': -154.6555, 'max_r': 66.4}}\n",
      "Total entries in input file = 198\n",
      "Starting to read from output file entry 0\n",
      "Ending read in at output file entry 100000\n",
      "It took 1.7249 sec to load data.\n",
      "Finding clusters of interactions with a dr = 0.005 mm and dt = 10.0 ns\n",
      "It took 3.6142 sec to find clusters.\n",
      "It took 3.0700 sec to merge clusters.\n",
      "Removing clusters not in volumes: TPC BelowCathode\n",
      "Number of clusters before: 6120\n",
      "Number of clusters after: 6047\n",
      "Assigning electric field to clusters\n",
      "Generating photons and electrons for events\n",
      "It took 1.0529 sec to get quanta.\n",
      "Clean event separation\n"
     ]
    },
    {
     "name": "stderr",
     "output_type": "stream",
     "text": [
      "/home/pgaemers/software/epix/epix/quanta_generation.py:51: UserWarning: Energy deposition of 206.56977462768555 keV beyond NEST validity for NR model of 200 keV - Remove Interaction\n",
      "  warnings.warn(f\"Energy deposition of {en} keV beyond NEST validity for NR model of 200 keV - Remove Interaction\")\n",
      "/home/pgaemers/software/epix/epix/quanta_generation.py:51: UserWarning: Energy deposition of 279.19512462615967 keV beyond NEST validity for NR model of 200 keV - Remove Interaction\n",
      "  warnings.warn(f\"Energy deposition of {en} keV beyond NEST validity for NR model of 200 keV - Remove Interaction\")\n",
      "/dali/lgrandi/strax/miniconda3/envs/strax/lib/python3.8/site-packages/numpy/lib/function_base.py:2192: RuntimeWarning: overflow encountered in ? (vectorized)\n",
      "  outputs = ufunc(*inputs)\n",
      "/dali/lgrandi/strax/miniconda3/envs/strax/lib/python3.8/site-packages/numpy/lib/function_base.py:2192: RuntimeWarning: invalid value encountered in ? (vectorized)\n",
      "  outputs = ufunc(*inputs)\n"
     ]
    },
    {
     "name": "stdout",
     "output_type": "stream",
     "text": [
      "Source finished!\n"
     ]
    }
   ],
   "source": [
    "st.make(run_id,'events_tpc')"
   ]
  }
 ],
 "metadata": {
  "kernelspec": {
   "display_name": "Python 3",
   "language": "python",
   "name": "python3"
  },
  "language_info": {
   "codemirror_mode": {
    "name": "ipython",
    "version": 3
   },
   "file_extension": ".py",
   "mimetype": "text/x-python",
   "name": "python",
   "nbconvert_exporter": "python",
   "pygments_lexer": "ipython3",
   "version": "3.8.5"
  }
 },
 "nbformat": 4,
 "nbformat_minor": 4
}
